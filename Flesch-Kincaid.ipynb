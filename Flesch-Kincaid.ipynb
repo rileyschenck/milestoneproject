{
 "cells": [
  {
   "cell_type": "code",
   "execution_count": 44,
   "metadata": {},
   "outputs": [],
   "source": [
    "import pandas as pd\n",
    "import numpy as np\n",
    "import textstat"
   ]
  },
  {
   "cell_type": "code",
   "execution_count": 45,
   "metadata": {},
   "outputs": [],
   "source": [
    "rm = pd.read_csv('Maddow_cleaned.tsv',sep='\\t').drop(columns='Unnamed: 0')\n",
    "tc = pd.read_csv('Tucker_transcripts_2.10.23.tsv', sep='\\t').drop(columns='Unnamed: 0')"
   ]
  },
  {
   "cell_type": "code",
   "execution_count": 46,
   "metadata": {},
   "outputs": [
    {
     "data": {
      "text/html": [
       "<div>\n",
       "<style scoped>\n",
       "    .dataframe tbody tr th:only-of-type {\n",
       "        vertical-align: middle;\n",
       "    }\n",
       "\n",
       "    .dataframe tbody tr th {\n",
       "        vertical-align: top;\n",
       "    }\n",
       "\n",
       "    .dataframe thead th {\n",
       "        text-align: right;\n",
       "    }\n",
       "</style>\n",
       "<table border=\"1\" class=\"dataframe\">\n",
       "  <thead>\n",
       "    <tr style=\"text-align: right;\">\n",
       "      <th></th>\n",
       "      <th>url</th>\n",
       "      <th>timestamp</th>\n",
       "      <th>title</th>\n",
       "      <th>text</th>\n",
       "    </tr>\n",
       "  </thead>\n",
       "  <tbody>\n",
       "    <tr>\n",
       "      <th>0</th>\n",
       "      <td>https://www.foxnews.com/opinion/tucker-carlson...</td>\n",
       "      <td>February 9, 2023 10:19pm EST</td>\n",
       "      <td>TUCKER CARLSON: Self-defense is becoming illeg...</td>\n",
       "      <td>WARNING: Graphic footage—Fox News host Tucker ...</td>\n",
       "    </tr>\n",
       "    <tr>\n",
       "      <th>1</th>\n",
       "      <td>https://www.foxnews.com/opinion/tucker-carlson...</td>\n",
       "      <td>February 8, 2023 10:25pm EST</td>\n",
       "      <td>TUCKER CARLSON: The lies 'just kept coming' du...</td>\n",
       "      <td>Fox News host Tucker Carlson reacts to Presid...</td>\n",
       "    </tr>\n",
       "    <tr>\n",
       "      <th>2</th>\n",
       "      <td>https://www.foxnews.com/opinion/tucker-carlson...</td>\n",
       "      <td>February 7, 2023 10:51pm EST</td>\n",
       "      <td>TUCKER CARLSON: America's problems are fixable...</td>\n",
       "      <td>Fox News host Tucker Carlson breaks down the t...</td>\n",
       "    </tr>\n",
       "    <tr>\n",
       "      <th>3</th>\n",
       "      <td>https://www.foxnews.com/opinion/tucker-carlson...</td>\n",
       "      <td>February 6, 2023 9:33pm EST</td>\n",
       "      <td>TUCKER CARLSON: The people who owe you the tru...</td>\n",
       "      <td>Fox News host Tucker Carlson calls out the Bid...</td>\n",
       "    </tr>\n",
       "    <tr>\n",
       "      <th>4</th>\n",
       "      <td>https://www.foxnews.com/opinion/tucker-carlson...</td>\n",
       "      <td>February 3, 2023 9:59pm EST</td>\n",
       "      <td>TUCKER CARLSON: Biden administration's stance ...</td>\n",
       "      <td>Fox News host Tucker Carlson takes on the Bid...</td>\n",
       "    </tr>\n",
       "    <tr>\n",
       "      <th>...</th>\n",
       "      <td>...</td>\n",
       "      <td>...</td>\n",
       "      <td>...</td>\n",
       "      <td>...</td>\n",
       "    </tr>\n",
       "    <tr>\n",
       "      <th>642</th>\n",
       "      <td>https://www.foxnews.com/opinion/tucker-carlson...</td>\n",
       "      <td>November 19, 2019 1:30pm EST</td>\n",
       "      <td>Tucker Carlson: Media, federal government toug...</td>\n",
       "      <td>Stone found guilty on all seven counts; Epstei...</td>\n",
       "    </tr>\n",
       "    <tr>\n",
       "      <th>643</th>\n",
       "      <td>https://www.foxnews.com/opinion/tucker-carlson...</td>\n",
       "      <td>November 15, 2019 1:09pm EST</td>\n",
       "      <td>Tucker Carlson: Trump impeachment inquiry will...</td>\n",
       "      <td>Media goes into overdrive on impeachment heari...</td>\n",
       "    </tr>\n",
       "    <tr>\n",
       "      <th>644</th>\n",
       "      <td>https://www.foxnews.com/opinion/tucker-carlson...</td>\n",
       "      <td>November 14, 2019 9:24am EST</td>\n",
       "      <td>Tucker Carlson: It's never been clear what Dem...</td>\n",
       "      <td>First public impeachment hearings take place.I...</td>\n",
       "    </tr>\n",
       "    <tr>\n",
       "      <th>645</th>\n",
       "      <td>https://www.foxnews.com/opinion/tucker-carlson...</td>\n",
       "      <td>November 13, 2019 10:13am EST</td>\n",
       "      <td>Tucker Carlson: The end of free speech – What ...</td>\n",
       "      <td>Liberals working to crack down on the First Am...</td>\n",
       "    </tr>\n",
       "    <tr>\n",
       "      <th>646</th>\n",
       "      <td>https://www.foxnews.com/opinion/tucker-carlson...</td>\n",
       "      <td>November 12, 2019 10:08am EST</td>\n",
       "      <td>Tucker Carlson: Elizabeth Warren's enemies on ...</td>\n",
       "      <td>Warren's campaign backed by the same wealthy d...</td>\n",
       "    </tr>\n",
       "  </tbody>\n",
       "</table>\n",
       "<p>647 rows × 4 columns</p>\n",
       "</div>"
      ],
      "text/plain": [
       "                                                   url  \\\n",
       "0    https://www.foxnews.com/opinion/tucker-carlson...   \n",
       "1    https://www.foxnews.com/opinion/tucker-carlson...   \n",
       "2    https://www.foxnews.com/opinion/tucker-carlson...   \n",
       "3    https://www.foxnews.com/opinion/tucker-carlson...   \n",
       "4    https://www.foxnews.com/opinion/tucker-carlson...   \n",
       "..                                                 ...   \n",
       "642  https://www.foxnews.com/opinion/tucker-carlson...   \n",
       "643  https://www.foxnews.com/opinion/tucker-carlson...   \n",
       "644  https://www.foxnews.com/opinion/tucker-carlson...   \n",
       "645  https://www.foxnews.com/opinion/tucker-carlson...   \n",
       "646  https://www.foxnews.com/opinion/tucker-carlson...   \n",
       "\n",
       "                          timestamp  \\\n",
       "0      February 9, 2023 10:19pm EST   \n",
       "1      February 8, 2023 10:25pm EST   \n",
       "2      February 7, 2023 10:51pm EST   \n",
       "3       February 6, 2023 9:33pm EST   \n",
       "4       February 3, 2023 9:59pm EST   \n",
       "..                              ...   \n",
       "642    November 19, 2019 1:30pm EST   \n",
       "643    November 15, 2019 1:09pm EST   \n",
       "644    November 14, 2019 9:24am EST   \n",
       "645   November 13, 2019 10:13am EST   \n",
       "646   November 12, 2019 10:08am EST   \n",
       "\n",
       "                                                 title  \\\n",
       "0    TUCKER CARLSON: Self-defense is becoming illeg...   \n",
       "1    TUCKER CARLSON: The lies 'just kept coming' du...   \n",
       "2    TUCKER CARLSON: America's problems are fixable...   \n",
       "3    TUCKER CARLSON: The people who owe you the tru...   \n",
       "4    TUCKER CARLSON: Biden administration's stance ...   \n",
       "..                                                 ...   \n",
       "642  Tucker Carlson: Media, federal government toug...   \n",
       "643  Tucker Carlson: Trump impeachment inquiry will...   \n",
       "644  Tucker Carlson: It's never been clear what Dem...   \n",
       "645  Tucker Carlson: The end of free speech – What ...   \n",
       "646  Tucker Carlson: Elizabeth Warren's enemies on ...   \n",
       "\n",
       "                                                  text  \n",
       "0    WARNING: Graphic footage—Fox News host Tucker ...  \n",
       "1     Fox News host Tucker Carlson reacts to Presid...  \n",
       "2    Fox News host Tucker Carlson breaks down the t...  \n",
       "3    Fox News host Tucker Carlson calls out the Bid...  \n",
       "4     Fox News host Tucker Carlson takes on the Bid...  \n",
       "..                                                 ...  \n",
       "642  Stone found guilty on all seven counts; Epstei...  \n",
       "643  Media goes into overdrive on impeachment heari...  \n",
       "644  First public impeachment hearings take place.I...  \n",
       "645  Liberals working to crack down on the First Am...  \n",
       "646  Warren's campaign backed by the same wealthy d...  \n",
       "\n",
       "[647 rows x 4 columns]"
      ]
     },
     "execution_count": 46,
     "metadata": {},
     "output_type": "execute_result"
    }
   ],
   "source": [
    "tc"
   ]
  },
  {
   "cell_type": "code",
   "execution_count": 47,
   "metadata": {},
   "outputs": [],
   "source": [
    "tc.rename(columns = {'url':'URL', 'text':'transcript'}, inplace = True)"
   ]
  },
  {
   "cell_type": "code",
   "execution_count": 48,
   "metadata": {},
   "outputs": [],
   "source": [
    "rm = rm.drop('Unnamed: 0.1', axis = 1)"
   ]
  },
  {
   "attachments": {},
   "cell_type": "markdown",
   "metadata": {},
   "source": [
    "### Remove duplicates from rm and tc"
   ]
  },
  {
   "cell_type": "code",
   "execution_count": 49,
   "metadata": {},
   "outputs": [],
   "source": [
    "rm = rm.drop_duplicates(subset=None, keep= 'first', inplace=False)\n",
    "tc = tc.drop_duplicates(subset=None, keep= 'first', inplace=False)"
   ]
  },
  {
   "cell_type": "code",
   "execution_count": 50,
   "metadata": {},
   "outputs": [
    {
     "name": "stdout",
     "output_type": "stream",
     "text": [
      "647\n"
     ]
    }
   ],
   "source": [
    "print(len(tc))"
   ]
  },
  {
   "attachments": {},
   "cell_type": "markdown",
   "metadata": {},
   "source": [
    "### Add a 'host' column to rm and tc"
   ]
  },
  {
   "cell_type": "code",
   "execution_count": 51,
   "metadata": {},
   "outputs": [],
   "source": [
    "rm['host'] = 'Rachel Maddow'\n",
    "tc['host'] = 'Tucker Carlson'"
   ]
  },
  {
   "cell_type": "code",
   "execution_count": 52,
   "metadata": {},
   "outputs": [],
   "source": [
    "# Change the format of the 'timestamp' columnn for tc\n",
    "from datetime import datetime\n",
    "from dateutil.parser import parse\n",
    "\n",
    "def string_to_datetime(datetime_str):\n",
    "    datetime_obj = parse(datetime_str, fuzzy = True)\n",
    "    return datetime_obj"
   ]
  },
  {
   "cell_type": "code",
   "execution_count": 53,
   "metadata": {},
   "outputs": [
    {
     "name": "stderr",
     "output_type": "stream",
     "text": [
      "C:\\Users\\rache\\AppData\\Local\\Packages\\PythonSoftwareFoundation.Python.3.11_qbz5n2kfra8p0\\LocalCache\\local-packages\\Python311\\site-packages\\dateutil\\parser\\_parser.py:1207: UnknownTimezoneWarning: tzname EST identified but not understood.  Pass `tzinfos` argument in order to correctly return a timezone-aware datetime.  In a future version, this will raise an exception.\n",
      "  warnings.warn(\"tzname {tzname} identified but not understood.  \"\n",
      "C:\\Users\\rache\\AppData\\Local\\Packages\\PythonSoftwareFoundation.Python.3.11_qbz5n2kfra8p0\\LocalCache\\local-packages\\Python311\\site-packages\\dateutil\\parser\\_parser.py:1207: UnknownTimezoneWarning: tzname EDT identified but not understood.  Pass `tzinfos` argument in order to correctly return a timezone-aware datetime.  In a future version, this will raise an exception.\n",
      "  warnings.warn(\"tzname {tzname} identified but not understood.  \"\n"
     ]
    }
   ],
   "source": [
    "tc.timestamp = [string_to_datetime(timestamp) for timestamp in tc.timestamp]"
   ]
  },
  {
   "cell_type": "code",
   "execution_count": null,
   "metadata": {},
   "outputs": [],
   "source": []
  },
  {
   "attachments": {},
   "cell_type": "markdown",
   "metadata": {},
   "source": [
    "### Flesch-Kincaid reading levels"
   ]
  },
  {
   "attachments": {},
   "cell_type": "markdown",
   "metadata": {},
   "source": [
    "![alternative text](Flesch-Kincaid_functions.jpg)"
   ]
  },
  {
   "cell_type": "code",
   "execution_count": 54,
   "metadata": {},
   "outputs": [],
   "source": [
    "# Use the Flesch Reading Ease formula to assess the ease of readability of each transcript (returns the Flesch Reading Ease Score)\n",
    "rm['flesch_reading_ease'] = [textstat.flesch_reading_ease(text) for text in rm.transcript]\n",
    "tc['flesch_reading_ease'] = [textstat.flesch_reading_ease(text) for text in tc.transcript]\n",
    "\n",
    "\n",
    "# Get the Flesch-Kincaid Grade level of each transcript (score of 9.3 means a ninth grader would be able to read the document)\n",
    "rm['flesch_kincaid_grade_level'] = [textstat.flesch_kincaid_grade(text) for text in rm.transcript]\n",
    "tc['flesch_kincaid_grade_level'] = [textstat.flesch_kincaid_grade(text) for text in tc.transcript]"
   ]
  },
  {
   "cell_type": "code",
   "execution_count": 56,
   "metadata": {},
   "outputs": [
    {
     "name": "stdout",
     "output_type": "stream",
     "text": [
      "707\n"
     ]
    }
   ],
   "source": [
    "# Combine the dataframes\n",
    "frames = [rm, tc]\n",
    "\n",
    "df = pd.concat(frames)\n",
    "print(len(df))"
   ]
  },
  {
   "cell_type": "code",
   "execution_count": 58,
   "metadata": {},
   "outputs": [],
   "source": [
    "# df = df.drop('Unnamed: 0.1', axis = 1)\n",
    "df = df.drop_duplicates(subset=None, keep= 'first', inplace=False)"
   ]
  },
  {
   "cell_type": "code",
   "execution_count": 59,
   "metadata": {},
   "outputs": [
    {
     "data": {
      "text/html": [
       "<div>\n",
       "<style scoped>\n",
       "    .dataframe tbody tr th:only-of-type {\n",
       "        vertical-align: middle;\n",
       "    }\n",
       "\n",
       "    .dataframe tbody tr th {\n",
       "        vertical-align: top;\n",
       "    }\n",
       "\n",
       "    .dataframe thead th {\n",
       "        text-align: right;\n",
       "    }\n",
       "</style>\n",
       "<table border=\"1\" class=\"dataframe\">\n",
       "  <thead>\n",
       "    <tr style=\"text-align: right;\">\n",
       "      <th></th>\n",
       "      <th>URL</th>\n",
       "      <th>timestamp</th>\n",
       "      <th>transcript</th>\n",
       "      <th>stop words removed</th>\n",
       "      <th>host</th>\n",
       "      <th>flesch_reading_ease</th>\n",
       "      <th>flesch_kincaid_grade_level</th>\n",
       "      <th>title</th>\n",
       "    </tr>\n",
       "  </thead>\n",
       "  <tbody>\n",
       "    <tr>\n",
       "      <th>0</th>\n",
       "      <td>https://www.msnbc.com/transcripts/rachel-maddo...</td>\n",
       "      <td>2022-10-04 01:00:00+00:00</td>\n",
       "      <td>SummaryWith public trust at a low, the Supreme...</td>\n",
       "      <td>SummaryWith public trust low Supreme Court ope...</td>\n",
       "      <td>Rachel Maddow</td>\n",
       "      <td>68.70</td>\n",
       "      <td>8.5</td>\n",
       "      <td>NaN</td>\n",
       "    </tr>\n",
       "    <tr>\n",
       "      <th>2</th>\n",
       "      <td>https://www.msnbc.com/transcripts/rachel-maddo...</td>\n",
       "      <td>2022-09-27 01:00:00+00:00</td>\n",
       "      <td>Summary \"American Psychosis\" examines the rise...</td>\n",
       "      <td>Summary American Psychosis examines rise extre...</td>\n",
       "      <td>Rachel Maddow</td>\n",
       "      <td>69.82</td>\n",
       "      <td>8.1</td>\n",
       "      <td>NaN</td>\n",
       "    </tr>\n",
       "    <tr>\n",
       "      <th>4</th>\n",
       "      <td>https://www.msnbc.com/transcripts/rachel-maddo...</td>\n",
       "      <td>2022-09-13 01:00:00+00:00</td>\n",
       "      <td>Summary Interview with Geoffrey Berman, the U....</td>\n",
       "      <td>Summary Interview Geoffrey Berman U attorney T...</td>\n",
       "      <td>Rachel Maddow</td>\n",
       "      <td>63.09</td>\n",
       "      <td>8.6</td>\n",
       "      <td>NaN</td>\n",
       "    </tr>\n",
       "    <tr>\n",
       "      <th>6</th>\n",
       "      <td>https://www.msnbc.com/transcripts/rachel-maddo...</td>\n",
       "      <td>2022-08-30 01:00:00+00:00</td>\n",
       "      <td>SummaryThe ODNI is going to assess \"potential ...</td>\n",
       "      <td>SummaryThe ODNI going assess potential risk na...</td>\n",
       "      <td>Rachel Maddow</td>\n",
       "      <td>59.64</td>\n",
       "      <td>9.9</td>\n",
       "      <td>NaN</td>\n",
       "    </tr>\n",
       "    <tr>\n",
       "      <th>8</th>\n",
       "      <td>https://www.msnbc.com/transcripts/rachel-maddo...</td>\n",
       "      <td>2022-08-23 01:00:00+00:00</td>\n",
       "      <td>SummaryInterview with Dr. Anthony Fauci, direc...</td>\n",
       "      <td>SummaryInterview Dr Anthony Fauci director Nat...</td>\n",
       "      <td>Rachel Maddow</td>\n",
       "      <td>59.43</td>\n",
       "      <td>10.0</td>\n",
       "      <td>NaN</td>\n",
       "    </tr>\n",
       "    <tr>\n",
       "      <th>...</th>\n",
       "      <td>...</td>\n",
       "      <td>...</td>\n",
       "      <td>...</td>\n",
       "      <td>...</td>\n",
       "      <td>...</td>\n",
       "      <td>...</td>\n",
       "      <td>...</td>\n",
       "      <td>...</td>\n",
       "    </tr>\n",
       "    <tr>\n",
       "      <th>642</th>\n",
       "      <td>https://www.foxnews.com/opinion/tucker-carlson...</td>\n",
       "      <td>2019-11-19 13:30:00</td>\n",
       "      <td>Stone found guilty on all seven counts; Epstei...</td>\n",
       "      <td>NaN</td>\n",
       "      <td>Tucker Carlson</td>\n",
       "      <td>67.96</td>\n",
       "      <td>6.7</td>\n",
       "      <td>Tucker Carlson: Media, federal government toug...</td>\n",
       "    </tr>\n",
       "    <tr>\n",
       "      <th>643</th>\n",
       "      <td>https://www.foxnews.com/opinion/tucker-carlson...</td>\n",
       "      <td>2019-11-15 13:09:00</td>\n",
       "      <td>Media goes into overdrive on impeachment heari...</td>\n",
       "      <td>NaN</td>\n",
       "      <td>Tucker Carlson</td>\n",
       "      <td>66.64</td>\n",
       "      <td>7.2</td>\n",
       "      <td>Tucker Carlson: Trump impeachment inquiry will...</td>\n",
       "    </tr>\n",
       "    <tr>\n",
       "      <th>644</th>\n",
       "      <td>https://www.foxnews.com/opinion/tucker-carlson...</td>\n",
       "      <td>2019-11-14 09:24:00</td>\n",
       "      <td>First public impeachment hearings take place.I...</td>\n",
       "      <td>NaN</td>\n",
       "      <td>Tucker Carlson</td>\n",
       "      <td>74.90</td>\n",
       "      <td>6.1</td>\n",
       "      <td>Tucker Carlson: It's never been clear what Dem...</td>\n",
       "    </tr>\n",
       "    <tr>\n",
       "      <th>645</th>\n",
       "      <td>https://www.foxnews.com/opinion/tucker-carlson...</td>\n",
       "      <td>2019-11-13 10:13:00</td>\n",
       "      <td>Liberals working to crack down on the First Am...</td>\n",
       "      <td>NaN</td>\n",
       "      <td>Tucker Carlson</td>\n",
       "      <td>66.33</td>\n",
       "      <td>7.3</td>\n",
       "      <td>Tucker Carlson: The end of free speech – What ...</td>\n",
       "    </tr>\n",
       "    <tr>\n",
       "      <th>646</th>\n",
       "      <td>https://www.foxnews.com/opinion/tucker-carlson...</td>\n",
       "      <td>2019-11-12 10:08:00</td>\n",
       "      <td>Warren's campaign backed by the same wealthy d...</td>\n",
       "      <td>NaN</td>\n",
       "      <td>Tucker Carlson</td>\n",
       "      <td>66.64</td>\n",
       "      <td>7.2</td>\n",
       "      <td>Tucker Carlson: Elizabeth Warren's enemies on ...</td>\n",
       "    </tr>\n",
       "  </tbody>\n",
       "</table>\n",
       "<p>707 rows × 8 columns</p>\n",
       "</div>"
      ],
      "text/plain": [
       "                                                   URL  \\\n",
       "0    https://www.msnbc.com/transcripts/rachel-maddo...   \n",
       "2    https://www.msnbc.com/transcripts/rachel-maddo...   \n",
       "4    https://www.msnbc.com/transcripts/rachel-maddo...   \n",
       "6    https://www.msnbc.com/transcripts/rachel-maddo...   \n",
       "8    https://www.msnbc.com/transcripts/rachel-maddo...   \n",
       "..                                                 ...   \n",
       "642  https://www.foxnews.com/opinion/tucker-carlson...   \n",
       "643  https://www.foxnews.com/opinion/tucker-carlson...   \n",
       "644  https://www.foxnews.com/opinion/tucker-carlson...   \n",
       "645  https://www.foxnews.com/opinion/tucker-carlson...   \n",
       "646  https://www.foxnews.com/opinion/tucker-carlson...   \n",
       "\n",
       "                     timestamp  \\\n",
       "0    2022-10-04 01:00:00+00:00   \n",
       "2    2022-09-27 01:00:00+00:00   \n",
       "4    2022-09-13 01:00:00+00:00   \n",
       "6    2022-08-30 01:00:00+00:00   \n",
       "8    2022-08-23 01:00:00+00:00   \n",
       "..                         ...   \n",
       "642        2019-11-19 13:30:00   \n",
       "643        2019-11-15 13:09:00   \n",
       "644        2019-11-14 09:24:00   \n",
       "645        2019-11-13 10:13:00   \n",
       "646        2019-11-12 10:08:00   \n",
       "\n",
       "                                            transcript  \\\n",
       "0    SummaryWith public trust at a low, the Supreme...   \n",
       "2    Summary \"American Psychosis\" examines the rise...   \n",
       "4    Summary Interview with Geoffrey Berman, the U....   \n",
       "6    SummaryThe ODNI is going to assess \"potential ...   \n",
       "8    SummaryInterview with Dr. Anthony Fauci, direc...   \n",
       "..                                                 ...   \n",
       "642  Stone found guilty on all seven counts; Epstei...   \n",
       "643  Media goes into overdrive on impeachment heari...   \n",
       "644  First public impeachment hearings take place.I...   \n",
       "645  Liberals working to crack down on the First Am...   \n",
       "646  Warren's campaign backed by the same wealthy d...   \n",
       "\n",
       "                                    stop words removed            host  \\\n",
       "0    SummaryWith public trust low Supreme Court ope...   Rachel Maddow   \n",
       "2    Summary American Psychosis examines rise extre...   Rachel Maddow   \n",
       "4    Summary Interview Geoffrey Berman U attorney T...   Rachel Maddow   \n",
       "6    SummaryThe ODNI going assess potential risk na...   Rachel Maddow   \n",
       "8    SummaryInterview Dr Anthony Fauci director Nat...   Rachel Maddow   \n",
       "..                                                 ...             ...   \n",
       "642                                                NaN  Tucker Carlson   \n",
       "643                                                NaN  Tucker Carlson   \n",
       "644                                                NaN  Tucker Carlson   \n",
       "645                                                NaN  Tucker Carlson   \n",
       "646                                                NaN  Tucker Carlson   \n",
       "\n",
       "     flesch_reading_ease  flesch_kincaid_grade_level  \\\n",
       "0                  68.70                         8.5   \n",
       "2                  69.82                         8.1   \n",
       "4                  63.09                         8.6   \n",
       "6                  59.64                         9.9   \n",
       "8                  59.43                        10.0   \n",
       "..                   ...                         ...   \n",
       "642                67.96                         6.7   \n",
       "643                66.64                         7.2   \n",
       "644                74.90                         6.1   \n",
       "645                66.33                         7.3   \n",
       "646                66.64                         7.2   \n",
       "\n",
       "                                                 title  \n",
       "0                                                  NaN  \n",
       "2                                                  NaN  \n",
       "4                                                  NaN  \n",
       "6                                                  NaN  \n",
       "8                                                  NaN  \n",
       "..                                                 ...  \n",
       "642  Tucker Carlson: Media, federal government toug...  \n",
       "643  Tucker Carlson: Trump impeachment inquiry will...  \n",
       "644  Tucker Carlson: It's never been clear what Dem...  \n",
       "645  Tucker Carlson: The end of free speech – What ...  \n",
       "646  Tucker Carlson: Elizabeth Warren's enemies on ...  \n",
       "\n",
       "[707 rows x 8 columns]"
      ]
     },
     "execution_count": 59,
     "metadata": {},
     "output_type": "execute_result"
    }
   ],
   "source": [
    "df"
   ]
  },
  {
   "cell_type": "code",
   "execution_count": 66,
   "metadata": {},
   "outputs": [],
   "source": [
    "df.to_csv('RM-TC_combined_cleaned.tsv', sep=\"\\t\")"
   ]
  },
  {
   "cell_type": "code",
   "execution_count": 65,
   "metadata": {},
   "outputs": [
    {
     "name": "stderr",
     "output_type": "stream",
     "text": [
      "C:\\Users\\rache\\AppData\\Local\\Temp\\ipykernel_26764\\3339686845.py:5: FutureWarning: The default value of numeric_only in DataFrameGroupBy.mean is deprecated. In a future version, numeric_only will default to False. Either specify numeric_only or select only columns which should be valid for the function.\n",
      "  grouped.mean()\n"
     ]
    },
    {
     "data": {
      "text/html": [
       "<div>\n",
       "<style scoped>\n",
       "    .dataframe tbody tr th:only-of-type {\n",
       "        vertical-align: middle;\n",
       "    }\n",
       "\n",
       "    .dataframe tbody tr th {\n",
       "        vertical-align: top;\n",
       "    }\n",
       "\n",
       "    .dataframe thead th {\n",
       "        text-align: right;\n",
       "    }\n",
       "</style>\n",
       "<table border=\"1\" class=\"dataframe\">\n",
       "  <thead>\n",
       "    <tr style=\"text-align: right;\">\n",
       "      <th></th>\n",
       "      <th>flesch_reading_ease</th>\n",
       "      <th>flesch_kincaid_grade_level</th>\n",
       "    </tr>\n",
       "    <tr>\n",
       "      <th>host</th>\n",
       "      <th></th>\n",
       "      <th></th>\n",
       "    </tr>\n",
       "  </thead>\n",
       "  <tbody>\n",
       "    <tr>\n",
       "      <th>Rachel Maddow</th>\n",
       "      <td>66.315000</td>\n",
       "      <td>8.490000</td>\n",
       "    </tr>\n",
       "    <tr>\n",
       "      <th>Tucker Carlson</th>\n",
       "      <td>72.229104</td>\n",
       "      <td>6.495209</td>\n",
       "    </tr>\n",
       "  </tbody>\n",
       "</table>\n",
       "</div>"
      ],
      "text/plain": [
       "                flesch_reading_ease  flesch_kincaid_grade_level\n",
       "host                                                           \n",
       "Rachel Maddow             66.315000                    8.490000\n",
       "Tucker Carlson            72.229104                    6.495209"
      ]
     },
     "execution_count": 65,
     "metadata": {},
     "output_type": "execute_result"
    }
   ],
   "source": [
    "grouped = df.groupby('host')\n",
    "\n",
    "# Find the average Flesch Reading Ease Score across all of the Rachel Maddow and Tucker Carlson transcripts\n",
    "# Find the average Flesch-Kincaid Grade Level across all of the Rachel Maddow and Tucker Carlson transcripts\n",
    "grouped.mean()\n",
    "\n"
   ]
  },
  {
   "cell_type": "code",
   "execution_count": null,
   "metadata": {},
   "outputs": [],
   "source": []
  }
 ],
 "metadata": {
  "kernelspec": {
   "display_name": "Python 3",
   "language": "python",
   "name": "python3"
  },
  "language_info": {
   "codemirror_mode": {
    "name": "ipython",
    "version": 3
   },
   "file_extension": ".py",
   "mimetype": "text/x-python",
   "name": "python",
   "nbconvert_exporter": "python",
   "pygments_lexer": "ipython3",
   "version": "3.11.2"
  },
  "orig_nbformat": 4,
  "vscode": {
   "interpreter": {
    "hash": "5fa168a1e6bbe0a95f54a4ec07834b71919b5e173f592dc65bc06a3d19052986"
   }
  }
 },
 "nbformat": 4,
 "nbformat_minor": 2
}
