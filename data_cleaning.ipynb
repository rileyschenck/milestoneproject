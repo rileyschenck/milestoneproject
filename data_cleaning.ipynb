{
 "cells": [
  {
   "cell_type": "code",
   "execution_count": 14,
   "metadata": {},
   "outputs": [
    {
     "name": "stderr",
     "output_type": "stream",
     "text": [
      "[nltk_data] Downloading package stopwords to\n",
      "[nltk_data]     C:\\Users\\rache\\AppData\\Roaming\\nltk_data...\n",
      "[nltk_data]   Package stopwords is already up-to-date!\n",
      "[nltk_data] Downloading package wordnet to\n",
      "[nltk_data]     C:\\Users\\rache\\AppData\\Roaming\\nltk_data...\n",
      "[nltk_data]   Package wordnet is already up-to-date!\n"
     ]
    },
    {
     "data": {
      "text/plain": [
       "True"
      ]
     },
     "execution_count": 14,
     "metadata": {},
     "output_type": "execute_result"
    }
   ],
   "source": [
    "import pandas as pd\n",
    "import numpy as np\n",
    "import re\n",
    "import nltk\n",
    "import textstat\n",
    "from nltk.corpus import stopwords\n",
    "from nltk.stem import WordNetLemmatizer\n",
    "from nltk.tokenize import word_tokenize\n",
    "from datetime import datetime\n",
    "\n",
    "\n",
    "nltk.download(\"stopwords\")\n",
    "nltk.download(\"wordnet\")\n",
    "\n"
   ]
  },
  {
   "cell_type": "code",
   "execution_count": 15,
   "metadata": {},
   "outputs": [],
   "source": [
    "data = pd.read_csv('Rachel_transcripts_2.9.23.tsv',sep='\\t').drop(columns='Unnamed: 0')"
   ]
  },
  {
   "cell_type": "code",
   "execution_count": 16,
   "metadata": {},
   "outputs": [
    {
     "data": {
      "text/plain": [
       "'SummaryWith public trust at a low, the Supreme Court opens new term today. Members of the far right militia group Oath Keepers face seditious conspiracy charges over January 6. Transcript CHRIS HAYES, MSNBC HOST, \"ALL IN\": Yeah, we should probably have some reporters looking at the volleyball facilities in Baton Rouge.Ashton Pittman, who`s been doing very good reporting on this, thank you very much.ASHTON PITTMAN, JOURNALIST: Thank you.HAYES: That`s \"ALL IN\" on this Monday night.THE RACHEL MADDOW SHOW starts right now.Good evening, Rachel.RACHEL MADDOW, MSNBC HOST: Good evening, Chris. Thank you for saying that nice thing about my new podcast.HAYES: Oh, it`s so good. It`s good and it`s -- I`m excited to talk to you about it. It made me, oh, good, she is so good at this, she`s so good at this. What is in her -- what is her bag of magic tricks again?MADDOW: What you heard is not -- is like still the rough draft. Like it`s not --HAYES: I know. You and all your -- you and all your weird, neurotic, self loathing staff will all share your incredible inability to take a compliment. I guess, it`s not final, it`s not final.MADDOW: It`s true, there is going to be 400 more drafts between that, what you heard and what is going to the public.HAYES: Well, what I heard is still awesome.MADDOW: You are very kind. I`ll talk to you about it, my friend. Thank you very, very much.HAYES: All right.MADDOW: And thanks to you at home for joining us this hour. Happy to have you here.So, once upon a time, not all that long ago in the grand scheme of things, but once upon a time, the biggest celebrities in America were pilots. Do you know how \"Time Magazine\" has person of the year used to be man of the year?\"Time Magazine\" invented that whole idea because of a pilot. They figured they needed to do something because in 1927, the pilot Charles Lindbergh became the first person to fly nonstop solo across the Atlantic Ocean. And he became the biggest celebrity in the world for doing that.There were parades held for him and international prizes, and all kinds of honors. He instantly became the most famous man in the world when he did that in 1927. And so, that is where \"Time\" got the whole man of the year thing in the first place. They invented it specifically for him.Amelia Earhart was the first woman to fly across the Atlantic, and then the first solo pilot to fly between Hawaii and California. Amelia Earhart is remembered mostly for going missing on around the world flight in 1937. But she really was a household name in the United States. She was a huge star.And Lindberg and Earhart weren`t the only ones. Between the first and second world wars, flying was a huge deal to Americans. It was a nationwide craze. Pilots would get really, really famous, like household name famous for setting new records or flying the routes that had never been flown before, or doing aviation tricks in front of audiences.By the mid-1930s, there was a female pilot named Laura Ingalls who was right up there with Amelia Earhart in terms of her national celebrity.Now, her name was Laura Ingalls, that name may be ringing a bell for you. But she is not Laura Ingalls Wilder who wrote \"Little House on the Prairie\". That was like her eighth cousin or something. She was just Laura Ingalls.But I have to tell you, in her day, Laura Ingalls was more famous then her distant cousin, the, author who would also go on to be very famous.Laura Ingalls was famous for being a pilot. She was the first woman to ever fly across that United States nonstop from east to west. She was the first woman to ever fly solo from North America to South America. She set the overall record for the fastest flight by anyone from the west coast to the east coast. She set another record flying solo around all of South America. She set the world record for a barrel rolls, 714 barrel rolls in a row over Lambert Field in St. Louis.She then set the record for loop the loops, 980 loops all in a row. I`m getting barfy just thinking about it.This is the absolute peak of the golden age of aviation. Americans were crazy for aviation, fascinated by it, and all the great flyers became great stars. Laura Ingalls was famous enough as a daredevil pilot that by 1934, it would literally garner an entire article in \"The New York Times\" when she got a speeding ticket. She was that big a celebrity.By the following year, 1935, she was so famous that she got an entire article in \"The New York Times\" because she got a parking ticket. I mean, she was a big deal.By 1939, things had gotten a little bit weird for Laura Ingalls. In September 1939, Laura Ingalls was arrested after she flew her plane, her single engine airplane right over the White House. And when she flew over the White House, she dropped out of the plane a whole big load of leaflets, pamphlets arguing against the U.S. joining the war against the Nazis in Germany.This was 1939. She was arrested for violating the airspace over the White House.[21:05:03]She was also arrested for dropping objects out of the plane. Her defense was that she didn`t consider a leaflet to be an object.This was 1939. Two years later in 1941, Laura Ingalls was arrested again, this time she was indicted for being a paid secret agent working for the German government. That one may page one of \"The New York Times\".The prosecution contended at her trial that Ingalls was a Nazi agent. That she was being paid by Hitler`s government, she was enacting a specific technique devised by Hitler`s government to, quote, disunite the people of countries that Hitler intended to conquer, including us.The prosecution also asked her how much she knew about the German official for whom she had been receiving her money and her orders. The prosecutor asked Laura Ingalls, quote, did you know that he was the head of the Gestapo in this country? Laura Ingalls replied, no, I did not know until I read it quite recently in the newspapers. I was thrilled.The airport manager at her home airport and a doctor she saw in New York both testified how startling it was that unprompted she would just start praising Hitler, saying that she was preparing for the day when hit the bring his new order to America. The doctor testified about how unnerved he was when she came in for surgery and he found that she was wearing a big swastika pendant under her clothes.In the end, Laura Ingalls, this incredibly famous aviator, one of the biggest celebrities in the whole country, she was convicted of being an agent of the German government. And among the uncomfortable public revelation from her trial was that when she went to her Gestapo handler at the German embassy and asked for more missions, more important assignments, she apparently did just want to promote Hitler and Nazism in the United States, she also volunteered to spy for the Germans, to steal U.S. secrets to help the Nazis against us.But what emerged in her trial was that when she went to her Gestapo handler to ask for more to do, for ask for more assignments, he apparently told her that the most important thing she could do was more of what she had already been doing. Specifically, he told her that there is nothing more valuable she could do for the Nazi cause than keep giving speeches for something called the America First Committee.The America First Committee was the leading organization at the time in the United States that was opposed to the U.S. joining the war to fight against Hitler and the Nazis. After getting that instruction from her handler, Laura Ingalls indeed stepped up her speech giving for America First. She was advised to do so by the Hitler government that was paying her at the time, and she became one of America First`s most popular nationwide speakers, alongside their primary national spokesman who was Charles Lindbergh, the aforementioned \"Time Magazine\" man of the year, seen here in Germany receiving a Nazi medal from Hermann Goring, one of the most powerful officials in the Nazi government.Goring ate cyanide at Nuremburg to avoid being hanged as a war criminal, but we will always have this photo of him pinning a swastika to Charles Lindbergh, national spokesman for the America First Committee.Given the history of the America First Committee in our country, it is kind of amazing for anyone to decide to bring that back slogan in politics today, right? Given the history of America First, you might think twice before you do that.The conservative political action coalition, CPAC, the influential Republican Party conference this weekend put the hashtag America first on their tweet in support of Russian President Vladimir Putin announcing the annexation of parts of Ukraine. Their initial tweet actually showed a waving Russian flag, go Putin, conquer Europe. We should stay out of it, America first. CPAC has since deleted the tweet.Around the same time that Laura Ingalls was coming under investigation for being a paid Nazi agent in the late `30s, her husband, Charles Ingalls, was also implicated in a nationwide plot involving hundreds of armed 13 men cells who were all going to violently attack government targets around the country simultaneously. He is coconspirators expected that FDR was going to win reelection in 1940 but they thought Americas on the far-right would be upset by that outcome.So, in order to channel that upset into something much more dangerous, they planned that in the aftermath of FDR winning the election, they would mount hundreds of simultaneous armed attacks on U.S. government targets. In states all across the country, all the same time. Thus, sending off chaos and panic in the United States, galvanizing and radicalizing anti-Roosevelt Americans, culminating in a violent takeover of the United States government and the installation of something much more like a fascist dictatorship. Good times.A week from today, next Monday, I`m launching a new podcast that is called \"Rachel Maddow Presents Ultra\". And it`s about this time that I`m talking about in American history. This last big round of fights that we had as an American people against our fellow Americans on the ultra right who wanted to violently overthrow the government, who decided they were done with elections and done with democratic governance in this country. And they were willing to act by any means necessary to get that done, including, in the case of some of these folks, taking support from the hit a government in Germany to aid in their cause.The podcast is called \"Ultra\" because it is about our experience in this country with the ultra right. But most of the storyline is actually about sedition, about a huge sedition trial that was mounted against more than 200 defendants in 1944. It is about why that trial was sort of impossible and it`s about how members of Congress were involved in the shenanigans, they themselves were implicated in what was going on. Members of Congress used their political power in Washington to intimidate the Justice Department and drive the prosecution of course.Anyway, the trailer is out today, the podcast launches next week. I will say more about it next week on the show. I knew what I said about working this last year, there was contemporary resonance to the story about American authoritarianism and trying to overflow the government by force, January 6, right. Putting people on trial for sedition, I knew there would be residence for what we are going to now, that`s why I wanted to do in the first place.I did not know at the time that I pick this topic and this launch date for the podcast that the actual sedition trial for January 6th would be starting on the day of the podcast being announced. That`s what happened today, here we are.Today, members of the Oath Keepers, a pro-Trump paramilitary group, the Oath Keepers, they went on trial as of today, in federal court, on charges of seditious conspiracy. That is the largest edition trial since the great sedition trial 1944. They`re facing charges that they conspired to use force to stop the peaceful transferal of power to a new president and thereby overthrow the U.S. government.These are the most serious charges brought against any of the January 6th defendants. If convicted of these charges, these guys are looking at 20-year prison sentences.But I have to tell you, sedition charges are really, really hard to prove. Getting a sedition conviction -- I mean, bringing sedition charges is very rare, getting a conviction on sedition charges is a very, very difficult. And it`s true, not only because they are very serious charges, but it is almost structurally true, it`s almost sort of by definition hard to prove a sedition case.I mean, if you think about it, sedition is a charge of trying to overthrow the U.S. government by force. If you succeeded in that effort, you would be in charge now. There won`t be a U.S. government anymore. So, if you are now charged with sedition, by definition you plotted work. You may have tried it, but the U.S. government still stands and has put you on trial for sedition.By definition, if you are on trial for sedition, your seditious plot did not work. That means, whatever your plot against the government was, it can now easily be minimized as improbable, you know, fantastical, no grave threat, since in the end, it didn`t work. It is almost a structural problem with this kind of charge.But there has got to be some kind of charge like this for people who attempt to overthrow the government by force. It can`t be that you get to try that and if you succeed you get to be dictator for life, but if you fail, nothing happens. Like that can`t be the decision tree. Not in a country with this many guns.The government today at the opening of the Oath Keepers sedition trial played tape of the Oath Keepers leader telling a meeting after January 6th quote, my only regret is that they should have brought rifles, we could`ve fixed it right then and there. Meaning, my only regret is that they should`ve brought rifles to the Capitol on January 6th.They also play tape of him for the jury, him at a meeting with his followers telling them that they would use the idea of Trump invoking the Insurrection Act as a legal cover for what they were doing, bringing guns to the Capitol. But also saying that with or without an Instruction Act pronouncement from Trump, they were still going to do it. That means if they are going to rely on this Insurrection Act defense in court, they`ve got the chief proponent of that theory admitting on tape that that was a fig leaf that he didn`t really mean it, they were using that as a pretext.[21:15:02]Prosecutors today also introduced evidence that in addition to the thousand rounds of ammunition in many, many guns, this group did stage just outside D.C. for the attack on the Capitol, they also brought hand grenades. We learned that in court the first time, that`s nice.Prosecutors also said when they moved to arrest these defendants after January 6th, they did so in a hurry, because they believe the group was planning a second armed attack to stop the transfer of power after January 6th didn`t work. That second armed attack aimed at Biden`s inauguration.Prosecutors said in their opening statement today that the Oath Keepers, quote, planned to continue waging that war, to stop the transfer of power. Thankfully, those plans were foiled. On January 17th, the FBI began arresting these conspirators.You might remember the footage from January 6th itself, members of the Oath Keepers and military style gear, using the ranger stack formation, each one with her hand on the shoulder of the person in front of them, moving up to the front of the crowd, up the steps of the capital, leading the breach of the capitol building.Today, prosecutors said that the Oath Keepers who did, who led the breach that way, then divided into two groups. One was led by an Oath Keeper guy who has now pled guilty, and is cooperating with prosecutors. The other is led by one of today`s defendants. According to prosecutors today, his group split off inside the Capitol with one specific mission, to go find House Speaker Nancy Pelosi.The leader of that group, that unit of Oath Keepers that went hunting for Pelosi, he had texted his family on election day, saying he was ready to go, quote, on a killing spree, and that when he did, quote, Pelosi would be first. He was the one leading the group of Oath Keepers who went hunting for Nancy Pelosi that day inside the Capitol. They did not find her.So, that trial started today, it`s expected to go on all month and probably into next month as well. A second round of Oath Keepers defendants is going to go on trial on similar charges after this.The leader of the Oath Keepers, a man name Stewart Rhodes, who is one of the five defendants on trial today. He is a former Ron Paul staffer. He worked for the father of Republican Senator Rand Paul, when his dad Ron Paul was a Republican congressman from Texas. It seems to me that that doesn`t come up nearly enough when covering this historic trial.But we`re just 36 days out from this year`s congressional elections in which we as a country will decide whether the Democrats or the Republicans will have control of Congress, and the Senate. \"The New York Times\" today reporting that if the Republicans do to take over at the House, at least eight congressional committees are due to be chaired by members of Congress who voted to not certify the election results, who voted to overturn the election results and keep Trump in power despite the vote. These are all members of Congress who took that vote after the Capitol attack on January 6th, they will be running eight of the most important committees in the U.S. Congress.And also, this is the Supreme Court term that started today in which the new conservative super majority on the Supreme Court has gone out of the way to put a case before themselves on something called the independent state legislature doctrine, which is a thing that I swear to you is, well and truly boring. The more you read about it, the more soporific you will feel. I mean, it`s just boring, particularly if you`re not a lawyer.However, what the independent state legislature doctrine could do. What this state case could do, now that the Supreme Court justices have asked to hear a case about it, is it effectively could give Republicans in state legislatures, the power to do what Trump demanded that they do in 2020, it could give Republican-controlled state legislatures, the power to decide what the election results will be from that state, regardless of how the people of that state voted, which is what Trump demanded of Republican state legislators after 2020.The Supreme Court case, that is before the court for this term could potentially legalize the illegal, unconstitutional scheme that Trump was demanding of Republicans who supported him, to hand him the electors from states that he, in fact, lost.So, this is quite a moment, right? At a time when we`ve got the biggest sedition trial in 80 year underway in Washington, I`m doing a podcast about the last sedition threat like this from the late 30s and early 40s, in order to find the closest president what we`re facing today, right? While that is happening in Washington, as of today, we`re not just closing in on an election, where people who deny that we should have real election results anymore or trying to take over.We are also, today, starting a new Supreme Court session with a court that has never had a lower level of respect for the American people, in the entire time that pollsters have been asking the American people about their level of respect for the court.[21:20:08]With the new conservative super majority on the Supreme Court, they are reaching way out this term, way, way out of their way to take cases that are expected to serve as a vehicle for them to let state legislatures change election results, to get rid of affirmative action programs in education, to get rid of antidiscrimination civil rights laws that protect gay people, to once and for all get rid of the crown jewel achievement of the United States civil rights movement, which is the voting rights movement, which, of course, is the Voting Rights Act.Conservatives on the court already took away the heart of the Voting Rights Act in 2013. Now, the case we`re going to hear tomorrow, they could pave the way to hollowed all the rest of it too. That case they`re going to hear tomorrow is a case out of Alabama. Alabama has a population that`s more than a quarter African-American, but the Republicans who control the Alabama state legislature want only one of the state`s congressional districts to have a majority black electorate.Under the Voting Rights Act, even a very conservative court, with two Trump appointed judges told Alabama that they can do that, that that`s an illegal infringement on the voting rights for black voters. You can`t have more than a quarter of your population be African-American, and then have six of your seven congressional seats be in majority white districts.The Voting Rights Act, even hollowed out as it is, prevents them from doing something that extreme. That is the court ruling that is controlling in that case right now. But the Supreme Court has nevertheless chosen to weigh in, with the expectation being that they`re going to tell Alabama, and rest of the country, to go ahead and do what you want, no need to worry about that pesky Voting Rights Act anymore.And if you think that is too radical thing, to imagine I`m doing, I mean this is the court that just overruled Roe v. Wade, right? A recent Gallup poll shows that the American people who say that their trust in the court has dropped 20 points, just since 2020, just in the past two years. Another similar poll from Marquette Law School shows his drop 26 points in the past two years.If the perception of the court keeps dropping like that, you might think the court will start getting worried that American soon will not respect the court enough to follow its rulings anymore, which, of course, would be a disaster for the country. That would literally be the end of the rule of law, in a very fundamental way.But if there`s one thing we can be sure of, is that we`re playing with the fundamentals, and lots of ways these days. Pushing ourselves right up to the edge, and occasionally over it, and we all know enough history to know that we have pushed ourselves very far in the past as well.But these fights to hold on to our constitutional republic, they don`t win themselves. The Constitution isn`t a self healing document. Prosecutions for this kind of stuff, even when they happen, they`re hard to win and they are not the end all be all for our country.Whether you are volunteering for a candidate who`s running this year, or maybe you are running for office yourself, or you are even carrying as a poll worker, or you are door knocking for the latest good government, pro-democracy initiative that`s on the ballot where you live, whatever you are doing right now, particularly over these next six weeks, you are part of what will decide what happens next in our country.The outcome is not at all certain at this point. We are in the middle of all of it. And good luck to us all.(COMMERCIAL BREAK)[21:28:14]MADDOW: Today, the first time the United States Supreme Court has let the public inside for oral arguments since the start of the pandemic in March 2020. It was also the first day on the bench for the newest kid in class, brand new Supreme Court Justice Ketanji Brown Jackson.The start of the new extremity term is typically an exciting moment, but this feels less likely kind of exciting you get for the first day of school and more like the kind of excitement you get when you`re trying to take a picture of a scenic this day at the top of a very perilous cruelest and the railing that you`re leaning on brakes while you`re taking the picture, you fall in the abyss. This year feels exciting that way.Public trust in the United States Supreme Court, to make their decisions, to do its job, has never been lower. In a survey from Gallup, the only group that trusts the federal judiciary right now is the red line there -- Republicans, Democrats, independents, with Democrats and independents, they are below 50 percent.A new poll by Marquette Law School shows that the American public`s approval of the Supreme Court specifically has dropped 26 points in two years. And this isn`t a popularity contest. This is just a sad tale about people not liking the court. This is a story of our country.If Americans do wholesale lose face in the court, what`s the consequence of that? I mean, how long before we are at risk of this unspeakable thing? In which the American people no longer consent to follow the courts rulings?If we`re not going to follow them, what we follow instead? What`s the law if courtroom rulings no longer hold sway? Because the courts are no longer seen as legitimate.This is all happening, of course, in the wake of the decision to overturn Roe versus Wade, and unimaginable, very unpopular benchmark which we have nevertheless passed and are living with now.[21:30:06]For the term that starts today, the conservative supermajority on the court has at out cases that could continue reshaping life as we know in terms almost as fundamental as Roe. Affirmative action, gay rights, voting rights, whether state legislatures get to decide elections on their own say so.Tomorrow, the court will hill hear voting rights out of Alabama where more than a quarter of the population is African American, but six out of seven congressional districts are majority white.This case that the court`s hearing tomorrow has the potential to undo congressional districts with Black or Brown lawmakers in every state in the Union.In her new book, \"Lady Justice\", which is really good, my favorite court watcher in all of the land, Dahlia Lithwick, writes about how women in particular are on tenterhooks right now, fully aware of how much is at risk, and the radicalism of the moment that we are facing.Dahlia Lithwick writes in a conclusion to her book, quote: We are in a truly frightening moment. Election deniers are laying the tracks to set aside the 2024 election and the Supreme Court has, for the first time in history, reversed precedent in order to take away freedom rather than expand it. The court works ever harder to limit voting rights. States punish LGBTQ families, and banned books and schools.The Supreme Court will hear a case affording state legislatures the right to determine election outcomes, the discredited legal theory deployed to try to set aside set aside the 2020 contest. This will not be reversed in a year, or even a decade.She says, quote, I don`t believe women sleep through revanchist backsliding any easier that they sleep through colic. We hear things, we see things. We are awake.Joining us now is dahlia Lithwick, senior editor at \"Slate\". She`s the author of \"Lady Justice: Women, the Law, and the Battle to Save America\".Dahlia, it`s great to see you here.DAHLIA LITHWICK, AUTHOR, \"LADY JUSTICE\": It`s good to be back.MADDOW: It`s really nice to have you here in peson.LITHWICK: We ought to be cheerful, the two of us.MADDOW: Sorry, you want to hear some more Nazi stories? I`m sorry.LITHWICK: You -- usually I`m the depressive on the two of us. But, man, you really set the bar low.MADDOW: I mean, the point is, though, that we should not see our current challenges as unprecedented challenges, that we have had very difficult moments, including unconstitutional fundamentals in the past. And it takes a lot -- it takes not just the courts. It takes not just the justice department. It takes not just jail for bad guys to fix these things.And I feel like in \"Lady Justice\" and the way you`re approaching this current court, you are sort of telling a little bit of the same story, which is it that there`s work to do and there`s no silver bullet.LITHWICK: And telling exactly the same story that you just told which is that if you think that winning lawsuits is going to get you there, it`s not enough. You can win a lot of lawsuits. In some sense, this book is about a bunch of amazing lawsuits.But the last third of the book is about exactly what you are talking about -- organizing, registering voters, structural democracy reform, right? Senate has to be reforms, the Electoral College has to be reforms. We have to think about massive reform to the Supreme Court.Those aren`t thing that are going to get fixed in the midterms, and they`re not going to fixed in 2024, assuming the 2024 election plays out the way we hope it does. This is really a moment for people to say, what am I doing to protect poll workers? What am I doing to protect teachers? How am I going to make sure that the secretary of state race in my state is essential?And that`s the thing we lose track of, but that`s the structural democratic fix that is absolutely essential for everybody that`s paying attention.MADDOW: And, honestly, I mean, this is sort of the time if you are concerned about democracy, if you are concerned about what`s happening in your state. Now, today`s the day, where we are far enough in the election, where you still have time to ask yourself -- well, when I tell my kids and grandkids, and I kibbutz with my friends about this moment, what am I going to say I did? What was my role in helping? How did I participate in trying to hold up this thing that I say I value?One of the things that I`m scared about, is that one of the things we tell each other, about how to make changes to vote, I`m very worried about the Voting Rights Act, and what they`re going to be hearing tomorrow, what are your expectations in terms of the dilution of voting rights for minorities, and the other threats of voting rights with this court this year?LITHWICK: Yeah, I mean, it`s existential, and I think what you said initially was exactly correct, which is this is not the beginning of a process, this is a process that began with Shelby County. It began with Citizens United. It began with Brnovich, two years ago, when section 2 of the Voting Rights Act was circumscribed.So this is really what`s left of the Voting Rights Act that has been eviscerated by this court. I think if they do what I suspect they`re going to do tomorrow, and we hear about it in the spring, it`s going to be almost impossible to effectuate the rights they were protected, as you said, under section 2 of the Voting Rights Act, which was the crown jewel of how we were going to get to fair voting.[21:35:12]And so I think that, if you put that in tandem with the more case that you are talking about, the independent state legislature case. What you are really looking at is an attempt to do, in black robes, what Donald Trump and John Eastman tried to do in the 2020 election, which is say, we are going to give state legislatures almost unfettered power to do what they will with elections, to do what they will with gerrymandering, to do what they will with vote suppression, up to an including election denialism, right? That is the Harper case.And I think once you are there, and it`s an reviewable, if it turns out that isn`t reviewable by state courts, under state constitutions, you are essentially green-lighting the thing that didn`t happen in 2020, just because it was too soon.MADDOW: If the court -- in terms of court legitimacy, which is a term that I think it`s thrown around a lot without people knowing what it means. If court legitimacy continues to be in flux, the way it is now, it feels like it`s in free fall now, more than influx, do you think the justices themselves and I`m starting to worry about people following their orders, and people start following their rulings, are they conscious of that as a threat?LITHWICK: Rachel, a year ago, I would`ve said yes. A year ago, I would have said, you know, SB8, the shadow docket, all the ethics stuff that we saw around Clarence Thomas`s wife being involved, at least tangentially in January 6th, and him failing to recuse himself for a case squarely about January 6th. And any point in that process, up to and including the Dobbs lead, I would`ve said this is a court that is in trouble, the wheels are coming off.They understand there is no plan B for the rule of law. Once, it`s gone, it`s gone for decades. I no longer have any confidence that that is bothering them, and I`d go so far as to say, I think when Justice Alito and Chief Justice Roberts are scolding us for having conversations about legitimacy, rather than asking themselves what they could have done differently, I think it`s just evidence, to me, A, of gaslighting, but be, evidence that they don`t care.MADDOW: Dahlia Lithwick is the author of \"Lady Justice: Women, the Law, and the Battle to Save America\", and, you know, by nature, a very cheery person.(LAUGHTER)LITHWICK: Thank you so much.MADDOW: It`s good to see you.All right. Much more ahead tonight. Stay with us.(COMMERCIAL BREAK)[21:42:11]MADDOW: In the sedition trial got underway today in Washington, D.C., the biggest sedition trial in American in 80 years, the five members of the right-wing Trump, pro Trump paramilitary group, the Oath Keepers, including their leader, there`s not much in dispute about the facts of the case. The Oath Keepers did descend on D.C. on January 6th, they brought guns and ammo and even hand grenades with them.Today, prosecutors played an audio recording of the group`s leader regretting that they didn`t bring the guns to the Capitol itself.We play the recording of him saying, my only regret is we should have rifles. We could have fixed it right there and then.Oath Keepers and their little fake military uniform, they definitely did go into the Capitol in military formation. Prosecutors say, once side, they split up into two teams, fanning out to go hunt down individual lawmakers. And after January 6th, the group`s leader did definitely keep buying weapons, and messaging fellow Oath Keepers about continuing to try to block President Biden from taking office.None of that is really in dispute in this trial. \"New York Times\" reporter Alan Feuer, who was in the courthouse as the sedition trial kicked off today, he put it this way. He said, quote, because of the government`s wealth of evidence, the trial is less likely to focus on disputes over what the group did in the days and weeks leading up to January 6, as it is to hinge on the question of why they did it.Joining us now is Alan Feuer. He`s covering the trial for \"The New York Times\".Mr. Feuer, appreciate you being here. Thanks for your time.ALAN FEUER, THE NEW YORK TIMES: Thanks for having me, Rachel.MADDOW: So, can you explain that last point, that the dispute in the courtroom is going to be less about what they did and more about why they didn`t. Why is that?FEUER: Sure. So it`s going to get down to a question of intent, right? So, there`s tons of evidence that after the elections, Stewart Rhodes, the leader of the Oath Keepers was very vocal about not wanting to let Joe Biden get into office. The government says that is evidence that they have conspiracy afoot to stop a lawful transfer of power. The defense says no, that`s more of a free speech issue.The why of it, you know, the government, no one disputes that the Oath Keepers had this armed, quick reaction force, stationed in hotel rooms station across the Potomac River in Virginia, kind of at the ready should things go wrong on January 6, and the government says, hey, that`s evidence that they had this plot afoot, to stop the transfer of power again.The defense says no, that had nothing to do with that. Those armed Oath Keepers were stationed in those hotel rooms, awaiting orders from President Trump to invoke a revolutionary era law called the Insurrection Act, that would`ve given them the legal standing, as a militia, to come to Trump`s aide. Again, it`s a question of intent.[21:45:01]MADDOW: In terms of that Insurrection Act argument, sometimes the way these things go in federal trials, I know, is that the judge will rule in advance about essentially the admissibility of a particular argument, in addition to the admissibility of particular evidence. Sometimes a judge will rule, yes you can make that kind of argument, no, you can`t make that kind of argument.Has this issue of the insurrection act potentially sort of legalizing there otherwise illegal actions, is that something that`s been litigated thus far in the trial? Or is this essentially them trying it for the first-time, in front of the jury, and nobody quite knows if it`s going to fly?FEUER: It was absolutely litigated beforehand. The judge set kind of specific limits on how this defense could be raised. And, again, it had to be raised as an issue of intent.There is a defense called a public authority defense, where someone charged with a crime says hey, I thought I was following the law, when I was doing this crime, I thought I was acting under the authority of a government official. And that`s a sort of closely related, but separate thing.What the Oath Keepers are saying here is, they believed. In their minds, they believed that it would have been legal for them to bring their weapons over the river, and come to the aid of their compatriots at the capitol, had Trump invoked the Insurrection Act. And what`s interesting about, that aside from the sort of novel, and very risky, frankly, defense the raising is, you mentioned before, there have been sedition cases in the past, going back to civil war cases, through the wall believes, the radical unionists, through sort of war resisters, you know, on up to Islamic terrorists.Nobody, none of it, and no one charged with seditious conspiracy has ever tried to ally themselves with the chief executive of the government, while charged with seeking to use force against the government. That`s a really kind of weird and new thing here.MADDOW: \"New York Times\" criminal justice reporter Alan Feuer, thank you for explaining that so well, thanks for your time tonight.FEUER: Thanks, Rachel.MADDOW: We`ll be right back. Stay with us.(COMMERCIAL BREAK)[21:51:54]MADDOW: In the state of Kansas, the Republican candidate for governor this year, is this guy Derek Schmidt. Before becoming an elective official himself, he`s currently an attorney general in the state. Mr. Schmidt worked as a staffer for a number of different elected Republicans in Kansas. He worked in the office of Kansas Republican Governor Bill Graves. He was a staffer for former Kansas Republican U.S. Senator Nancy Kassebaum.The reason that`s important to know that now, is because former Kansas Republican Governor Bill Graves, who was Derek Schmidt`s boss all those years ago, has now decided to endorse his Democratic opponent, Laura Kelly, in that race for governor. That happened last month.Now, this week, the same thing is happening again. This time, it`s former Republican U.S. Senator Kassebaum, who also used to be Derek Schmidt`s boss. She too has now endorsed the Democrat in the race, Laura Kelly, over her fellow Republican, and her former employee.And Derek Schmidt`s two Republican bosses are not alone in this. The Democratic governor of Kansas, Laura Kelly, has wrapped up more than 100 endorsements, from prominent Kansas Republicans, all around the state, even though she`s a Democrat.And this is a phenomenon that`s not just happening in Kansas this year. In Michigan, there`s over 150 prominent Republicans from around the state who have crossed over to endorse the go Democratic governor, Gretchen Whitmer, against her Republican opponent.In Pennsylvania, we`re seeing the same thing, headline after headline about prominent Pennsylvania Republicans, endorsing the Democrat, Josh Shapiro, over their party`s candidate, a Republican named Doug Mastriano.Part of the reason we`re seeing this trend is just because the Republican candidates in those races are out there. So much so that, even other Republicans can`t bring themselves to support the candidate from their own party.Tomorrow, Wisconsin`s Democratic Governor Tony Evers is planning to release a new app, highlighting his Republican opponent`s position on abortion. The aim of this ad is pretty clear, to try to put his Republican opponent in that same boat, as the Republicans who are hemorrhaging even Republican support now, in Pennsylvania, Michigan, and Kansas.Tonight, we`ve obtained an exclusive preview of this ad, it`s going to go up in Wisconsin tomorrow. It is quite something. Watch it.(BEGIN VIDEO CLIP, POLITICAL AD)AD NARRATOR: A 12-year-old girl can`t legally drive a car, at 12, she can`t even vote. But if this little girl were tragically raped, or a victim of incest and became pregnant, radical Tim Michels would force her to deliver the baby. He said it`s, quote, not unreasonable for the state government to mandate rape victims to give birth.Would it be unreasonable if you are forcing this on you?Let him know, on Election Day.(END VIDEO CLIP)MADDOW: Let him know on Election Day. Again, we got an exclusive preview of that ad that will go up on the air tomorrow in Wisconsin.Election day, five weeks from tomorrow -- watch this space.(COMMERCIAL BREAK)[21:59:36]MADDOW: Before we go tonight, I want to say thank you and bon voyage to a beloved member of our RACHEL MADDOW SHOW, the great and good Michael Young. Michael has been a camera operator on this show for I think anything but 95 percent of the time that we have been on the air, since we`ve on the air since the dawn of time. That`s a lot of shows that Michael has been behind the camera for.Michael, you are so good at what you do. You`re such a joy to work with every single day, retiring tonight after more than 24 years here with us at MSNBC, the great and good Michael Young. God bless you, my friend. We are really, really, really going to miss you. You are everybody`s favorite coworker.All right, that`s going to do it for us tonight. Alex is going to be here tomorrow. I`ll see you again on Monday.Now it`s time for \"THE LAST WORD\" with Jonathan Capehart, filling in for Lawrence tonight.Good evening, Jonathan.END'"
      ]
     },
     "execution_count": 16,
     "metadata": {},
     "output_type": "execute_result"
    }
   ],
   "source": [
    "sample = data.transcript[0]\n",
    "\n",
    "sample"
   ]
  },
  {
   "cell_type": "markdown",
   "metadata": {},
   "source": [
    "### Stop word removal "
   ]
  },
  {
   "cell_type": "code",
   "execution_count": 17,
   "metadata": {},
   "outputs": [],
   "source": [
    "# Need to lowercase stop words, lowercase text to compare apples to apples \n",
    "\n",
    "# remove stop words \n",
    "\n",
    "def remove_stopwords(text, stop_word_list = []):\n",
    "    # first append any new stop words if there are any\n",
    "    if len(stop_word_list) == 0: \n",
    "        stop_words = set(stopwords.words(\"english\"))\n",
    "    else: \n",
    "        stop_words = set(stopwords.words(\"english\"))\n",
    "        stop_words.update(stop_word_list)\n",
    "        \n",
    "    words = re.findall(r'\\b\\w+\\b', text)\n",
    "    words_without_stopwords = [word for word in words if word.lower() not in stop_words]\n",
    "    return \" \".join(words_without_stopwords)"
   ]
  },
  {
   "cell_type": "code",
   "execution_count": 18,
   "metadata": {},
   "outputs": [],
   "source": [
    "sample = remove_stopwords(sample)"
   ]
  },
  {
   "cell_type": "code",
   "execution_count": 19,
   "metadata": {},
   "outputs": [
    {
     "data": {
      "text/plain": [
       "'SummaryWith public trust low Supreme Court opens new term today Members far right militia group Oath Keepers face seditious conspiracy charges January 6 Transcript CHRIS HAYES MSNBC HOST Yeah probably reporters looking volleyball facilities Baton Rouge Ashton Pittman good reporting thank much ASHTON PITTMAN JOURNALIST Thank HAYES Monday night RACHEL MADDOW SHOW starts right Good evening Rachel RACHEL MADDOW MSNBC HOST Good evening Chris Thank saying nice thing new podcast HAYES Oh good good excited talk made oh good good good bag magic tricks MADDOW heard like still rough draft Like HAYES know weird neurotic self loathing staff share incredible inability take compliment guess final final MADDOW true going 400 drafts heard going public HAYES Well heard still awesome MADDOW kind talk friend Thank much HAYES right MADDOW thanks home joining us hour Happy upon time long ago grand scheme things upon time biggest celebrities America pilots know Time Magazine person year used man year Time Magazine invented whole idea pilot figured needed something 1927 pilot Charles Lindbergh became first person fly nonstop solo across Atlantic Ocean became biggest celebrity world parades held international prizes kinds honors instantly became famous man world 1927 Time got whole man year thing first place invented specifically Amelia Earhart first woman fly across Atlantic first solo pilot fly Hawaii California Amelia Earhart remembered mostly going missing around world flight 1937 really household name United States huge star Lindberg Earhart ones first second world wars flying huge deal Americans nationwide craze Pilots would get really really famous like household name famous setting new records flying routes never flown aviation tricks front audiences mid 1930s female pilot named Laura Ingalls right Amelia Earhart terms national celebrity name Laura Ingalls name may ringing bell Laura Ingalls Wilder wrote Little House Prairie like eighth cousin something Laura Ingalls tell day Laura Ingalls famous distant cousin author would also go famous Laura Ingalls famous pilot first woman ever fly across United States nonstop east west first woman ever fly solo North America South America set overall record fastest flight anyone west coast east coast set another record flying solo around South America set world record barrel rolls 714 barrel rolls row Lambert Field St Louis set record loop loops 980 loops row getting barfy thinking absolute peak golden age aviation Americans crazy aviation fascinated great flyers became great stars Laura Ingalls famous enough daredevil pilot 1934 would literally garner entire article New York Times got speeding ticket big celebrity following year 1935 famous got entire article New York Times got parking ticket mean big deal 1939 things gotten little bit weird Laura Ingalls September 1939 Laura Ingalls arrested flew plane single engine airplane right White House flew White House dropped plane whole big load leaflets pamphlets arguing U joining war Nazis Germany 1939 arrested violating airspace White House 21 05 03 also arrested dropping objects plane defense consider leaflet object 1939 Two years later 1941 Laura Ingalls arrested time indicted paid secret agent working German government one may page one New York Times prosecution contended trial Ingalls Nazi agent paid Hitler government enacting specific technique devised Hitler government quote disunite people countries Hitler intended conquer including us prosecution also asked much knew German official receiving money orders prosecutor asked Laura Ingalls quote know head Gestapo country Laura Ingalls replied know read quite recently newspapers thrilled airport manager home airport doctor saw New York testified startling unprompted would start praising Hitler saying preparing day hit bring new order America doctor testified unnerved came surgery found wearing big swastika pendant clothes end Laura Ingalls incredibly famous aviator one biggest celebrities whole country convicted agent German government among uncomfortable public revelation trial went Gestapo handler German embassy asked missions important assignments apparently want promote Hitler Nazism United States also volunteered spy Germans steal U secrets help Nazis us emerged trial went Gestapo handler ask ask assignments apparently told important thing could already Specifically told nothing valuable could Nazi cause keep giving speeches something called America First Committee America First Committee leading organization time United States opposed U joining war fight Hitler Nazis getting instruction handler Laura Ingalls indeed stepped speech giving America First advised Hitler government paying time became one America First popular nationwide speakers alongside primary national spokesman Charles Lindbergh aforementioned Time Magazine man year seen Germany receiving Nazi medal Hermann Goring one powerful officials Nazi government Goring ate cyanide Nuremburg avoid hanged war criminal always photo pinning swastika Charles Lindbergh national spokesman America First Committee Given history America First Committee country kind amazing anyone decide bring back slogan politics today right Given history America First might think twice conservative political action coalition CPAC influential Republican Party conference weekend put hashtag America first tweet support Russian President Vladimir Putin announcing annexation parts Ukraine initial tweet actually showed waving Russian flag go Putin conquer Europe stay America first CPAC since deleted tweet Around time Laura Ingalls coming investigation paid Nazi agent late 30s husband Charles Ingalls also implicated nationwide plot involving hundreds armed 13 men cells going violently attack government targets around country simultaneously coconspirators expected FDR going win reelection 1940 thought Americas far right would upset outcome order channel upset something much dangerous planned aftermath FDR winning election would mount hundreds simultaneous armed attacks U government targets states across country time Thus sending chaos panic United States galvanizing radicalizing anti Roosevelt Americans culminating violent takeover United States government installation something much like fascist dictatorship Good times week today next Monday launching new podcast called Rachel Maddow Presents Ultra time talking American history last big round fights American people fellow Americans ultra right wanted violently overthrow government decided done elections done democratic governance country willing act means necessary get done including case folks taking support hit government Germany aid cause podcast called Ultra experience country ultra right storyline actually sedition huge sedition trial mounted 200 defendants 1944 trial sort impossible members Congress involved shenanigans implicated going Members Congress used political power Washington intimidate Justice Department drive prosecution course Anyway trailer today podcast launches next week say next week show knew said working last year contemporary resonance story American authoritarianism trying overflow government force January 6 right Putting people trial sedition knew would residence going wanted first place know time pick topic launch date podcast actual sedition trial January 6th would starting day podcast announced happened today Today members Oath Keepers pro Trump paramilitary group Oath Keepers went trial today federal court charges seditious conspiracy largest edition trial since great sedition trial 1944 facing charges conspired use force stop peaceful transferal power new president thereby overthrow U government serious charges brought January 6th defendants convicted charges guys looking 20 year prison sentences tell sedition charges really really hard prove Getting sedition conviction mean bringing sedition charges rare getting conviction sedition charges difficult true serious charges almost structurally true almost sort definition hard prove sedition case mean think sedition charge trying overthrow U government force succeeded effort would charge U government anymore charged sedition definition plotted work may tried U government still stands put trial sedition definition trial sedition seditious plot work means whatever plot government easily minimized improbable know fantastical grave threat since end work almost structural problem kind charge got kind charge like people attempt overthrow government force get try succeed get dictator life fail nothing happens Like decision tree country many guns government today opening Oath Keepers sedition trial played tape Oath Keepers leader telling meeting January 6th quote regret brought rifles could fixed right Meaning regret brought rifles Capitol January 6th also play tape jury meeting followers telling would use idea Trump invoking Insurrection Act legal cover bringing guns Capitol also saying without Instruction Act pronouncement Trump still going means going rely Insurrection Act defense court got chief proponent theory admitting tape fig leaf really mean using pretext 21 15 02 Prosecutors today also introduced evidence addition thousand rounds ammunition many many guns group stage outside C attack Capitol also brought hand grenades learned court first time nice Prosecutors also said moved arrest defendants January 6th hurry believe group planning second armed attack stop transfer power January 6th work second armed attack aimed Biden inauguration Prosecutors said opening statement today Oath Keepers quote planned continue waging war stop transfer power Thankfully plans foiled January 17th FBI began arresting conspirators might remember footage January 6th members Oath Keepers military style gear using ranger stack formation one hand shoulder person front moving front crowd steps capital leading breach capitol building Today prosecutors said Oath Keepers led breach way divided two groups One led Oath Keeper guy pled guilty cooperating prosecutors led one today defendants According prosecutors today group split inside Capitol one specific mission go find House Speaker Nancy Pelosi leader group unit Oath Keepers went hunting Pelosi texted family election day saying ready go quote killing spree quote Pelosi would first one leading group Oath Keepers went hunting Nancy Pelosi day inside Capitol find trial started today expected go month probably next month well second round Oath Keepers defendants going go trial similar charges leader Oath Keepers man name Stewart Rhodes one five defendants trial today former Ron Paul staffer worked father Republican Senator Rand Paul dad Ron Paul Republican congressman Texas seems come nearly enough covering historic trial 36 days year congressional elections country decide whether Democrats Republicans control Congress Senate New York Times today reporting Republicans take House least eight congressional committees due chaired members Congress voted certify election results voted overturn election results keep Trump power despite vote members Congress took vote Capitol attack January 6th running eight important committees U Congress also Supreme Court term started today new conservative super majority Supreme Court gone way put case something called independent state legislature doctrine thing swear well truly boring read soporific feel mean boring particularly lawyer However independent state legislature doctrine could state case could Supreme Court justices asked hear case effectively could give Republicans state legislatures power Trump demanded 2020 could give Republican controlled state legislatures power decide election results state regardless people state voted Trump demanded Republican state legislators 2020 Supreme Court case court term could potentially legalize illegal unconstitutional scheme Trump demanding Republicans supported hand electors states fact lost quite moment right time got biggest sedition trial 80 year underway Washington podcast last sedition threat like late 30s early 40s order find closest president facing today right happening Washington today closing election people deny real election results anymore trying take also today starting new Supreme Court session court never lower level respect American people entire time pollsters asking American people level respect court 21 20 08 new conservative super majority Supreme Court reaching way term way way way take cases expected serve vehicle let state legislatures change election results get rid affirmative action programs education get rid antidiscrimination civil rights laws protect gay people get rid crown jewel achievement United States civil rights movement voting rights movement course Voting Rights Act Conservatives court already took away heart Voting Rights Act 2013 case going hear tomorrow could pave way hollowed rest case going hear tomorrow case Alabama Alabama population quarter African American Republicans control Alabama state legislature want one state congressional districts majority black electorate Voting Rights Act even conservative court two Trump appointed judges told Alabama illegal infringement voting rights black voters quarter population African American six seven congressional seats majority white districts Voting Rights Act even hollowed prevents something extreme court ruling controlling case right Supreme Court nevertheless chosen weigh expectation going tell Alabama rest country go ahead want need worry pesky Voting Rights Act anymore think radical thing imagine mean court overruled Roe v Wade right recent Gallup poll shows American people say trust court dropped 20 points since 2020 past two years Another similar poll Marquette Law School shows drop 26 points past two years perception court keeps dropping like might think court start getting worried American soon respect court enough follow rulings anymore course would disaster country would literally end rule law fundamental way one thing sure playing fundamentals lots ways days Pushing right edge occasionally know enough history know pushed far past well fights hold constitutional republic win Constitution self healing document Prosecutions kind stuff even happen hard win end country Whether volunteering candidate running year maybe running office even carrying poll worker door knocking latest good government pro democracy initiative ballot live whatever right particularly next six weeks part decide happens next country outcome certain point middle good luck us COMMERCIAL BREAK 21 28 14 MADDOW Today first time United States Supreme Court let public inside oral arguments since start pandemic March 2020 also first day bench newest kid class brand new Supreme Court Justice Ketanji Brown Jackson start new extremity term typically exciting moment feels less likely kind exciting get first day school like kind excitement get trying take picture scenic day top perilous cruelest railing leaning brakes taking picture fall abyss year feels exciting way Public trust United States Supreme Court make decisions job never lower survey Gallup group trusts federal judiciary right red line Republicans Democrats independents Democrats independents 50 percent new poll Marquette Law School shows American public approval Supreme Court specifically dropped 26 points two years popularity contest sad tale people liking court story country Americans wholesale lose face court consequence mean long risk unspeakable thing American people longer consent follow courts rulings going follow follow instead law courtroom rulings longer hold sway courts longer seen legitimate happening course wake decision overturn Roe versus Wade unimaginable unpopular benchmark nevertheless passed living 21 30 06 term starts today conservative supermajority court cases could continue reshaping life know terms almost fundamental Roe Affirmative action gay rights voting rights whether state legislatures get decide elections say Tomorrow court hill hear voting rights Alabama quarter population African American six seven congressional districts majority white case court hearing tomorrow potential undo congressional districts Black Brown lawmakers every state Union new book Lady Justice really good favorite court watcher land Dahlia Lithwick writes women particular tenterhooks right fully aware much risk radicalism moment facing Dahlia Lithwick writes conclusion book quote truly frightening moment Election deniers laying tracks set aside 2024 election Supreme Court first time history reversed precedent order take away freedom rather expand court works ever harder limit voting rights States punish LGBTQ families banned books schools Supreme Court hear case affording state legislatures right determine election outcomes discredited legal theory deployed try set aside set aside 2020 contest reversed year even decade says quote believe women sleep revanchist backsliding easier sleep colic hear things see things awake Joining us dahlia Lithwick senior editor Slate author Lady Justice Women Law Battle Save America Dahlia great see DAHLIA LITHWICK AUTHOR LADY JUSTICE good back MADDOW really nice peson LITHWICK ought cheerful two us MADDOW Sorry want hear Nazi stories sorry LITHWICK usually depressive two us man really set bar low MADDOW mean point though see current challenges unprecedented challenges difficult moments including unconstitutional fundamentals past takes lot takes courts takes justice department takes jail bad guys fix things feel like Lady Justice way approaching current court sort telling little bit story work silver bullet LITHWICK telling exactly story told think winning lawsuits going get enough win lot lawsuits sense book bunch amazing lawsuits last third book exactly talking organizing registering voters structural democracy reform right Senate reforms Electoral College reforms think massive reform Supreme Court thing going get fixed midterms going fixed 2024 assuming 2024 election plays way hope really moment people say protect poll workers protect teachers going make sure secretary state race state essential thing lose track structural democratic fix absolutely essential everybody paying attention MADDOW honestly mean sort time concerned democracy concerned happening state today day far enough election still time ask well tell kids grandkids kibbutz friends moment going say role helping participate trying hold thing say value One things scared one things tell make changes vote worried Voting Rights Act going hearing tomorrow expectations terms dilution voting rights minorities threats voting rights court year LITHWICK Yeah mean existential think said initially exactly correct beginning process process began Shelby County began Citizens United began Brnovich two years ago section 2 Voting Rights Act circumscribed really left Voting Rights Act eviscerated court think suspect going tomorrow hear spring going almost impossible effectuate rights protected said section 2 Voting Rights Act crown jewel going get fair voting 21 35 12 think put tandem case talking independent state legislature case really looking attempt black robes Donald Trump John Eastman tried 2020 election say going give state legislatures almost unfettered power elections gerrymandering vote suppression including election denialism right Harper case think reviewable turns reviewable state courts state constitutions essentially green lighting thing happen 2020 soon MADDOW court terms court legitimacy term think thrown around lot without people knowing means court legitimacy continues flux way feels like free fall influx think justices starting worry people following orders people start following rulings conscious threat LITHWICK Rachel year ago would said yes year ago would said know SB8 shadow docket ethics stuff saw around Clarence Thomas wife involved least tangentially January 6th failing recuse case squarely January 6th point process including Dobbs lead would said court trouble wheels coming understand plan B rule law gone gone decades longer confidence bothering go far say think Justice Alito Chief Justice Roberts scolding us conversations legitimacy rather asking could done differently think evidence gaslighting evidence care MADDOW Dahlia Lithwick author Lady Justice Women Law Battle Save America know nature cheery person LAUGHTER LITHWICK Thank much MADDOW good see right Much ahead tonight Stay us COMMERCIAL BREAK 21 42 11 MADDOW sedition trial got underway today Washington C biggest sedition trial American 80 years five members right wing Trump pro Trump paramilitary group Oath Keepers including leader much dispute facts case Oath Keepers descend C January 6th brought guns ammo even hand grenades Today prosecutors played audio recording group leader regretting bring guns Capitol play recording saying regret rifles could fixed right Oath Keepers little fake military uniform definitely go Capitol military formation Prosecutors say side split two teams fanning go hunt individual lawmakers January 6th group leader definitely keep buying weapons messaging fellow Oath Keepers continuing try block President Biden taking office None really dispute trial New York Times reporter Alan Feuer courthouse sedition trial kicked today put way said quote government wealth evidence trial less likely focus disputes group days weeks leading January 6 hinge question Joining us Alan Feuer covering trial New York Times Mr Feuer appreciate Thanks time ALAN FEUER NEW YORK TIMES Thanks Rachel MADDOW explain last point dispute courtroom going less FEUER Sure going get question intent right tons evidence elections Stewart Rhodes leader Oath Keepers vocal wanting let Joe Biden get office government says evidence conspiracy afoot stop lawful transfer power defense says free speech issue know government one disputes Oath Keepers armed quick reaction force stationed hotel rooms station across Potomac River Virginia kind ready things go wrong January 6 government says hey evidence plot afoot stop transfer power defense says nothing armed Oath Keepers stationed hotel rooms awaiting orders President Trump invoke revolutionary era law called Insurrection Act would given legal standing militia come Trump aide question intent 21 45 01 MADDOW terms Insurrection Act argument sometimes way things go federal trials know judge rule advance essentially admissibility particular argument addition admissibility particular evidence Sometimes judge rule yes make kind argument make kind argument issue insurrection act potentially sort legalizing otherwise illegal actions something litigated thus far trial essentially trying first time front jury nobody quite knows going fly FEUER absolutely litigated beforehand judge set kind specific limits defense could raised raised issue intent defense called public authority defense someone charged crime says hey thought following law crime thought acting authority government official sort closely related separate thing Oath Keepers saying believed minds believed would legal bring weapons river come aid compatriots capitol Trump invoked Insurrection Act interesting aside sort novel risky frankly defense raising mentioned sedition cases past going back civil war cases wall believes radical unionists sort war resisters know Islamic terrorists Nobody none one charged seditious conspiracy ever tried ally chief executive government charged seeking use force government really kind weird new thing MADDOW New York Times criminal justice reporter Alan Feuer thank explaining well thanks time tonight FEUER Thanks Rachel MADDOW right back Stay us COMMERCIAL BREAK 21 51 54 MADDOW state Kansas Republican candidate governor year guy Derek Schmidt becoming elective official currently attorney general state Mr Schmidt worked staffer number different elected Republicans Kansas worked office Kansas Republican Governor Bill Graves staffer former Kansas Republican U Senator Nancy Kassebaum reason important know former Kansas Republican Governor Bill Graves Derek Schmidt boss years ago decided endorse Democratic opponent Laura Kelly race governor happened last month week thing happening time former Republican U Senator Kassebaum also used Derek Schmidt boss endorsed Democrat race Laura Kelly fellow Republican former employee Derek Schmidt two Republican bosses alone Democratic governor Kansas Laura Kelly wrapped 100 endorsements prominent Kansas Republicans around state even though Democrat phenomenon happening Kansas year Michigan 150 prominent Republicans around state crossed endorse go Democratic governor Gretchen Whitmer Republican opponent Pennsylvania seeing thing headline headline prominent Pennsylvania Republicans endorsing Democrat Josh Shapiro party candidate Republican named Doug Mastriano Part reason seeing trend Republican candidates races much even Republicans bring support candidate party Tomorrow Wisconsin Democratic Governor Tony Evers planning release new app highlighting Republican opponent position abortion aim ad pretty clear try put Republican opponent boat Republicans hemorrhaging even Republican support Pennsylvania Michigan Kansas Tonight obtained exclusive preview ad going go Wisconsin tomorrow quite something Watch BEGIN VIDEO CLIP POLITICAL AD AD NARRATOR 12 year old girl legally drive car 12 even vote little girl tragically raped victim incest became pregnant radical Tim Michels would force deliver baby said quote unreasonable state government mandate rape victims give birth Would unreasonable forcing Let know Election Day END VIDEO CLIP MADDOW Let know Election Day got exclusive preview ad go air tomorrow Wisconsin Election day five weeks tomorrow watch space COMMERCIAL BREAK 21 59 36 MADDOW go tonight want say thank bon voyage beloved member RACHEL MADDOW SHOW great good Michael Young Michael camera operator show think anything 95 percent time air since air since dawn time lot shows Michael behind camera Michael good joy work every single day retiring tonight 24 years us MSNBC great good Michael Young God bless friend really really really going miss everybody favorite coworker right going us tonight Alex going tomorrow see Monday time LAST WORD Jonathan Capehart filling Lawrence tonight Good evening Jonathan END'"
      ]
     },
     "execution_count": 19,
     "metadata": {},
     "output_type": "execute_result"
    }
   ],
   "source": [
    "sample"
   ]
  },
  {
   "cell_type": "code",
   "execution_count": 20,
   "metadata": {},
   "outputs": [],
   "source": [
    "data['stop words removed'] = [remove_stopwords(text, ['Rachel', 'Maddow']) for text in data.transcript]"
   ]
  },
  {
   "cell_type": "markdown",
   "metadata": {},
   "source": [
    "### Lemmatization"
   ]
  },
  {
   "cell_type": "code",
   "execution_count": 21,
   "metadata": {},
   "outputs": [],
   "source": [
    "def lemmatize_text(text):\n",
    "    lemmatizer = WordNetLemmatizer()\n",
    "    tokens = word_tokenize(text)\n",
    "    lemmatized_words = [lemmatizer.lemmatize(word) for word in tokens]\n",
    "    return \" \".join(lemmatized_words)"
   ]
  },
  {
   "cell_type": "code",
   "execution_count": 22,
   "metadata": {},
   "outputs": [
    {
     "ename": "LookupError",
     "evalue": "\n**********************************************************************\n  Resource \u001b[93mpunkt\u001b[0m not found.\n  Please use the NLTK Downloader to obtain the resource:\n\n  \u001b[31m>>> import nltk\n  >>> nltk.download('punkt')\n  \u001b[0m\n  For more information see: https://www.nltk.org/data.html\n\n  Attempted to load \u001b[93mtokenizers/punkt/english.pickle\u001b[0m\n\n  Searched in:\n    - 'C:\\\\Users\\\\rache/nltk_data'\n    - 'C:\\\\Program Files\\\\WindowsApps\\\\PythonSoftwareFoundation.Python.3.11_3.11.752.0_x64__qbz5n2kfra8p0\\\\nltk_data'\n    - 'C:\\\\Program Files\\\\WindowsApps\\\\PythonSoftwareFoundation.Python.3.11_3.11.752.0_x64__qbz5n2kfra8p0\\\\share\\\\nltk_data'\n    - 'C:\\\\Program Files\\\\WindowsApps\\\\PythonSoftwareFoundation.Python.3.11_3.11.752.0_x64__qbz5n2kfra8p0\\\\lib\\\\nltk_data'\n    - 'C:\\\\Users\\\\rache\\\\AppData\\\\Roaming\\\\nltk_data'\n    - 'C:\\\\nltk_data'\n    - 'D:\\\\nltk_data'\n    - 'E:\\\\nltk_data'\n    - ''\n**********************************************************************\n",
     "output_type": "error",
     "traceback": [
      "\u001b[1;31m---------------------------------------------------------------------------\u001b[0m",
      "\u001b[1;31mLookupError\u001b[0m                               Traceback (most recent call last)",
      "Cell \u001b[1;32mIn[22], line 1\u001b[0m\n\u001b[1;32m----> 1\u001b[0m sample \u001b[39m=\u001b[39m lemmatize_text(sample)\n",
      "Cell \u001b[1;32mIn[21], line 3\u001b[0m, in \u001b[0;36mlemmatize_text\u001b[1;34m(text)\u001b[0m\n\u001b[0;32m      1\u001b[0m \u001b[39mdef\u001b[39;00m \u001b[39mlemmatize_text\u001b[39m(text):\n\u001b[0;32m      2\u001b[0m     lemmatizer \u001b[39m=\u001b[39m WordNetLemmatizer()\n\u001b[1;32m----> 3\u001b[0m     tokens \u001b[39m=\u001b[39m word_tokenize(text)\n\u001b[0;32m      4\u001b[0m     lemmatized_words \u001b[39m=\u001b[39m [lemmatizer\u001b[39m.\u001b[39mlemmatize(word) \u001b[39mfor\u001b[39;00m word \u001b[39min\u001b[39;00m tokens]\n\u001b[0;32m      5\u001b[0m     \u001b[39mreturn\u001b[39;00m \u001b[39m\"\u001b[39m\u001b[39m \u001b[39m\u001b[39m\"\u001b[39m\u001b[39m.\u001b[39mjoin(lemmatized_words)\n",
      "File \u001b[1;32m~\\AppData\\Local\\Packages\\PythonSoftwareFoundation.Python.3.11_qbz5n2kfra8p0\\LocalCache\\local-packages\\Python311\\site-packages\\nltk\\tokenize\\__init__.py:129\u001b[0m, in \u001b[0;36mword_tokenize\u001b[1;34m(text, language, preserve_line)\u001b[0m\n\u001b[0;32m    114\u001b[0m \u001b[39mdef\u001b[39;00m \u001b[39mword_tokenize\u001b[39m(text, language\u001b[39m=\u001b[39m\u001b[39m\"\u001b[39m\u001b[39menglish\u001b[39m\u001b[39m\"\u001b[39m, preserve_line\u001b[39m=\u001b[39m\u001b[39mFalse\u001b[39;00m):\n\u001b[0;32m    115\u001b[0m \u001b[39m    \u001b[39m\u001b[39m\"\"\"\u001b[39;00m\n\u001b[0;32m    116\u001b[0m \u001b[39m    Return a tokenized copy of *text*,\u001b[39;00m\n\u001b[0;32m    117\u001b[0m \u001b[39m    using NLTK's recommended word tokenizer\u001b[39;00m\n\u001b[1;32m   (...)\u001b[0m\n\u001b[0;32m    127\u001b[0m \u001b[39m    :type preserve_line: bool\u001b[39;00m\n\u001b[0;32m    128\u001b[0m \u001b[39m    \"\"\"\u001b[39;00m\n\u001b[1;32m--> 129\u001b[0m     sentences \u001b[39m=\u001b[39m [text] \u001b[39mif\u001b[39;00m preserve_line \u001b[39melse\u001b[39;00m sent_tokenize(text, language)\n\u001b[0;32m    130\u001b[0m     \u001b[39mreturn\u001b[39;00m [\n\u001b[0;32m    131\u001b[0m         token \u001b[39mfor\u001b[39;00m sent \u001b[39min\u001b[39;00m sentences \u001b[39mfor\u001b[39;00m token \u001b[39min\u001b[39;00m _treebank_word_tokenizer\u001b[39m.\u001b[39mtokenize(sent)\n\u001b[0;32m    132\u001b[0m     ]\n",
      "File \u001b[1;32m~\\AppData\\Local\\Packages\\PythonSoftwareFoundation.Python.3.11_qbz5n2kfra8p0\\LocalCache\\local-packages\\Python311\\site-packages\\nltk\\tokenize\\__init__.py:106\u001b[0m, in \u001b[0;36msent_tokenize\u001b[1;34m(text, language)\u001b[0m\n\u001b[0;32m     96\u001b[0m \u001b[39mdef\u001b[39;00m \u001b[39msent_tokenize\u001b[39m(text, language\u001b[39m=\u001b[39m\u001b[39m\"\u001b[39m\u001b[39menglish\u001b[39m\u001b[39m\"\u001b[39m):\n\u001b[0;32m     97\u001b[0m \u001b[39m    \u001b[39m\u001b[39m\"\"\"\u001b[39;00m\n\u001b[0;32m     98\u001b[0m \u001b[39m    Return a sentence-tokenized copy of *text*,\u001b[39;00m\n\u001b[0;32m     99\u001b[0m \u001b[39m    using NLTK's recommended sentence tokenizer\u001b[39;00m\n\u001b[1;32m   (...)\u001b[0m\n\u001b[0;32m    104\u001b[0m \u001b[39m    :param language: the model name in the Punkt corpus\u001b[39;00m\n\u001b[0;32m    105\u001b[0m \u001b[39m    \"\"\"\u001b[39;00m\n\u001b[1;32m--> 106\u001b[0m     tokenizer \u001b[39m=\u001b[39m load(\u001b[39mf\u001b[39;49m\u001b[39m\"\u001b[39;49m\u001b[39mtokenizers/punkt/\u001b[39;49m\u001b[39m{\u001b[39;49;00mlanguage\u001b[39m}\u001b[39;49;00m\u001b[39m.pickle\u001b[39;49m\u001b[39m\"\u001b[39;49m)\n\u001b[0;32m    107\u001b[0m     \u001b[39mreturn\u001b[39;00m tokenizer\u001b[39m.\u001b[39mtokenize(text)\n",
      "File \u001b[1;32m~\\AppData\\Local\\Packages\\PythonSoftwareFoundation.Python.3.11_qbz5n2kfra8p0\\LocalCache\\local-packages\\Python311\\site-packages\\nltk\\data.py:750\u001b[0m, in \u001b[0;36mload\u001b[1;34m(resource_url, format, cache, verbose, logic_parser, fstruct_reader, encoding)\u001b[0m\n\u001b[0;32m    747\u001b[0m     \u001b[39mprint\u001b[39m(\u001b[39mf\u001b[39m\u001b[39m\"\u001b[39m\u001b[39m<<Loading \u001b[39m\u001b[39m{\u001b[39;00mresource_url\u001b[39m}\u001b[39;00m\u001b[39m>>\u001b[39m\u001b[39m\"\u001b[39m)\n\u001b[0;32m    749\u001b[0m \u001b[39m# Load the resource.\u001b[39;00m\n\u001b[1;32m--> 750\u001b[0m opened_resource \u001b[39m=\u001b[39m _open(resource_url)\n\u001b[0;32m    752\u001b[0m \u001b[39mif\u001b[39;00m \u001b[39mformat\u001b[39m \u001b[39m==\u001b[39m \u001b[39m\"\u001b[39m\u001b[39mraw\u001b[39m\u001b[39m\"\u001b[39m:\n\u001b[0;32m    753\u001b[0m     resource_val \u001b[39m=\u001b[39m opened_resource\u001b[39m.\u001b[39mread()\n",
      "File \u001b[1;32m~\\AppData\\Local\\Packages\\PythonSoftwareFoundation.Python.3.11_qbz5n2kfra8p0\\LocalCache\\local-packages\\Python311\\site-packages\\nltk\\data.py:876\u001b[0m, in \u001b[0;36m_open\u001b[1;34m(resource_url)\u001b[0m\n\u001b[0;32m    873\u001b[0m protocol, path_ \u001b[39m=\u001b[39m split_resource_url(resource_url)\n\u001b[0;32m    875\u001b[0m \u001b[39mif\u001b[39;00m protocol \u001b[39mis\u001b[39;00m \u001b[39mNone\u001b[39;00m \u001b[39mor\u001b[39;00m protocol\u001b[39m.\u001b[39mlower() \u001b[39m==\u001b[39m \u001b[39m\"\u001b[39m\u001b[39mnltk\u001b[39m\u001b[39m\"\u001b[39m:\n\u001b[1;32m--> 876\u001b[0m     \u001b[39mreturn\u001b[39;00m find(path_, path \u001b[39m+\u001b[39;49m [\u001b[39m\"\u001b[39;49m\u001b[39m\"\u001b[39;49m])\u001b[39m.\u001b[39mopen()\n\u001b[0;32m    877\u001b[0m \u001b[39melif\u001b[39;00m protocol\u001b[39m.\u001b[39mlower() \u001b[39m==\u001b[39m \u001b[39m\"\u001b[39m\u001b[39mfile\u001b[39m\u001b[39m\"\u001b[39m:\n\u001b[0;32m    878\u001b[0m     \u001b[39m# urllib might not use mode='rb', so handle this one ourselves:\u001b[39;00m\n\u001b[0;32m    879\u001b[0m     \u001b[39mreturn\u001b[39;00m find(path_, [\u001b[39m\"\u001b[39m\u001b[39m\"\u001b[39m])\u001b[39m.\u001b[39mopen()\n",
      "File \u001b[1;32m~\\AppData\\Local\\Packages\\PythonSoftwareFoundation.Python.3.11_qbz5n2kfra8p0\\LocalCache\\local-packages\\Python311\\site-packages\\nltk\\data.py:583\u001b[0m, in \u001b[0;36mfind\u001b[1;34m(resource_name, paths)\u001b[0m\n\u001b[0;32m    581\u001b[0m sep \u001b[39m=\u001b[39m \u001b[39m\"\u001b[39m\u001b[39m*\u001b[39m\u001b[39m\"\u001b[39m \u001b[39m*\u001b[39m \u001b[39m70\u001b[39m\n\u001b[0;32m    582\u001b[0m resource_not_found \u001b[39m=\u001b[39m \u001b[39mf\u001b[39m\u001b[39m\"\u001b[39m\u001b[39m\\n\u001b[39;00m\u001b[39m{\u001b[39;00msep\u001b[39m}\u001b[39;00m\u001b[39m\\n\u001b[39;00m\u001b[39m{\u001b[39;00mmsg\u001b[39m}\u001b[39;00m\u001b[39m\\n\u001b[39;00m\u001b[39m{\u001b[39;00msep\u001b[39m}\u001b[39;00m\u001b[39m\\n\u001b[39;00m\u001b[39m\"\u001b[39m\n\u001b[1;32m--> 583\u001b[0m \u001b[39mraise\u001b[39;00m \u001b[39mLookupError\u001b[39;00m(resource_not_found)\n",
      "\u001b[1;31mLookupError\u001b[0m: \n**********************************************************************\n  Resource \u001b[93mpunkt\u001b[0m not found.\n  Please use the NLTK Downloader to obtain the resource:\n\n  \u001b[31m>>> import nltk\n  >>> nltk.download('punkt')\n  \u001b[0m\n  For more information see: https://www.nltk.org/data.html\n\n  Attempted to load \u001b[93mtokenizers/punkt/english.pickle\u001b[0m\n\n  Searched in:\n    - 'C:\\\\Users\\\\rache/nltk_data'\n    - 'C:\\\\Program Files\\\\WindowsApps\\\\PythonSoftwareFoundation.Python.3.11_3.11.752.0_x64__qbz5n2kfra8p0\\\\nltk_data'\n    - 'C:\\\\Program Files\\\\WindowsApps\\\\PythonSoftwareFoundation.Python.3.11_3.11.752.0_x64__qbz5n2kfra8p0\\\\share\\\\nltk_data'\n    - 'C:\\\\Program Files\\\\WindowsApps\\\\PythonSoftwareFoundation.Python.3.11_3.11.752.0_x64__qbz5n2kfra8p0\\\\lib\\\\nltk_data'\n    - 'C:\\\\Users\\\\rache\\\\AppData\\\\Roaming\\\\nltk_data'\n    - 'C:\\\\nltk_data'\n    - 'D:\\\\nltk_data'\n    - 'E:\\\\nltk_data'\n    - ''\n**********************************************************************\n"
     ]
    }
   ],
   "source": [
    "sample = lemmatize_text(sample)"
   ]
  },
  {
   "cell_type": "code",
   "execution_count": 23,
   "metadata": {},
   "outputs": [],
   "source": [
    "#sample"
   ]
  },
  {
   "cell_type": "code",
   "execution_count": 24,
   "metadata": {},
   "outputs": [
    {
     "ename": "LookupError",
     "evalue": "\n**********************************************************************\n  Resource \u001b[93mpunkt\u001b[0m not found.\n  Please use the NLTK Downloader to obtain the resource:\n\n  \u001b[31m>>> import nltk\n  >>> nltk.download('punkt')\n  \u001b[0m\n  For more information see: https://www.nltk.org/data.html\n\n  Attempted to load \u001b[93mtokenizers/punkt/english.pickle\u001b[0m\n\n  Searched in:\n    - 'C:\\\\Users\\\\rache/nltk_data'\n    - 'C:\\\\Program Files\\\\WindowsApps\\\\PythonSoftwareFoundation.Python.3.11_3.11.752.0_x64__qbz5n2kfra8p0\\\\nltk_data'\n    - 'C:\\\\Program Files\\\\WindowsApps\\\\PythonSoftwareFoundation.Python.3.11_3.11.752.0_x64__qbz5n2kfra8p0\\\\share\\\\nltk_data'\n    - 'C:\\\\Program Files\\\\WindowsApps\\\\PythonSoftwareFoundation.Python.3.11_3.11.752.0_x64__qbz5n2kfra8p0\\\\lib\\\\nltk_data'\n    - 'C:\\\\Users\\\\rache\\\\AppData\\\\Roaming\\\\nltk_data'\n    - 'C:\\\\nltk_data'\n    - 'D:\\\\nltk_data'\n    - 'E:\\\\nltk_data'\n    - ''\n**********************************************************************\n",
     "output_type": "error",
     "traceback": [
      "\u001b[1;31m---------------------------------------------------------------------------\u001b[0m",
      "\u001b[1;31mLookupError\u001b[0m                               Traceback (most recent call last)",
      "Cell \u001b[1;32mIn[24], line 1\u001b[0m\n\u001b[1;32m----> 1\u001b[0m data[\u001b[39m'\u001b[39m\u001b[39mstop words and lemmatization\u001b[39m\u001b[39m'\u001b[39m] \u001b[39m=\u001b[39m [lemmatize_text(text) \u001b[39mfor\u001b[39;49;00m text \u001b[39min\u001b[39;49;00m data[\u001b[39m'\u001b[39;49m\u001b[39mstop words removed\u001b[39;49m\u001b[39m'\u001b[39;49m]]\n",
      "Cell \u001b[1;32mIn[24], line 1\u001b[0m, in \u001b[0;36m<listcomp>\u001b[1;34m(.0)\u001b[0m\n\u001b[1;32m----> 1\u001b[0m data[\u001b[39m'\u001b[39m\u001b[39mstop words and lemmatization\u001b[39m\u001b[39m'\u001b[39m] \u001b[39m=\u001b[39m [lemmatize_text(text) \u001b[39mfor\u001b[39;00m text \u001b[39min\u001b[39;00m data[\u001b[39m'\u001b[39m\u001b[39mstop words removed\u001b[39m\u001b[39m'\u001b[39m]]\n",
      "Cell \u001b[1;32mIn[21], line 3\u001b[0m, in \u001b[0;36mlemmatize_text\u001b[1;34m(text)\u001b[0m\n\u001b[0;32m      1\u001b[0m \u001b[39mdef\u001b[39;00m \u001b[39mlemmatize_text\u001b[39m(text):\n\u001b[0;32m      2\u001b[0m     lemmatizer \u001b[39m=\u001b[39m WordNetLemmatizer()\n\u001b[1;32m----> 3\u001b[0m     tokens \u001b[39m=\u001b[39m word_tokenize(text)\n\u001b[0;32m      4\u001b[0m     lemmatized_words \u001b[39m=\u001b[39m [lemmatizer\u001b[39m.\u001b[39mlemmatize(word) \u001b[39mfor\u001b[39;00m word \u001b[39min\u001b[39;00m tokens]\n\u001b[0;32m      5\u001b[0m     \u001b[39mreturn\u001b[39;00m \u001b[39m\"\u001b[39m\u001b[39m \u001b[39m\u001b[39m\"\u001b[39m\u001b[39m.\u001b[39mjoin(lemmatized_words)\n",
      "File \u001b[1;32m~\\AppData\\Local\\Packages\\PythonSoftwareFoundation.Python.3.11_qbz5n2kfra8p0\\LocalCache\\local-packages\\Python311\\site-packages\\nltk\\tokenize\\__init__.py:129\u001b[0m, in \u001b[0;36mword_tokenize\u001b[1;34m(text, language, preserve_line)\u001b[0m\n\u001b[0;32m    114\u001b[0m \u001b[39mdef\u001b[39;00m \u001b[39mword_tokenize\u001b[39m(text, language\u001b[39m=\u001b[39m\u001b[39m\"\u001b[39m\u001b[39menglish\u001b[39m\u001b[39m\"\u001b[39m, preserve_line\u001b[39m=\u001b[39m\u001b[39mFalse\u001b[39;00m):\n\u001b[0;32m    115\u001b[0m \u001b[39m    \u001b[39m\u001b[39m\"\"\"\u001b[39;00m\n\u001b[0;32m    116\u001b[0m \u001b[39m    Return a tokenized copy of *text*,\u001b[39;00m\n\u001b[0;32m    117\u001b[0m \u001b[39m    using NLTK's recommended word tokenizer\u001b[39;00m\n\u001b[1;32m   (...)\u001b[0m\n\u001b[0;32m    127\u001b[0m \u001b[39m    :type preserve_line: bool\u001b[39;00m\n\u001b[0;32m    128\u001b[0m \u001b[39m    \"\"\"\u001b[39;00m\n\u001b[1;32m--> 129\u001b[0m     sentences \u001b[39m=\u001b[39m [text] \u001b[39mif\u001b[39;00m preserve_line \u001b[39melse\u001b[39;00m sent_tokenize(text, language)\n\u001b[0;32m    130\u001b[0m     \u001b[39mreturn\u001b[39;00m [\n\u001b[0;32m    131\u001b[0m         token \u001b[39mfor\u001b[39;00m sent \u001b[39min\u001b[39;00m sentences \u001b[39mfor\u001b[39;00m token \u001b[39min\u001b[39;00m _treebank_word_tokenizer\u001b[39m.\u001b[39mtokenize(sent)\n\u001b[0;32m    132\u001b[0m     ]\n",
      "File \u001b[1;32m~\\AppData\\Local\\Packages\\PythonSoftwareFoundation.Python.3.11_qbz5n2kfra8p0\\LocalCache\\local-packages\\Python311\\site-packages\\nltk\\tokenize\\__init__.py:106\u001b[0m, in \u001b[0;36msent_tokenize\u001b[1;34m(text, language)\u001b[0m\n\u001b[0;32m     96\u001b[0m \u001b[39mdef\u001b[39;00m \u001b[39msent_tokenize\u001b[39m(text, language\u001b[39m=\u001b[39m\u001b[39m\"\u001b[39m\u001b[39menglish\u001b[39m\u001b[39m\"\u001b[39m):\n\u001b[0;32m     97\u001b[0m \u001b[39m    \u001b[39m\u001b[39m\"\"\"\u001b[39;00m\n\u001b[0;32m     98\u001b[0m \u001b[39m    Return a sentence-tokenized copy of *text*,\u001b[39;00m\n\u001b[0;32m     99\u001b[0m \u001b[39m    using NLTK's recommended sentence tokenizer\u001b[39;00m\n\u001b[1;32m   (...)\u001b[0m\n\u001b[0;32m    104\u001b[0m \u001b[39m    :param language: the model name in the Punkt corpus\u001b[39;00m\n\u001b[0;32m    105\u001b[0m \u001b[39m    \"\"\"\u001b[39;00m\n\u001b[1;32m--> 106\u001b[0m     tokenizer \u001b[39m=\u001b[39m load(\u001b[39mf\u001b[39;49m\u001b[39m\"\u001b[39;49m\u001b[39mtokenizers/punkt/\u001b[39;49m\u001b[39m{\u001b[39;49;00mlanguage\u001b[39m}\u001b[39;49;00m\u001b[39m.pickle\u001b[39;49m\u001b[39m\"\u001b[39;49m)\n\u001b[0;32m    107\u001b[0m     \u001b[39mreturn\u001b[39;00m tokenizer\u001b[39m.\u001b[39mtokenize(text)\n",
      "File \u001b[1;32m~\\AppData\\Local\\Packages\\PythonSoftwareFoundation.Python.3.11_qbz5n2kfra8p0\\LocalCache\\local-packages\\Python311\\site-packages\\nltk\\data.py:750\u001b[0m, in \u001b[0;36mload\u001b[1;34m(resource_url, format, cache, verbose, logic_parser, fstruct_reader, encoding)\u001b[0m\n\u001b[0;32m    747\u001b[0m     \u001b[39mprint\u001b[39m(\u001b[39mf\u001b[39m\u001b[39m\"\u001b[39m\u001b[39m<<Loading \u001b[39m\u001b[39m{\u001b[39;00mresource_url\u001b[39m}\u001b[39;00m\u001b[39m>>\u001b[39m\u001b[39m\"\u001b[39m)\n\u001b[0;32m    749\u001b[0m \u001b[39m# Load the resource.\u001b[39;00m\n\u001b[1;32m--> 750\u001b[0m opened_resource \u001b[39m=\u001b[39m _open(resource_url)\n\u001b[0;32m    752\u001b[0m \u001b[39mif\u001b[39;00m \u001b[39mformat\u001b[39m \u001b[39m==\u001b[39m \u001b[39m\"\u001b[39m\u001b[39mraw\u001b[39m\u001b[39m\"\u001b[39m:\n\u001b[0;32m    753\u001b[0m     resource_val \u001b[39m=\u001b[39m opened_resource\u001b[39m.\u001b[39mread()\n",
      "File \u001b[1;32m~\\AppData\\Local\\Packages\\PythonSoftwareFoundation.Python.3.11_qbz5n2kfra8p0\\LocalCache\\local-packages\\Python311\\site-packages\\nltk\\data.py:876\u001b[0m, in \u001b[0;36m_open\u001b[1;34m(resource_url)\u001b[0m\n\u001b[0;32m    873\u001b[0m protocol, path_ \u001b[39m=\u001b[39m split_resource_url(resource_url)\n\u001b[0;32m    875\u001b[0m \u001b[39mif\u001b[39;00m protocol \u001b[39mis\u001b[39;00m \u001b[39mNone\u001b[39;00m \u001b[39mor\u001b[39;00m protocol\u001b[39m.\u001b[39mlower() \u001b[39m==\u001b[39m \u001b[39m\"\u001b[39m\u001b[39mnltk\u001b[39m\u001b[39m\"\u001b[39m:\n\u001b[1;32m--> 876\u001b[0m     \u001b[39mreturn\u001b[39;00m find(path_, path \u001b[39m+\u001b[39;49m [\u001b[39m\"\u001b[39;49m\u001b[39m\"\u001b[39;49m])\u001b[39m.\u001b[39mopen()\n\u001b[0;32m    877\u001b[0m \u001b[39melif\u001b[39;00m protocol\u001b[39m.\u001b[39mlower() \u001b[39m==\u001b[39m \u001b[39m\"\u001b[39m\u001b[39mfile\u001b[39m\u001b[39m\"\u001b[39m:\n\u001b[0;32m    878\u001b[0m     \u001b[39m# urllib might not use mode='rb', so handle this one ourselves:\u001b[39;00m\n\u001b[0;32m    879\u001b[0m     \u001b[39mreturn\u001b[39;00m find(path_, [\u001b[39m\"\u001b[39m\u001b[39m\"\u001b[39m])\u001b[39m.\u001b[39mopen()\n",
      "File \u001b[1;32m~\\AppData\\Local\\Packages\\PythonSoftwareFoundation.Python.3.11_qbz5n2kfra8p0\\LocalCache\\local-packages\\Python311\\site-packages\\nltk\\data.py:583\u001b[0m, in \u001b[0;36mfind\u001b[1;34m(resource_name, paths)\u001b[0m\n\u001b[0;32m    581\u001b[0m sep \u001b[39m=\u001b[39m \u001b[39m\"\u001b[39m\u001b[39m*\u001b[39m\u001b[39m\"\u001b[39m \u001b[39m*\u001b[39m \u001b[39m70\u001b[39m\n\u001b[0;32m    582\u001b[0m resource_not_found \u001b[39m=\u001b[39m \u001b[39mf\u001b[39m\u001b[39m\"\u001b[39m\u001b[39m\\n\u001b[39;00m\u001b[39m{\u001b[39;00msep\u001b[39m}\u001b[39;00m\u001b[39m\\n\u001b[39;00m\u001b[39m{\u001b[39;00mmsg\u001b[39m}\u001b[39;00m\u001b[39m\\n\u001b[39;00m\u001b[39m{\u001b[39;00msep\u001b[39m}\u001b[39;00m\u001b[39m\\n\u001b[39;00m\u001b[39m\"\u001b[39m\n\u001b[1;32m--> 583\u001b[0m \u001b[39mraise\u001b[39;00m \u001b[39mLookupError\u001b[39;00m(resource_not_found)\n",
      "\u001b[1;31mLookupError\u001b[0m: \n**********************************************************************\n  Resource \u001b[93mpunkt\u001b[0m not found.\n  Please use the NLTK Downloader to obtain the resource:\n\n  \u001b[31m>>> import nltk\n  >>> nltk.download('punkt')\n  \u001b[0m\n  For more information see: https://www.nltk.org/data.html\n\n  Attempted to load \u001b[93mtokenizers/punkt/english.pickle\u001b[0m\n\n  Searched in:\n    - 'C:\\\\Users\\\\rache/nltk_data'\n    - 'C:\\\\Program Files\\\\WindowsApps\\\\PythonSoftwareFoundation.Python.3.11_3.11.752.0_x64__qbz5n2kfra8p0\\\\nltk_data'\n    - 'C:\\\\Program Files\\\\WindowsApps\\\\PythonSoftwareFoundation.Python.3.11_3.11.752.0_x64__qbz5n2kfra8p0\\\\share\\\\nltk_data'\n    - 'C:\\\\Program Files\\\\WindowsApps\\\\PythonSoftwareFoundation.Python.3.11_3.11.752.0_x64__qbz5n2kfra8p0\\\\lib\\\\nltk_data'\n    - 'C:\\\\Users\\\\rache\\\\AppData\\\\Roaming\\\\nltk_data'\n    - 'C:\\\\nltk_data'\n    - 'D:\\\\nltk_data'\n    - 'E:\\\\nltk_data'\n    - ''\n**********************************************************************\n"
     ]
    }
   ],
   "source": [
    "data['stop words and lemmatization'] = [lemmatize_text(text) for text in data['stop words removed']]"
   ]
  },
  {
   "cell_type": "markdown",
   "metadata": {},
   "source": [
    "### Removing 'Updated' details in timestamp and converting to Datetime"
   ]
  },
  {
   "cell_type": "code",
   "execution_count": 25,
   "metadata": {},
   "outputs": [
    {
     "data": {
      "text/html": [
       "<div>\n",
       "<style scoped>\n",
       "    .dataframe tbody tr th:only-of-type {\n",
       "        vertical-align: middle;\n",
       "    }\n",
       "\n",
       "    .dataframe tbody tr th {\n",
       "        vertical-align: top;\n",
       "    }\n",
       "\n",
       "    .dataframe thead th {\n",
       "        text-align: right;\n",
       "    }\n",
       "</style>\n",
       "<table border=\"1\" class=\"dataframe\">\n",
       "  <thead>\n",
       "    <tr style=\"text-align: right;\">\n",
       "      <th></th>\n",
       "      <th>Unnamed: 0.1</th>\n",
       "      <th>URL</th>\n",
       "      <th>timestamp</th>\n",
       "      <th>transcript</th>\n",
       "      <th>stop words removed</th>\n",
       "    </tr>\n",
       "  </thead>\n",
       "  <tbody>\n",
       "    <tr>\n",
       "      <th>0</th>\n",
       "      <td>0</td>\n",
       "      <td>https://www.msnbc.com/transcripts/rachel-maddo...</td>\n",
       "      <td>Oct. 4, 2022, 1:00 AM UTC / Updated Oct. 4, 20...</td>\n",
       "      <td>SummaryWith public trust at a low, the Supreme...</td>\n",
       "      <td>SummaryWith public trust low Supreme Court ope...</td>\n",
       "    </tr>\n",
       "    <tr>\n",
       "      <th>1</th>\n",
       "      <td>1</td>\n",
       "      <td>https://www.msnbc.com/transcripts/rachel-maddo...</td>\n",
       "      <td>Oct. 4, 2022, 1:00 AM UTC / Updated Oct. 4, 20...</td>\n",
       "      <td>SummaryWith public trust at a low, the Supreme...</td>\n",
       "      <td>SummaryWith public trust low Supreme Court ope...</td>\n",
       "    </tr>\n",
       "    <tr>\n",
       "      <th>2</th>\n",
       "      <td>2</td>\n",
       "      <td>https://www.msnbc.com/transcripts/rachel-maddo...</td>\n",
       "      <td>Sept. 27, 2022, 1:00 AM UTC</td>\n",
       "      <td>Summary \"American Psychosis\" examines the rise...</td>\n",
       "      <td>Summary American Psychosis examines rise extre...</td>\n",
       "    </tr>\n",
       "    <tr>\n",
       "      <th>3</th>\n",
       "      <td>3</td>\n",
       "      <td>https://www.msnbc.com/transcripts/rachel-maddo...</td>\n",
       "      <td>Sept. 27, 2022, 1:00 AM UTC</td>\n",
       "      <td>Summary \"American Psychosis\" examines the rise...</td>\n",
       "      <td>Summary American Psychosis examines rise extre...</td>\n",
       "    </tr>\n",
       "    <tr>\n",
       "      <th>4</th>\n",
       "      <td>4</td>\n",
       "      <td>https://www.msnbc.com/transcripts/rachel-maddo...</td>\n",
       "      <td>Sept. 13, 2022, 1:00 AM UTC</td>\n",
       "      <td>Summary Interview with Geoffrey Berman, the U....</td>\n",
       "      <td>Summary Interview Geoffrey Berman U attorney T...</td>\n",
       "    </tr>\n",
       "  </tbody>\n",
       "</table>\n",
       "</div>"
      ],
      "text/plain": [
       "   Unnamed: 0.1                                                URL  \\\n",
       "0             0  https://www.msnbc.com/transcripts/rachel-maddo...   \n",
       "1             1  https://www.msnbc.com/transcripts/rachel-maddo...   \n",
       "2             2  https://www.msnbc.com/transcripts/rachel-maddo...   \n",
       "3             3  https://www.msnbc.com/transcripts/rachel-maddo...   \n",
       "4             4  https://www.msnbc.com/transcripts/rachel-maddo...   \n",
       "\n",
       "                                           timestamp  \\\n",
       "0  Oct. 4, 2022, 1:00 AM UTC / Updated Oct. 4, 20...   \n",
       "1  Oct. 4, 2022, 1:00 AM UTC / Updated Oct. 4, 20...   \n",
       "2                        Sept. 27, 2022, 1:00 AM UTC   \n",
       "3                        Sept. 27, 2022, 1:00 AM UTC   \n",
       "4                        Sept. 13, 2022, 1:00 AM UTC   \n",
       "\n",
       "                                          transcript  \\\n",
       "0  SummaryWith public trust at a low, the Supreme...   \n",
       "1  SummaryWith public trust at a low, the Supreme...   \n",
       "2  Summary \"American Psychosis\" examines the rise...   \n",
       "3  Summary \"American Psychosis\" examines the rise...   \n",
       "4  Summary Interview with Geoffrey Berman, the U....   \n",
       "\n",
       "                                  stop words removed  \n",
       "0  SummaryWith public trust low Supreme Court ope...  \n",
       "1  SummaryWith public trust low Supreme Court ope...  \n",
       "2  Summary American Psychosis examines rise extre...  \n",
       "3  Summary American Psychosis examines rise extre...  \n",
       "4  Summary Interview Geoffrey Berman U attorney T...  "
      ]
     },
     "execution_count": 25,
     "metadata": {},
     "output_type": "execute_result"
    }
   ],
   "source": [
    "data.head()"
   ]
  },
  {
   "cell_type": "code",
   "execution_count": 26,
   "metadata": {},
   "outputs": [],
   "source": [
    "# removing any extra dates/characters due to the 'updated' timestamp on some transcripts\n",
    "def keep_first_datetime(datetime_str):\n",
    "    first_part = datetime_str.split(\"/\")[0]\n",
    "    return first_part.strip()"
   ]
  },
  {
   "cell_type": "code",
   "execution_count": 27,
   "metadata": {},
   "outputs": [],
   "source": [
    "data.timestamp = [keep_first_datetime(timestamp) for timestamp in data.timestamp]"
   ]
  },
  {
   "cell_type": "code",
   "execution_count": 28,
   "metadata": {},
   "outputs": [],
   "source": [
    "# this function needs work\n",
    "\n",
    "from datetime import datetime\n",
    "from dateutil.parser import parse\n",
    "\n",
    "def string_to_datetime(datetime_str):\n",
    "    datetime_obj = parse(datetime_str, fuzzy = True)\n",
    "    return datetime_obj"
   ]
  },
  {
   "cell_type": "code",
   "execution_count": 29,
   "metadata": {},
   "outputs": [],
   "source": [
    "data.timestamp = [string_to_datetime(timestamp) for timestamp in data.timestamp]"
   ]
  },
  {
   "cell_type": "code",
   "execution_count": 30,
   "metadata": {},
   "outputs": [
    {
     "data": {
      "text/html": [
       "<div>\n",
       "<style scoped>\n",
       "    .dataframe tbody tr th:only-of-type {\n",
       "        vertical-align: middle;\n",
       "    }\n",
       "\n",
       "    .dataframe tbody tr th {\n",
       "        vertical-align: top;\n",
       "    }\n",
       "\n",
       "    .dataframe thead th {\n",
       "        text-align: right;\n",
       "    }\n",
       "</style>\n",
       "<table border=\"1\" class=\"dataframe\">\n",
       "  <thead>\n",
       "    <tr style=\"text-align: right;\">\n",
       "      <th></th>\n",
       "      <th>Unnamed: 0.1</th>\n",
       "      <th>URL</th>\n",
       "      <th>timestamp</th>\n",
       "      <th>transcript</th>\n",
       "      <th>stop words removed</th>\n",
       "    </tr>\n",
       "  </thead>\n",
       "  <tbody>\n",
       "    <tr>\n",
       "      <th>0</th>\n",
       "      <td>0</td>\n",
       "      <td>https://www.msnbc.com/transcripts/rachel-maddo...</td>\n",
       "      <td>2022-10-04 01:00:00+00:00</td>\n",
       "      <td>SummaryWith public trust at a low, the Supreme...</td>\n",
       "      <td>SummaryWith public trust low Supreme Court ope...</td>\n",
       "    </tr>\n",
       "    <tr>\n",
       "      <th>1</th>\n",
       "      <td>1</td>\n",
       "      <td>https://www.msnbc.com/transcripts/rachel-maddo...</td>\n",
       "      <td>2022-10-04 01:00:00+00:00</td>\n",
       "      <td>SummaryWith public trust at a low, the Supreme...</td>\n",
       "      <td>SummaryWith public trust low Supreme Court ope...</td>\n",
       "    </tr>\n",
       "    <tr>\n",
       "      <th>2</th>\n",
       "      <td>2</td>\n",
       "      <td>https://www.msnbc.com/transcripts/rachel-maddo...</td>\n",
       "      <td>2022-09-27 01:00:00+00:00</td>\n",
       "      <td>Summary \"American Psychosis\" examines the rise...</td>\n",
       "      <td>Summary American Psychosis examines rise extre...</td>\n",
       "    </tr>\n",
       "    <tr>\n",
       "      <th>3</th>\n",
       "      <td>3</td>\n",
       "      <td>https://www.msnbc.com/transcripts/rachel-maddo...</td>\n",
       "      <td>2022-09-27 01:00:00+00:00</td>\n",
       "      <td>Summary \"American Psychosis\" examines the rise...</td>\n",
       "      <td>Summary American Psychosis examines rise extre...</td>\n",
       "    </tr>\n",
       "    <tr>\n",
       "      <th>4</th>\n",
       "      <td>4</td>\n",
       "      <td>https://www.msnbc.com/transcripts/rachel-maddo...</td>\n",
       "      <td>2022-09-13 01:00:00+00:00</td>\n",
       "      <td>Summary Interview with Geoffrey Berman, the U....</td>\n",
       "      <td>Summary Interview Geoffrey Berman U attorney T...</td>\n",
       "    </tr>\n",
       "  </tbody>\n",
       "</table>\n",
       "</div>"
      ],
      "text/plain": [
       "   Unnamed: 0.1                                                URL  \\\n",
       "0             0  https://www.msnbc.com/transcripts/rachel-maddo...   \n",
       "1             1  https://www.msnbc.com/transcripts/rachel-maddo...   \n",
       "2             2  https://www.msnbc.com/transcripts/rachel-maddo...   \n",
       "3             3  https://www.msnbc.com/transcripts/rachel-maddo...   \n",
       "4             4  https://www.msnbc.com/transcripts/rachel-maddo...   \n",
       "\n",
       "                  timestamp  \\\n",
       "0 2022-10-04 01:00:00+00:00   \n",
       "1 2022-10-04 01:00:00+00:00   \n",
       "2 2022-09-27 01:00:00+00:00   \n",
       "3 2022-09-27 01:00:00+00:00   \n",
       "4 2022-09-13 01:00:00+00:00   \n",
       "\n",
       "                                          transcript  \\\n",
       "0  SummaryWith public trust at a low, the Supreme...   \n",
       "1  SummaryWith public trust at a low, the Supreme...   \n",
       "2  Summary \"American Psychosis\" examines the rise...   \n",
       "3  Summary \"American Psychosis\" examines the rise...   \n",
       "4  Summary Interview with Geoffrey Berman, the U....   \n",
       "\n",
       "                                  stop words removed  \n",
       "0  SummaryWith public trust low Supreme Court ope...  \n",
       "1  SummaryWith public trust low Supreme Court ope...  \n",
       "2  Summary American Psychosis examines rise extre...  \n",
       "3  Summary American Psychosis examines rise extre...  \n",
       "4  Summary Interview Geoffrey Berman U attorney T...  "
      ]
     },
     "execution_count": 30,
     "metadata": {},
     "output_type": "execute_result"
    }
   ],
   "source": [
    "data.head()"
   ]
  },
  {
   "cell_type": "code",
   "execution_count": 31,
   "metadata": {},
   "outputs": [
    {
     "data": {
      "text/plain": [
       "pandas._libs.tslibs.timestamps.Timestamp"
      ]
     },
     "execution_count": 31,
     "metadata": {},
     "output_type": "execute_result"
    }
   ],
   "source": [
    "# Check that the type of the timestamp column is correct\n",
    "type(data.timestamp[0])"
   ]
  },
  {
   "cell_type": "code",
   "execution_count": 32,
   "metadata": {},
   "outputs": [],
   "source": [
    "data.to_csv('Maddow_cleaned.tsv', sep=\"\\t\")"
   ]
  },
  {
   "attachments": {},
   "cell_type": "markdown",
   "metadata": {},
   "source": [
    "### How many stop words are removed"
   ]
  },
  {
   "cell_type": "code",
   "execution_count": null,
   "metadata": {},
   "outputs": [],
   "source": []
  },
  {
   "cell_type": "code",
   "execution_count": null,
   "metadata": {},
   "outputs": [],
   "source": []
  },
  {
   "attachments": {},
   "cell_type": "markdown",
   "metadata": {},
   "source": [
    "### Flesch-Kincaid reading levels"
   ]
  },
  {
   "cell_type": "code",
   "execution_count": null,
   "metadata": {},
   "outputs": [],
   "source": [
    "# Use the Flesch Reading Ease formula to assess the ease of readability of each transcript (returns the Flesch Reading Ease Score)\n",
    "\n",
    "data['flesch_reading_ease'] = [textstat.flesch_reading_ease(text) for text in data.transcript]\n",
    "\n",
    "# Get the Flesch-Kincaid Grade level of each transcript (score of 9.3 means a ninth grader would be able to read the document)\n",
    "data['flesch_kincaid_grade_level'] = [textstat.flesch_kincaid_grade(text) for text in data.transcript]"
   ]
  },
  {
   "cell_type": "code",
   "execution_count": null,
   "metadata": {},
   "outputs": [
    {
     "data": {
      "text/html": [
       "<div>\n",
       "<style scoped>\n",
       "    .dataframe tbody tr th:only-of-type {\n",
       "        vertical-align: middle;\n",
       "    }\n",
       "\n",
       "    .dataframe tbody tr th {\n",
       "        vertical-align: top;\n",
       "    }\n",
       "\n",
       "    .dataframe thead th {\n",
       "        text-align: right;\n",
       "    }\n",
       "</style>\n",
       "<table border=\"1\" class=\"dataframe\">\n",
       "  <thead>\n",
       "    <tr style=\"text-align: right;\">\n",
       "      <th></th>\n",
       "      <th>Unnamed: 0.1</th>\n",
       "      <th>URL</th>\n",
       "      <th>timestamp</th>\n",
       "      <th>transcript</th>\n",
       "      <th>stop words removed</th>\n",
       "      <th>flesch_reading_ease</th>\n",
       "      <th>flesch_kincaid_grade_level</th>\n",
       "    </tr>\n",
       "  </thead>\n",
       "  <tbody>\n",
       "    <tr>\n",
       "      <th>0</th>\n",
       "      <td>0</td>\n",
       "      <td>https://www.msnbc.com/transcripts/rachel-maddo...</td>\n",
       "      <td>2022-10-04 01:00:00+00:00</td>\n",
       "      <td>SummaryWith public trust at a low, the Supreme...</td>\n",
       "      <td>SummaryWith public trust low Supreme Court ope...</td>\n",
       "      <td>68.70</td>\n",
       "      <td>8.5</td>\n",
       "    </tr>\n",
       "    <tr>\n",
       "      <th>1</th>\n",
       "      <td>1</td>\n",
       "      <td>https://www.msnbc.com/transcripts/rachel-maddo...</td>\n",
       "      <td>2022-10-04 01:00:00+00:00</td>\n",
       "      <td>SummaryWith public trust at a low, the Supreme...</td>\n",
       "      <td>SummaryWith public trust low Supreme Court ope...</td>\n",
       "      <td>68.70</td>\n",
       "      <td>8.5</td>\n",
       "    </tr>\n",
       "    <tr>\n",
       "      <th>2</th>\n",
       "      <td>2</td>\n",
       "      <td>https://www.msnbc.com/transcripts/rachel-maddo...</td>\n",
       "      <td>2022-09-27 01:00:00+00:00</td>\n",
       "      <td>Summary \"American Psychosis\" examines the rise...</td>\n",
       "      <td>Summary American Psychosis examines rise extre...</td>\n",
       "      <td>69.82</td>\n",
       "      <td>8.1</td>\n",
       "    </tr>\n",
       "    <tr>\n",
       "      <th>3</th>\n",
       "      <td>3</td>\n",
       "      <td>https://www.msnbc.com/transcripts/rachel-maddo...</td>\n",
       "      <td>2022-09-27 01:00:00+00:00</td>\n",
       "      <td>Summary \"American Psychosis\" examines the rise...</td>\n",
       "      <td>Summary American Psychosis examines rise extre...</td>\n",
       "      <td>69.82</td>\n",
       "      <td>8.1</td>\n",
       "    </tr>\n",
       "    <tr>\n",
       "      <th>4</th>\n",
       "      <td>4</td>\n",
       "      <td>https://www.msnbc.com/transcripts/rachel-maddo...</td>\n",
       "      <td>2022-09-13 01:00:00+00:00</td>\n",
       "      <td>Summary Interview with Geoffrey Berman, the U....</td>\n",
       "      <td>Summary Interview Geoffrey Berman U attorney T...</td>\n",
       "      <td>63.09</td>\n",
       "      <td>8.6</td>\n",
       "    </tr>\n",
       "    <tr>\n",
       "      <th>...</th>\n",
       "      <td>...</td>\n",
       "      <td>...</td>\n",
       "      <td>...</td>\n",
       "      <td>...</td>\n",
       "      <td>...</td>\n",
       "      <td>...</td>\n",
       "      <td>...</td>\n",
       "    </tr>\n",
       "    <tr>\n",
       "      <th>115</th>\n",
       "      <td>115</td>\n",
       "      <td>https://www.msnbc.com/transcripts/rachel-maddo...</td>\n",
       "      <td>2022-05-13 01:00:00+00:00</td>\n",
       "      <td>SummaryTop House Republican Kevin McCarthy is ...</td>\n",
       "      <td>SummaryTop House Republican Kevin McCarthy amo...</td>\n",
       "      <td>59.43</td>\n",
       "      <td>10.0</td>\n",
       "    </tr>\n",
       "    <tr>\n",
       "      <th>116</th>\n",
       "      <td>116</td>\n",
       "      <td>https://www.msnbc.com/transcripts/rachel-maddo...</td>\n",
       "      <td>2022-05-12 01:00:00+00:00</td>\n",
       "      <td>SummarySenate Republicans and Sen. Joe Manchin...</td>\n",
       "      <td>SummarySenate Republicans Sen Joe Manchin WV b...</td>\n",
       "      <td>68.81</td>\n",
       "      <td>8.5</td>\n",
       "    </tr>\n",
       "    <tr>\n",
       "      <th>117</th>\n",
       "      <td>117</td>\n",
       "      <td>https://www.msnbc.com/transcripts/rachel-maddo...</td>\n",
       "      <td>2022-05-12 01:00:00+00:00</td>\n",
       "      <td>SummarySenate Republicans and Sen. Joe Manchin...</td>\n",
       "      <td>SummarySenate Republicans Sen Joe Manchin WV b...</td>\n",
       "      <td>68.81</td>\n",
       "      <td>8.5</td>\n",
       "    </tr>\n",
       "    <tr>\n",
       "      <th>118</th>\n",
       "      <td>118</td>\n",
       "      <td>https://www.msnbc.com/transcripts/rachel-maddo...</td>\n",
       "      <td>2022-05-11 01:00:00+00:00</td>\n",
       "      <td>SummaryInterview with Rep. Pete Aguilar (D-CA)...</td>\n",
       "      <td>SummaryInterview Rep Pete Aguilar CA Interview...</td>\n",
       "      <td>61.26</td>\n",
       "      <td>9.3</td>\n",
       "    </tr>\n",
       "    <tr>\n",
       "      <th>119</th>\n",
       "      <td>119</td>\n",
       "      <td>https://www.msnbc.com/transcripts/rachel-maddo...</td>\n",
       "      <td>2022-05-11 01:00:00+00:00</td>\n",
       "      <td>SummaryInterview with Rep. Pete Aguilar (D-CA)...</td>\n",
       "      <td>SummaryInterview Rep Pete Aguilar CA Interview...</td>\n",
       "      <td>61.26</td>\n",
       "      <td>9.3</td>\n",
       "    </tr>\n",
       "  </tbody>\n",
       "</table>\n",
       "<p>120 rows × 7 columns</p>\n",
       "</div>"
      ],
      "text/plain": [
       "     Unnamed: 0.1                                                URL  \\\n",
       "0               0  https://www.msnbc.com/transcripts/rachel-maddo...   \n",
       "1               1  https://www.msnbc.com/transcripts/rachel-maddo...   \n",
       "2               2  https://www.msnbc.com/transcripts/rachel-maddo...   \n",
       "3               3  https://www.msnbc.com/transcripts/rachel-maddo...   \n",
       "4               4  https://www.msnbc.com/transcripts/rachel-maddo...   \n",
       "..            ...                                                ...   \n",
       "115           115  https://www.msnbc.com/transcripts/rachel-maddo...   \n",
       "116           116  https://www.msnbc.com/transcripts/rachel-maddo...   \n",
       "117           117  https://www.msnbc.com/transcripts/rachel-maddo...   \n",
       "118           118  https://www.msnbc.com/transcripts/rachel-maddo...   \n",
       "119           119  https://www.msnbc.com/transcripts/rachel-maddo...   \n",
       "\n",
       "                    timestamp  \\\n",
       "0   2022-10-04 01:00:00+00:00   \n",
       "1   2022-10-04 01:00:00+00:00   \n",
       "2   2022-09-27 01:00:00+00:00   \n",
       "3   2022-09-27 01:00:00+00:00   \n",
       "4   2022-09-13 01:00:00+00:00   \n",
       "..                        ...   \n",
       "115 2022-05-13 01:00:00+00:00   \n",
       "116 2022-05-12 01:00:00+00:00   \n",
       "117 2022-05-12 01:00:00+00:00   \n",
       "118 2022-05-11 01:00:00+00:00   \n",
       "119 2022-05-11 01:00:00+00:00   \n",
       "\n",
       "                                            transcript  \\\n",
       "0    SummaryWith public trust at a low, the Supreme...   \n",
       "1    SummaryWith public trust at a low, the Supreme...   \n",
       "2    Summary \"American Psychosis\" examines the rise...   \n",
       "3    Summary \"American Psychosis\" examines the rise...   \n",
       "4    Summary Interview with Geoffrey Berman, the U....   \n",
       "..                                                 ...   \n",
       "115  SummaryTop House Republican Kevin McCarthy is ...   \n",
       "116  SummarySenate Republicans and Sen. Joe Manchin...   \n",
       "117  SummarySenate Republicans and Sen. Joe Manchin...   \n",
       "118  SummaryInterview with Rep. Pete Aguilar (D-CA)...   \n",
       "119  SummaryInterview with Rep. Pete Aguilar (D-CA)...   \n",
       "\n",
       "                                    stop words removed  flesch_reading_ease  \\\n",
       "0    SummaryWith public trust low Supreme Court ope...                68.70   \n",
       "1    SummaryWith public trust low Supreme Court ope...                68.70   \n",
       "2    Summary American Psychosis examines rise extre...                69.82   \n",
       "3    Summary American Psychosis examines rise extre...                69.82   \n",
       "4    Summary Interview Geoffrey Berman U attorney T...                63.09   \n",
       "..                                                 ...                  ...   \n",
       "115  SummaryTop House Republican Kevin McCarthy amo...                59.43   \n",
       "116  SummarySenate Republicans Sen Joe Manchin WV b...                68.81   \n",
       "117  SummarySenate Republicans Sen Joe Manchin WV b...                68.81   \n",
       "118  SummaryInterview Rep Pete Aguilar CA Interview...                61.26   \n",
       "119  SummaryInterview Rep Pete Aguilar CA Interview...                61.26   \n",
       "\n",
       "     flesch_kincaid_grade_level  \n",
       "0                           8.5  \n",
       "1                           8.5  \n",
       "2                           8.1  \n",
       "3                           8.1  \n",
       "4                           8.6  \n",
       "..                          ...  \n",
       "115                        10.0  \n",
       "116                         8.5  \n",
       "117                         8.5  \n",
       "118                         9.3  \n",
       "119                         9.3  \n",
       "\n",
       "[120 rows x 7 columns]"
      ]
     },
     "execution_count": 35,
     "metadata": {},
     "output_type": "execute_result"
    }
   ],
   "source": [
    "# Find the average Flesch Reading Ease Score across all of the Rachel Maddow transcripts\n",
    "\n",
    "\n",
    "# Find the average Flesch-Kincaid Grade Level across all of the Rachel Maddow transcripts"
   ]
  },
  {
   "cell_type": "markdown",
   "metadata": {},
   "source": []
  }
 ],
 "metadata": {
  "kernelspec": {
   "display_name": "Python 3",
   "language": "python",
   "name": "python3"
  },
  "language_info": {
   "codemirror_mode": {
    "name": "ipython",
    "version": 3
   },
   "file_extension": ".py",
   "mimetype": "text/x-python",
   "name": "python",
   "nbconvert_exporter": "python",
   "pygments_lexer": "ipython3",
   "version": "3.11.2"
  },
  "vscode": {
   "interpreter": {
    "hash": "5fa168a1e6bbe0a95f54a4ec07834b71919b5e173f592dc65bc06a3d19052986"
   }
  }
 },
 "nbformat": 4,
 "nbformat_minor": 2
}
