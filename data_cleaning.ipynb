{
 "cells": [
  {
   "cell_type": "code",
   "execution_count": 14,
   "metadata": {},
   "outputs": [],
   "source": [
    "import pandas as pd\n",
    "import numpy as np\n",
    "import re\n",
    "import nltk\n",
    "from nltk.corpus import stopwords\n",
    "from nltk.stem import WordNetLemmatizer\n",
    "from nltk.tokenize import word_tokenize\n",
    "from datetime import datetime\n",
    "from dateutil.parser import parse\n",
    "from dateutil import tz\n",
    "import warnings\n",
    "\n",
    "#nltk.download(\"stopwords\")\n",
    "#nltk.download(\"wordnet\")\n",
    "\n"
   ]
  },
  {
   "cell_type": "code",
   "execution_count": 16,
   "metadata": {},
   "outputs": [],
   "source": [
    "data_maddow = pd.read_csv('data/Maddow_transcripts.tsv',sep='\\t').drop(columns='Unnamed: 0')\n",
    "data_carlson = pd.read_csv('data/Tucker_transcripts.tsv',sep='\\t').drop(columns='Unnamed: 0')\n"
   ]
  },
  {
   "cell_type": "code",
   "execution_count": 17,
   "metadata": {},
   "outputs": [
    {
     "data": {
      "text/html": [
       "<div>\n",
       "<style scoped>\n",
       "    .dataframe tbody tr th:only-of-type {\n",
       "        vertical-align: middle;\n",
       "    }\n",
       "\n",
       "    .dataframe tbody tr th {\n",
       "        vertical-align: top;\n",
       "    }\n",
       "\n",
       "    .dataframe thead th {\n",
       "        text-align: right;\n",
       "    }\n",
       "</style>\n",
       "<table border=\"1\" class=\"dataframe\">\n",
       "  <thead>\n",
       "    <tr style=\"text-align: right;\">\n",
       "      <th></th>\n",
       "      <th>url</th>\n",
       "      <th>timestamp</th>\n",
       "      <th>title</th>\n",
       "      <th>transcript</th>\n",
       "    </tr>\n",
       "  </thead>\n",
       "  <tbody>\n",
       "    <tr>\n",
       "      <th>0</th>\n",
       "      <td>https://www.foxnews.com/opinion/tucker-carlson...</td>\n",
       "      <td>2018-11-27 08:39:00</td>\n",
       "      <td>Tucker Carlson: Socialism with open borders is...</td>\n",
       "      <td>Democrats want to eliminate restrictions on im...</td>\n",
       "    </tr>\n",
       "    <tr>\n",
       "      <th>1</th>\n",
       "      <td>https://www.foxnews.com/opinion/tucker-carlson...</td>\n",
       "      <td>2018-11-28 07:16:00</td>\n",
       "      <td>Tucker Carlson: For the crime of forgetting, J...</td>\n",
       "      <td>Jerome Corsi addresses charges against him in ...</td>\n",
       "    </tr>\n",
       "    <tr>\n",
       "      <th>2</th>\n",
       "      <td>https://www.foxnews.com/opinion/tucker-carlson...</td>\n",
       "      <td>2018-11-29 11:12:00</td>\n",
       "      <td>Tucker Carlson: The word 'Russia' eliminates a...</td>\n",
       "      <td>On Wednesday, Tucker Carlson exposes the flaws...</td>\n",
       "    </tr>\n",
       "    <tr>\n",
       "      <th>3</th>\n",
       "      <td>https://www.foxnews.com/opinion/tucker-carlson...</td>\n",
       "      <td>2018-11-30 09:21:00</td>\n",
       "      <td>Tucker Carlson: The Mueller probe and what we ...</td>\n",
       "      <td>Michael Cohen pleads guilty to lying to Congre...</td>\n",
       "    </tr>\n",
       "    <tr>\n",
       "      <th>4</th>\n",
       "      <td>https://www.foxnews.com/opinion/tucker-carlson...</td>\n",
       "      <td>2018-12-04 08:08:00</td>\n",
       "      <td>Tucker Carlson: The Mueller probe continues to...</td>\n",
       "      <td>On Monday, Tucker Carlson talks to Jerome Cors...</td>\n",
       "    </tr>\n",
       "    <tr>\n",
       "      <th>...</th>\n",
       "      <td>...</td>\n",
       "      <td>...</td>\n",
       "      <td>...</td>\n",
       "      <td>...</td>\n",
       "    </tr>\n",
       "    <tr>\n",
       "      <th>808</th>\n",
       "      <td>https://www.foxnews.com/opinion/tucker-carlson...</td>\n",
       "      <td>2023-02-08 22:25:00</td>\n",
       "      <td>TUCKER CARLSON: The lies 'just kept coming' du...</td>\n",
       "      <td>Fox News host Tucker Carlson reacts to Presid...</td>\n",
       "    </tr>\n",
       "    <tr>\n",
       "      <th>809</th>\n",
       "      <td>https://www.foxnews.com/opinion/tucker-carlson...</td>\n",
       "      <td>2023-02-09 22:19:00</td>\n",
       "      <td>TUCKER CARLSON: Self-defense is becoming illeg...</td>\n",
       "      <td>WARNING: Graphic footage—Fox News host Tucker ...</td>\n",
       "    </tr>\n",
       "    <tr>\n",
       "      <th>810</th>\n",
       "      <td>https://www.foxnews.com/opinion/tucker-carlson...</td>\n",
       "      <td>2023-02-13 22:23:00</td>\n",
       "      <td>TUCKER CARLSON: Food, water, energy and infras...</td>\n",
       "      <td>Fox News host Tucker Carlson reacts to leaders...</td>\n",
       "    </tr>\n",
       "    <tr>\n",
       "      <th>811</th>\n",
       "      <td>https://www.foxnews.com/opinion/tucker-carlson...</td>\n",
       "      <td>2023-02-14 22:51:00</td>\n",
       "      <td>TUCKER CARLSON: Mayor Pete is completely incom...</td>\n",
       "      <td>Fox News host Tucker Carlson calls out the Bid...</td>\n",
       "    </tr>\n",
       "    <tr>\n",
       "      <th>812</th>\n",
       "      <td>https://www.foxnews.com/opinion/tucker-carlson...</td>\n",
       "      <td>2023-02-15 21:37:00</td>\n",
       "      <td>TUCKER CARLSON: East Palestine toxic chemical ...</td>\n",
       "      <td>Fox News host Tucker Carlson calls out officia...</td>\n",
       "    </tr>\n",
       "  </tbody>\n",
       "</table>\n",
       "<p>813 rows × 4 columns</p>\n",
       "</div>"
      ],
      "text/plain": [
       "                                                   url            timestamp  \\\n",
       "0    https://www.foxnews.com/opinion/tucker-carlson...  2018-11-27 08:39:00   \n",
       "1    https://www.foxnews.com/opinion/tucker-carlson...  2018-11-28 07:16:00   \n",
       "2    https://www.foxnews.com/opinion/tucker-carlson...  2018-11-29 11:12:00   \n",
       "3    https://www.foxnews.com/opinion/tucker-carlson...  2018-11-30 09:21:00   \n",
       "4    https://www.foxnews.com/opinion/tucker-carlson...  2018-12-04 08:08:00   \n",
       "..                                                 ...                  ...   \n",
       "808  https://www.foxnews.com/opinion/tucker-carlson...  2023-02-08 22:25:00   \n",
       "809  https://www.foxnews.com/opinion/tucker-carlson...  2023-02-09 22:19:00   \n",
       "810  https://www.foxnews.com/opinion/tucker-carlson...  2023-02-13 22:23:00   \n",
       "811  https://www.foxnews.com/opinion/tucker-carlson...  2023-02-14 22:51:00   \n",
       "812  https://www.foxnews.com/opinion/tucker-carlson...  2023-02-15 21:37:00   \n",
       "\n",
       "                                                 title  \\\n",
       "0    Tucker Carlson: Socialism with open borders is...   \n",
       "1    Tucker Carlson: For the crime of forgetting, J...   \n",
       "2    Tucker Carlson: The word 'Russia' eliminates a...   \n",
       "3    Tucker Carlson: The Mueller probe and what we ...   \n",
       "4    Tucker Carlson: The Mueller probe continues to...   \n",
       "..                                                 ...   \n",
       "808  TUCKER CARLSON: The lies 'just kept coming' du...   \n",
       "809  TUCKER CARLSON: Self-defense is becoming illeg...   \n",
       "810  TUCKER CARLSON: Food, water, energy and infras...   \n",
       "811  TUCKER CARLSON: Mayor Pete is completely incom...   \n",
       "812  TUCKER CARLSON: East Palestine toxic chemical ...   \n",
       "\n",
       "                                            transcript  \n",
       "0    Democrats want to eliminate restrictions on im...  \n",
       "1    Jerome Corsi addresses charges against him in ...  \n",
       "2    On Wednesday, Tucker Carlson exposes the flaws...  \n",
       "3    Michael Cohen pleads guilty to lying to Congre...  \n",
       "4    On Monday, Tucker Carlson talks to Jerome Cors...  \n",
       "..                                                 ...  \n",
       "808   Fox News host Tucker Carlson reacts to Presid...  \n",
       "809  WARNING: Graphic footage—Fox News host Tucker ...  \n",
       "810  Fox News host Tucker Carlson reacts to leaders...  \n",
       "811  Fox News host Tucker Carlson calls out the Bid...  \n",
       "812  Fox News host Tucker Carlson calls out officia...  \n",
       "\n",
       "[813 rows x 4 columns]"
      ]
     },
     "execution_count": 17,
     "metadata": {},
     "output_type": "execute_result"
    }
   ],
   "source": [
    "data_carlson"
   ]
  },
  {
   "cell_type": "markdown",
   "metadata": {},
   "source": [
    "### Stop word removal "
   ]
  },
  {
   "cell_type": "code",
   "execution_count": 3,
   "metadata": {},
   "outputs": [],
   "source": [
    "# remove stop words \n",
    "\n",
    "def remove_stopwords(text, stop_word_list = []):\n",
    "    # first ensure stop words are lower cased \n",
    "    stop_word_list = [s.lower() for s in stop_word_list]\n",
    "    \n",
    "    # append any new stop words if they exist\n",
    "    if len(stop_word_list) == 0: \n",
    "        stop_words = set(stopwords.words(\"english\"))\n",
    "    else: \n",
    "        stop_words = set(stopwords.words(\"english\"))\n",
    "        stop_words.update(stop_word_list)\n",
    "        \n",
    "    words = re.findall(r'\\b\\w+\\b', text)\n",
    "    words_without_stopwords = [word.lower() for word in words if word.lower() not in stop_words]\n",
    "    return \" \".join(words_without_stopwords)"
   ]
  },
  {
   "cell_type": "code",
   "execution_count": 4,
   "metadata": {},
   "outputs": [],
   "source": [
    "stop_words_to_add  = ['from', 'tucker', 'carlson', 'fox', 'news', 'channel', 'host', 'evening', 'welcome', \n",
    "                   'tonight','like','kind','people','know','knew','knowing','tonight','go','goes','going',\n",
    "                   'went','tell','told','telling','say','said','saying','talk','talked','talking','year',\n",
    "                   'think','thinking','thought','happen','happening','happened','thing','time','right', \n",
    "                   'country', 'countries','america', 'american', 'want','state','work','working','worked',\n",
    "                   'point','call','calling', 'called', 'actual','actually','year','years','live','living',\n",
    "                   'rachel','maddow', 'today', 'first', 'one', 'us', 'would', 'get', 'new', 'years', 'way', \n",
    "                   'well', 'even', 'velshi','also','see','21','course','lot', 'really', 'could','fact', \n",
    "                   'last', 'never', 'thank', 'u', 'got', 'much', 'many', 'video', 'may', 'back', 'quote',\n",
    "                   'day', 'one','well','would','even','got','way','united','states','us','every','really',\n",
    "                   'lot','last','could']"
   ]
  },
  {
   "cell_type": "code",
   "execution_count": 5,
   "metadata": {},
   "outputs": [],
   "source": [
    "data_maddow['stop words removed'] = [remove_stopwords(text, stop_words_to_add) for text in data_maddow.transcript]\n",
    "data_carlson['stop words removed'] = [remove_stopwords(text, stop_words_to_add) for text in data_carlson.transcript]"
   ]
  },
  {
   "cell_type": "markdown",
   "metadata": {},
   "source": [
    "### Lemmatization"
   ]
  },
  {
   "cell_type": "code",
   "execution_count": 6,
   "metadata": {},
   "outputs": [],
   "source": [
    "def lemmatize_text(text):\n",
    "    lemmatizer = WordNetLemmatizer()\n",
    "    tokens = word_tokenize(text)\n",
    "    lemmatized_words = [lemmatizer.lemmatize(word) for word in tokens]\n",
    "    return \" \".join(lemmatized_words)"
   ]
  },
  {
   "cell_type": "code",
   "execution_count": 7,
   "metadata": {},
   "outputs": [],
   "source": [
    "data_maddow['stop words and lemmatization'] = [lemmatize_text(text) for text in data_maddow['stop words removed']]\n",
    "data_carlson['stop words and lemmatization'] = [lemmatize_text(text) for text in data_carlson['stop words removed']]"
   ]
  },
  {
   "cell_type": "markdown",
   "metadata": {},
   "source": [
    "### Converting to Datetime "
   ]
  },
  {
   "cell_type": "code",
   "execution_count": 8,
   "metadata": {},
   "outputs": [],
   "source": [
    "# removing any extra dates/characters due to the 'updated' timestamp on some transcripts\n",
    "def keep_first_datetime(datetime_str):\n",
    "    first_part = datetime_str.split(\"/\")[0]\n",
    "    return first_part.strip()"
   ]
  },
  {
   "cell_type": "code",
   "execution_count": 9,
   "metadata": {},
   "outputs": [],
   "source": [
    "# convert timestamp to datetime object\n",
    "\n",
    "def string_to_datetime(datetime_str):\n",
    "    est_tz = tz.gettz('EST')\n",
    "    datetime_obj = parse(datetime_str, fuzzy=True, tzinfos={ 'EST': est_tz })\n",
    "    return datetime_obj\n",
    "    "
   ]
  },
  {
   "cell_type": "code",
   "execution_count": 10,
   "metadata": {},
   "outputs": [],
   "source": [
    "data_maddow.timestamp = [keep_first_datetime(timestamp) for timestamp in data_maddow.timestamp]\n",
    "data_carlson.timestamp = [keep_first_datetime(timestamp) for timestamp in data_carlson.timestamp]"
   ]
  },
  {
   "cell_type": "code",
   "execution_count": 11,
   "metadata": {},
   "outputs": [],
   "source": [
    "warnings.filterwarnings(\"ignore\", category=UserWarning, module=\"dateutil\")\n",
    "\n",
    "data_maddow.timestamp = [string_to_datetime(timestamp) for timestamp in data_maddow.timestamp]\n",
    "data_carlson.timestamp = [string_to_datetime(timestamp) for timestamp in data_carlson.timestamp]"
   ]
  },
  {
   "cell_type": "markdown",
   "metadata": {},
   "source": [
    "### Eliminate timezone from maddow timestamps"
   ]
  },
  {
   "cell_type": "code",
   "execution_count": 12,
   "metadata": {},
   "outputs": [],
   "source": [
    "data_maddow['timestamp'] = data_maddow['timestamp'].dt.tz_convert(None)"
   ]
  },
  {
   "cell_type": "markdown",
   "metadata": {},
   "source": [
    "### Export tsv files"
   ]
  },
  {
   "cell_type": "code",
   "execution_count": 13,
   "metadata": {},
   "outputs": [],
   "source": [
    "\n",
    "# data_maddow.to_csv('data/from_git/Maddow_cleaned.tsv', sep=\"\\t\")\n",
    "# data_carlson.to_csv('data/from_git/Carlson_cleaned.tsv', sep=\"\\t\")\n",
    "\n",
    "\n",
    "data_maddow.to_csv('data/Maddow_cleaned.tsv', sep=\"\\t\")\n",
    "data_carlson.to_csv('data/Carlson_cleaned.tsv', sep=\"\\t\")"
   ]
  },
  {
   "cell_type": "code",
   "execution_count": null,
   "metadata": {},
   "outputs": [],
   "source": []
  },
  {
   "cell_type": "code",
   "execution_count": null,
   "metadata": {},
   "outputs": [],
   "source": []
  }
 ],
 "metadata": {
  "kernelspec": {
   "display_name": "Python 3 (ipykernel)",
   "language": "python",
   "name": "python3"
  },
  "language_info": {
   "codemirror_mode": {
    "name": "ipython",
    "version": 3
   },
   "file_extension": ".py",
   "mimetype": "text/x-python",
   "name": "python",
   "nbconvert_exporter": "python",
   "pygments_lexer": "ipython3",
   "version": "3.10.4"
  }
 },
 "nbformat": 4,
 "nbformat_minor": 4
}
