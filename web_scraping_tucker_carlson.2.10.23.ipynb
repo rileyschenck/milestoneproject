{
 "cells": [
  {
   "cell_type": "code",
   "execution_count": 1,
   "metadata": {},
   "outputs": [],
   "source": [
    "#pip install --upgrade pip\n"
   ]
  },
  {
   "cell_type": "code",
   "execution_count": 2,
   "metadata": {},
   "outputs": [],
   "source": [
    "#pip install html5lib"
   ]
  },
  {
   "cell_type": "code",
   "execution_count": 3,
   "metadata": {},
   "outputs": [],
   "source": [
    "#pip install selenium"
   ]
  },
  {
   "cell_type": "code",
   "execution_count": 4,
   "metadata": {},
   "outputs": [],
   "source": [
    "#pip install bs4"
   ]
  },
  {
   "cell_type": "code",
   "execution_count": 1,
   "metadata": {},
   "outputs": [],
   "source": [
    "import pandas as pd\n",
    "import requests\n",
    "import urllib.request\n",
    "import time\n",
    "from bs4 import BeautifulSoup\n",
    "import re\n",
    "\n",
    "from selenium import webdriver\n",
    "from selenium.webdriver.common.keys import Keys\n",
    "from selenium.webdriver.common.by import By\n",
    "\n"
   ]
  },
  {
   "cell_type": "code",
   "execution_count": 3,
   "metadata": {},
   "outputs": [
    {
     "name": "stdout",
     "output_type": "stream",
     "text": [
      "1\n",
      "2\n",
      "3\n",
      "4\n",
      "5\n",
      "6\n",
      "7\n",
      "8\n",
      "9\n",
      "10\n",
      "11\n",
      "12\n",
      "13\n",
      "14\n",
      "15\n",
      "16\n",
      "17\n",
      "18\n",
      "19\n",
      "20\n",
      "21\n",
      "22\n",
      "23\n",
      "24\n",
      "25\n",
      "26\n",
      "27\n",
      "28\n",
      "29\n",
      "30\n",
      "31\n",
      "32\n",
      "33\n",
      "34\n",
      "35\n",
      "36\n",
      "37\n",
      "38\n",
      "39\n",
      "40\n",
      "41\n",
      "42\n",
      "43\n",
      "44\n",
      "45\n",
      "46\n",
      "47\n",
      "48\n",
      "49\n",
      "50\n",
      "51\n",
      "52\n",
      "53\n",
      "54\n",
      "55\n",
      "56\n",
      "57\n",
      "58\n",
      "59\n",
      "60\n",
      "61\n",
      "62\n",
      "63\n",
      "64\n",
      "65\n",
      "66\n",
      "67\n",
      "68\n",
      "69\n",
      "70\n",
      "71\n",
      "72\n",
      "73\n",
      "74\n",
      "75\n",
      "76\n",
      "77\n",
      "78\n",
      "79\n",
      "80\n",
      "81\n",
      "82\n",
      "83\n",
      "84\n",
      "85\n",
      "86\n",
      "87\n",
      "88\n",
      "89\n",
      "90\n",
      "91\n",
      "92\n",
      "93\n",
      "94\n",
      "95\n",
      "96\n",
      "97\n",
      "98\n",
      "99\n",
      "100\n",
      "saved\n"
     ]
    }
   ],
   "source": [
    "\n",
    "\n",
    "driver = webdriver.Chrome()\n",
    "driver.get(\"https://www.foxnews.com/category/shows/tucker-carlson-tonight/transcript\")\n",
    "button = driver.find_element(By.XPATH, \"//div[@class='button load-more js-load-more']\") \n",
    "x = 0\n",
    "for x in range(100):\n",
    "    button.click()    \n",
    "    time.sleep(1)\n",
    "    x+=1\n",
    "    print(x)\n",
    "page_source = driver.page_source # save the source to feed to beautiful soup \n",
    "print(\"saved\")"
   ]
  },
  {
   "cell_type": "code",
   "execution_count": 4,
   "metadata": {},
   "outputs": [],
   "source": [
    "soup = BeautifulSoup(page_source)\n"
   ]
  },
  {
   "cell_type": "code",
   "execution_count": 5,
   "metadata": {},
   "outputs": [],
   "source": [
    "url_soup = soup.find_all('a', href=re.compile('/opinion/.*'))"
   ]
  },
  {
   "cell_type": "code",
   "execution_count": 6,
   "metadata": {},
   "outputs": [],
   "source": [
    "#url_soup"
   ]
  },
  {
   "cell_type": "code",
   "execution_count": 7,
   "metadata": {},
   "outputs": [],
   "source": [
    "url_list = []\n",
    "prefix = 'https://www.foxnews.com/'\n",
    "for link in url_soup: \n",
    "    suffix = re.findall('\\\"\\/(.*?)\\\"', str(link))\n",
    "    if suffix:\n",
    "        url_list.append(prefix + suffix[0])\n",
    "    "
   ]
  },
  {
   "cell_type": "code",
   "execution_count": 8,
   "metadata": {},
   "outputs": [
    {
     "data": {
      "text/plain": [
       "'https://www.foxnews.com/opinion/tucker-carlson-zelenskyys-visit-represented-bipartisan-masochism'"
      ]
     },
     "execution_count": 8,
     "metadata": {},
     "output_type": "execute_result"
    }
   ],
   "source": [
    "url_list[52]"
   ]
  },
  {
   "cell_type": "code",
   "execution_count": 18,
   "metadata": {},
   "outputs": [
    {
     "data": {
      "text/plain": [
       "'Fox News host Tucker Carlson weighs in on the power George Soros has all over the world on \\'Tucker Carlson Tonight.\\'When a Hungarian financier called  shorted the English pound 30 years ago, back in 1992, the British government fought back. It did everything it could to preserve the value of its national currency. British officials raised interest rates all the way to 15%. The Bank of England then sold $40 billion of foreign currency reserves in a desperate effort to prop up the pound. In the end, of course, it didn\\'t work. The Bank of England collapsed. Total cost to the population of Great Britain? Well, that\\'s hard to measure, but it was at least 3 billion pounds. This at a time when a pound was worth nearly 2-and-a-half dollars. It\\'s now at $1.20, which tells you a lot. The U.K. got poorer, but not George Soros. His fund made off with a billion dollars in profit — a billion dollars for creating nothing, only destroying things.  In the years since, Soros has become richer still, billions and billions of dollars richer. George Soros has become so rich that at this point Western governments rarely fight back when he interferes in their most basic domestic affairs, the most important domestic affairs. In 2015, for example, Soros decided that Europe had to resettle millions of penniless refugees from Africa and the Middle East. Relatively few Europeans wanted this to happen at all, but George Soros wanted it.  So, he spent more than half a billion dollars pushing NGOs and European governments to accept what turned out to be a massive wave of human migration. So, what happened next? What\\'s the second part of the story? Well, there is a humanitarian crisis. That crisis is still going on.  Life in Europe got much worse. Have you been to Paris lately? You should visit. Violent crime, particularly rapes, skyrocketed and yet European politicians, many of them funded by Soros, refuse to acknowledge it. \"Look away,\" they said. \"This isn\\'t happening. You\\'re crazy or a criminal for noticing.\" So, for the past several years, something not-so-different has been happening in our country. George Soros has decided to destroy the American justice system and he\\'s doing it with prosecutors.    By this point, fully one-in-five Americans, that\\'s more than 70 million people, now live in a jurisdiction overseen by a Soros-backed prosecutor. Soros DAs run cities like New York, Chicago, St. Louis, New Orleans, Philadelphia, Los Angeles — our biggest cities. They also run places like Travis County, Texas; Hinds County, Mississippi; Loudoun County, Virginia; Chatham County, Georgia. All of them have Soros-backed prosecutors. Soros\\'s influence comes in the form of campaign financing. The money comes from sources, open society foundations and affiliated political action committees and shell companies. A recent analysis by the Law Enforcement Legal Defense Fund found that in total, more than 75 Soros-backed prosecutors currently hold office in the United States. To get those people in those jobs, Soros has spent more than $40 billion. Often, he\\'s the largest donor in the race. In the race in Philadelphia, for example, 90% of now-DA Larry Krasner\\'s financing came from George Soros. What happened next? Drive through Center City, Philadelphia, sometime and you\\'ll see.Soros prosecutors refuse to enforce the law against protected groups. That is their signature quality. That\\'s the heart of their ideology. The result of this has been a lot of posturing, but even more murder victims. A lot of people have died. Last year, Philadelphia recorded its highest homicide total in history. Overall, nationally, according to the FBI, homicides in the United States jumped 30% in 2020. That is the largest single-year increase in murders in American history. All because one billionaire decided that laws American citizens voted for and support were racist. Does that sound like democracy to you? Of course, it\\'s not democracy.   Democracy is a system in which the will of the majority is recognized and often acted upon. The people rule. What we just described is oligarchy. At best, it\\'s grotesque and has killed a lot of people. You\\'re probably aware of this on some level and it\\'s frustrating to hear, but until a few hours ago, no one had really done anything about it, but then today, Gov. Ron DeSantis of Florida — a man who, unlike George Soros, has actually been elected by American voters — decided to sack a Soros-backed prosecutor in his state who\\'s been relentlessly politicizing the justice system in Tampa. That man\\'s name is Andrew Warren. For six years, Warren has refused to enforce laws that George Soros doesn\\'t like. Today that ended.  So, to be clear, in case you missed civics class, prosecutors don\\'t get to make the laws. Prosecutors enforce the laws. They prosecute people for violating the laws. Legislatures make laws. Your representatives are elected by you to write into law the rules that you support. You get to create the parameters of your own society.    That\\'s called democracy, but when a prosecutor decides which laws are valid and which laws are not, that is the most basic subversion of democracy, and Andrew Warren has done that for six years, and by the list that Gov. DeSantis just read, is just partial. Andrew Warren also decided that he would not enforce HB 1. That\\'s the law that increased penalties for rioters. Warren refused to prosecute 67 BLM rioters in the summer of 2020. He said there had been no breach of the peace in Tampa when there most certainly had been, but he decided to ignore it because he agreed with their politics.  More recently, Warren declined to prosecute a gang member accused of shooting into a house with children inside after shooting somebody else. Turns out, the gang member was oppressed and of course also likely a Biden voter, so he got a pass. People who aren\\'t Biden voters have had a much tougher time in Andrew Warren\\'s jurisdiction. Sincere Christians, for example. Andrew Warren considers them criminals. Two years ago, Warren had a Tampa pastor arrested for the crime of holding a church service and then he bragged about it. Ignore the garbage news coverage. What you have here is a pastor arrested for holding a church service. This is the criminal Andrew Warren decided to prosecute, not the gang member shooting into a building with kids inside. No, a Christian minister reading the Bible in public. Now, as ABC told you, that pastor insists he\\'s within his rights, but there\\'s no insisting necessary in this case. It is prima facia true.  If the First Amendment doesn\\'t protect church services, it doesn\\'t protect anything. Of course, this pastor and all pastors are within their rights to preach. There is no adult debate about that, but Andrew Warren didn\\'t care. He doesn\\'t like pastors like that because pastors like that believe in a power higher than George Soros, so he tried to send that man to jail. Then, in one of the slimiest moments ever caught on videotape, Andrew Warren quoted the Christian gospels to justify this oppression and abuse. It\\'s disgusting.   It\\'s just disgusting on every level. How dare he. Now you have a law enforcement official telling constituents not to \"hide behind the First Amendment\" by trying to hold church services. That\\'s a right you\\'re born with that cannot be taken away by some Soros-backed prosecutor. Then that same law enforcement official mocks Christians setting the Bible as a justification for suspending religious freedom. So, this is not law enforcement, this is authoritarianism posing as it, and Warren\\'s not the only one.  Dozens of DAs have been trained to do this in law school and George Soros is funding their campaigns. This is exactly why the nation of Hungary closed a Soros-funded nonprofit in Budapest a few years ago because it was poison, and now that poison is here in the United States. When  was reinstated, to name just one example, Andrew Warren announced he would defy the law, the law passed by voters. His reasoning? He would like his daughter to be able to have abortions.  Not enough abortions. His daughter, she\\'s crying about it. Who gets to draw the line? We\\'ll actually have an answer to that because it\\'s in the Constitution: Voters get to draw the line. Legislatures elected by voters get to draw the line. Prosecutors do not get to draw the line. If they don\\'t like the line, they can resign and go do something else. Go sell aluminum siding or insurance door-to-door, but they\\'re not allowed to make the laws, but Andrew Warren is not ashamed about any of this. What he is ashamed about is where the money came from that got him elected, the support that he has received from George Soros.   \"We think so,\" Warren told a reporter when he was asked if his campaign had received cash from George Soros. \"We understand that he gave money to the state Democratic Party. And the state party money... went to support different candidates. And I\\'ve very little insight into the amount of money he gave, who it went to, etc.\" Oh, but of course that wasn\\'t true, because Warren knew when he said that, that he had been endorsed by one of Soros\\'s many PACs. It was a PAC called the Color of Change PAC. Warren also knew that many of the 67 BLM rioters he let skate back in 2020 in Tampa were affiliated with this same PAC. Do you see how this works? Kind of a snake eating its tail. Soros sends money to Andrew Warren. Then, Andrew Warren refuses to prosecute thugs who are also supported by George Soros. That happened in Tampa but is happening all over the country.  is the man who put an end to it today in the state of Florida. '"
      ]
     },
     "execution_count": 18,
     "metadata": {},
     "output_type": "execute_result"
    }
   ],
   "source": [
    "# verifying for one instance\n",
    "url = url_list[200]\n",
    "#url = 'https://www.foxnews.com/opinion/tucker-carlson-faa-travel-pete-buttigieg'\n",
    "response = requests.get(url)\n",
    "soup = BeautifulSoup(response.content, 'html.parser')\n",
    "title = soup.title.string\n",
    "\n",
    "# #results = soup.find(id='wrapper')\n",
    "# #body = soup.find_all('p')\n",
    "# #text = body[1].text\n",
    "\n",
    "a_tag = soup.find_all('a')\n",
    "for tag in a_tag:\n",
    "    tag.decompose()\n",
    "\n",
    "copy_tag = soup.find_all('p', class_ = \"copyright\")\n",
    "for tag in copy_tag:\n",
    "    tag.decompose()\n",
    "    \n",
    "span_tag = soup.find_all('span')\n",
    "for tag in span_tag:\n",
    "    tag.decompose()\n",
    "    \n",
    "bold_tag = soup.find_all('strong') \n",
    "for tag in bold_tag:\n",
    "    tag.decompose()\n",
    "    \n",
    "italic_tag=soup.find_all('i') \n",
    "for tag in italic_tag:\n",
    "    tag.decompose()\n",
    "\n",
    "other_tag = soup.find_all('p', class_ =\"dek\")\n",
    "for tag in other_tag:\n",
    "    tag.decompose()\n",
    "    \n",
    "other_tag2 = soup.find_all('p', class_ =\"subscribed hide\")\n",
    "for tag in other_tag2:\n",
    "    tag.decompose()\n",
    "    \n",
    "other_tag3 = soup.find_all('p', class_ =\"success hide\") \n",
    "for tag in other_tag3:\n",
    "    tag.decompose()\n",
    "\n",
    "\n",
    "\n",
    "final = soup.find_all('p')\n",
    "# text=''\n",
    "# print(final)\n",
    "finaltext = ''\n",
    "for p in final:\n",
    "\n",
    "    try:\n",
    "        finaltext = finaltext + p.text\n",
    "        finaltext = finaltext.replace(u'\\xa0', u' ')\n",
    "\n",
    "    except:\n",
    "        continue\n",
    "finaltext\n",
    "# #finaltext = ' '.join(text)\n",
    "# #text\n",
    "# # #soup.find_all('p')\n",
    "# #soup.find('time').text"
   ]
  },
  {
   "cell_type": "code",
   "execution_count": null,
   "metadata": {},
   "outputs": [],
   "source": [
    "\n",
    "\n"
   ]
  },
  {
   "cell_type": "code",
   "execution_count": 19,
   "metadata": {},
   "outputs": [],
   "source": [
    "\n",
    "full_df = None\n",
    "dfs = []\n",
    "\n",
    "for n, url in enumerate(url_list):\n",
    "    response = requests.get(url)\n",
    "    soup = BeautifulSoup(response.content, 'html.parser')\n",
    "    time = soup.find('time').text\n",
    "    title = soup.title.string\n",
    "\n",
    "    a_tag = soup.find_all('a')\n",
    "    for tag in a_tag:\n",
    "        tag.decompose()\n",
    "\n",
    "    copy_tag = soup.find_all('p', class_ = \"copyright\")\n",
    "    for tag in copy_tag:\n",
    "        tag.decompose()\n",
    "\n",
    "    span_tag = soup.find_all('span')\n",
    "    for tag in span_tag:\n",
    "        tag.decompose()\n",
    "\n",
    "    bold_tag = soup.find_all('strong') \n",
    "    for tag in bold_tag:\n",
    "        tag.decompose()\n",
    "\n",
    "    italic_tag=soup.find_all('i') \n",
    "    for tag in italic_tag:\n",
    "        tag.decompose()\n",
    "\n",
    "    other_tag = soup.find_all('p', class_ =\"dek\")\n",
    "    for tag in other_tag:\n",
    "        tag.decompose()\n",
    "\n",
    "    other_tag2 = soup.find_all('p', class_ =\"subscribed hide\")\n",
    "    for tag in other_tag2:\n",
    "        tag.decompose()\n",
    "\n",
    "    other_tag3 = soup.find_all('p', class_ =\"success hide\") \n",
    "    for tag in other_tag3:\n",
    "        tag.decompose()\n",
    "\n",
    "\n",
    "    final = soup.find_all('p')\n",
    "    # text=''\n",
    "    # print(final)\n",
    "    finaltext = ''\n",
    "    for p in final:\n",
    "\n",
    "        try:\n",
    "            finaltext = finaltext + p.text\n",
    "            finaltext = finaltext.replace(u'\\xa0', u' ')\n",
    "        except:\n",
    "            continue\n",
    "    \n",
    "    data={'url': [url],'timestamp': [time], 'title': [title], 'text': [finaltext]}\n",
    "    df = pd.DataFrame(data)\n",
    "    dfs.append(df)\n"
   ]
  },
  {
   "cell_type": "code",
   "execution_count": 20,
   "metadata": {},
   "outputs": [],
   "source": [
    "full_df"
   ]
  },
  {
   "cell_type": "code",
   "execution_count": 21,
   "metadata": {},
   "outputs": [],
   "source": [
    "full_df = pd.concat(dfs).reset_index(drop=True)"
   ]
  },
  {
   "cell_type": "code",
   "execution_count": 22,
   "metadata": {},
   "outputs": [
    {
     "data": {
      "text/plain": [
       "'TUCKER CARLSON: If you really want to understand how powerful Big Pharma is, consider this | Fox News'"
      ]
     },
     "execution_count": 22,
     "metadata": {},
     "output_type": "execute_result"
    }
   ],
   "source": [
    "full_df.iloc[19,2]"
   ]
  },
  {
   "cell_type": "code",
   "execution_count": 23,
   "metadata": {},
   "outputs": [],
   "source": [
    "no_duplicates=full_df.drop_duplicates().reset_index(drop=True)"
   ]
  },
  {
   "cell_type": "code",
   "execution_count": 24,
   "metadata": {},
   "outputs": [
    {
     "data": {
      "text/plain": [
       "647"
      ]
     },
     "execution_count": 24,
     "metadata": {},
     "output_type": "execute_result"
    }
   ],
   "source": [
    "len(no_duplicates)"
   ]
  },
  {
   "cell_type": "code",
   "execution_count": 25,
   "metadata": {},
   "outputs": [
    {
     "data": {
      "text/html": [
       "<div>\n",
       "<style scoped>\n",
       "    .dataframe tbody tr th:only-of-type {\n",
       "        vertical-align: middle;\n",
       "    }\n",
       "\n",
       "    .dataframe tbody tr th {\n",
       "        vertical-align: top;\n",
       "    }\n",
       "\n",
       "    .dataframe thead th {\n",
       "        text-align: right;\n",
       "    }\n",
       "</style>\n",
       "<table border=\"1\" class=\"dataframe\">\n",
       "  <thead>\n",
       "    <tr style=\"text-align: right;\">\n",
       "      <th></th>\n",
       "      <th>url</th>\n",
       "      <th>timestamp</th>\n",
       "      <th>title</th>\n",
       "      <th>text</th>\n",
       "    </tr>\n",
       "  </thead>\n",
       "  <tbody>\n",
       "    <tr>\n",
       "      <th>0</th>\n",
       "      <td>https://www.foxnews.com/opinion/tucker-carlson...</td>\n",
       "      <td>February 9, 2023 10:19pm EST</td>\n",
       "      <td>TUCKER CARLSON: Self-defense is becoming illeg...</td>\n",
       "      <td>WARNING: Graphic footage—Fox News host Tucker ...</td>\n",
       "    </tr>\n",
       "    <tr>\n",
       "      <th>1</th>\n",
       "      <td>https://www.foxnews.com/opinion/tucker-carlson...</td>\n",
       "      <td>February 8, 2023 10:25pm EST</td>\n",
       "      <td>TUCKER CARLSON: The lies 'just kept coming' du...</td>\n",
       "      <td>Fox News host Tucker Carlson reacts to Presid...</td>\n",
       "    </tr>\n",
       "    <tr>\n",
       "      <th>2</th>\n",
       "      <td>https://www.foxnews.com/opinion/tucker-carlson...</td>\n",
       "      <td>February 7, 2023 10:51pm EST</td>\n",
       "      <td>TUCKER CARLSON: America's problems are fixable...</td>\n",
       "      <td>Fox News host Tucker Carlson breaks down the t...</td>\n",
       "    </tr>\n",
       "    <tr>\n",
       "      <th>3</th>\n",
       "      <td>https://www.foxnews.com/opinion/tucker-carlson...</td>\n",
       "      <td>February 6, 2023 9:33pm EST</td>\n",
       "      <td>TUCKER CARLSON: The people who owe you the tru...</td>\n",
       "      <td>Fox News host Tucker Carlson calls out the Bid...</td>\n",
       "    </tr>\n",
       "    <tr>\n",
       "      <th>4</th>\n",
       "      <td>https://www.foxnews.com/opinion/tucker-carlson...</td>\n",
       "      <td>February 3, 2023 9:59pm EST</td>\n",
       "      <td>TUCKER CARLSON: Biden administration's stance ...</td>\n",
       "      <td>Fox News host Tucker Carlson takes on the Bid...</td>\n",
       "    </tr>\n",
       "    <tr>\n",
       "      <th>...</th>\n",
       "      <td>...</td>\n",
       "      <td>...</td>\n",
       "      <td>...</td>\n",
       "      <td>...</td>\n",
       "    </tr>\n",
       "    <tr>\n",
       "      <th>642</th>\n",
       "      <td>https://www.foxnews.com/opinion/tucker-carlson...</td>\n",
       "      <td>November 19, 2019 1:30pm EST</td>\n",
       "      <td>Tucker Carlson: Media, federal government toug...</td>\n",
       "      <td>Stone found guilty on all seven counts; Epstei...</td>\n",
       "    </tr>\n",
       "    <tr>\n",
       "      <th>643</th>\n",
       "      <td>https://www.foxnews.com/opinion/tucker-carlson...</td>\n",
       "      <td>November 15, 2019 1:09pm EST</td>\n",
       "      <td>Tucker Carlson: Trump impeachment inquiry will...</td>\n",
       "      <td>Media goes into overdrive on impeachment heari...</td>\n",
       "    </tr>\n",
       "    <tr>\n",
       "      <th>644</th>\n",
       "      <td>https://www.foxnews.com/opinion/tucker-carlson...</td>\n",
       "      <td>November 14, 2019 9:24am EST</td>\n",
       "      <td>Tucker Carlson: It's never been clear what Dem...</td>\n",
       "      <td>First public impeachment hearings take place.I...</td>\n",
       "    </tr>\n",
       "    <tr>\n",
       "      <th>645</th>\n",
       "      <td>https://www.foxnews.com/opinion/tucker-carlson...</td>\n",
       "      <td>November 13, 2019 10:13am EST</td>\n",
       "      <td>Tucker Carlson: The end of free speech – What ...</td>\n",
       "      <td>Liberals working to crack down on the First Am...</td>\n",
       "    </tr>\n",
       "    <tr>\n",
       "      <th>646</th>\n",
       "      <td>https://www.foxnews.com/opinion/tucker-carlson...</td>\n",
       "      <td>November 12, 2019 10:08am EST</td>\n",
       "      <td>Tucker Carlson: Elizabeth Warren's enemies on ...</td>\n",
       "      <td>Warren's campaign backed by the same wealthy d...</td>\n",
       "    </tr>\n",
       "  </tbody>\n",
       "</table>\n",
       "<p>647 rows × 4 columns</p>\n",
       "</div>"
      ],
      "text/plain": [
       "                                                   url  \\\n",
       "0    https://www.foxnews.com/opinion/tucker-carlson...   \n",
       "1    https://www.foxnews.com/opinion/tucker-carlson...   \n",
       "2    https://www.foxnews.com/opinion/tucker-carlson...   \n",
       "3    https://www.foxnews.com/opinion/tucker-carlson...   \n",
       "4    https://www.foxnews.com/opinion/tucker-carlson...   \n",
       "..                                                 ...   \n",
       "642  https://www.foxnews.com/opinion/tucker-carlson...   \n",
       "643  https://www.foxnews.com/opinion/tucker-carlson...   \n",
       "644  https://www.foxnews.com/opinion/tucker-carlson...   \n",
       "645  https://www.foxnews.com/opinion/tucker-carlson...   \n",
       "646  https://www.foxnews.com/opinion/tucker-carlson...   \n",
       "\n",
       "                          timestamp  \\\n",
       "0      February 9, 2023 10:19pm EST   \n",
       "1      February 8, 2023 10:25pm EST   \n",
       "2      February 7, 2023 10:51pm EST   \n",
       "3       February 6, 2023 9:33pm EST   \n",
       "4       February 3, 2023 9:59pm EST   \n",
       "..                              ...   \n",
       "642    November 19, 2019 1:30pm EST   \n",
       "643    November 15, 2019 1:09pm EST   \n",
       "644    November 14, 2019 9:24am EST   \n",
       "645   November 13, 2019 10:13am EST   \n",
       "646   November 12, 2019 10:08am EST   \n",
       "\n",
       "                                                 title  \\\n",
       "0    TUCKER CARLSON: Self-defense is becoming illeg...   \n",
       "1    TUCKER CARLSON: The lies 'just kept coming' du...   \n",
       "2    TUCKER CARLSON: America's problems are fixable...   \n",
       "3    TUCKER CARLSON: The people who owe you the tru...   \n",
       "4    TUCKER CARLSON: Biden administration's stance ...   \n",
       "..                                                 ...   \n",
       "642  Tucker Carlson: Media, federal government toug...   \n",
       "643  Tucker Carlson: Trump impeachment inquiry will...   \n",
       "644  Tucker Carlson: It's never been clear what Dem...   \n",
       "645  Tucker Carlson: The end of free speech – What ...   \n",
       "646  Tucker Carlson: Elizabeth Warren's enemies on ...   \n",
       "\n",
       "                                                  text  \n",
       "0    WARNING: Graphic footage—Fox News host Tucker ...  \n",
       "1     Fox News host Tucker Carlson reacts to Presid...  \n",
       "2    Fox News host Tucker Carlson breaks down the t...  \n",
       "3    Fox News host Tucker Carlson calls out the Bid...  \n",
       "4     Fox News host Tucker Carlson takes on the Bid...  \n",
       "..                                                 ...  \n",
       "642  Stone found guilty on all seven counts; Epstei...  \n",
       "643  Media goes into overdrive on impeachment heari...  \n",
       "644  First public impeachment hearings take place.I...  \n",
       "645  Liberals working to crack down on the First Am...  \n",
       "646  Warren's campaign backed by the same wealthy d...  \n",
       "\n",
       "[647 rows x 4 columns]"
      ]
     },
     "execution_count": 25,
     "metadata": {},
     "output_type": "execute_result"
    }
   ],
   "source": [
    "no_duplicates"
   ]
  },
  {
   "cell_type": "code",
   "execution_count": 27,
   "metadata": {},
   "outputs": [],
   "source": [
    "no_duplicates.to_csv('Tucker_transcripts_2.10.23.tsv', sep=\"\\t\")"
   ]
  },
  {
   "cell_type": "code",
   "execution_count": null,
   "metadata": {},
   "outputs": [],
   "source": []
  },
  {
   "cell_type": "code",
   "execution_count": null,
   "metadata": {},
   "outputs": [],
   "source": []
  },
  {
   "cell_type": "code",
   "execution_count": null,
   "metadata": {},
   "outputs": [],
   "source": []
  },
  {
   "cell_type": "code",
   "execution_count": null,
   "metadata": {},
   "outputs": [],
   "source": []
  },
  {
   "cell_type": "code",
   "execution_count": null,
   "metadata": {},
   "outputs": [],
   "source": []
  },
  {
   "cell_type": "code",
   "execution_count": null,
   "metadata": {},
   "outputs": [],
   "source": []
  },
  {
   "cell_type": "code",
   "execution_count": null,
   "metadata": {},
   "outputs": [],
   "source": []
  },
  {
   "cell_type": "code",
   "execution_count": null,
   "metadata": {},
   "outputs": [],
   "source": []
  }
 ],
 "metadata": {
  "kernelspec": {
   "display_name": "Python 3 (ipykernel)",
   "language": "python",
   "name": "python3"
  },
  "language_info": {
   "codemirror_mode": {
    "name": "ipython",
    "version": 3
   },
   "file_extension": ".py",
   "mimetype": "text/x-python",
   "name": "python",
   "nbconvert_exporter": "python",
   "pygments_lexer": "ipython3",
   "version": "3.10.4"
  }
 },
 "nbformat": 4,
 "nbformat_minor": 4
}
