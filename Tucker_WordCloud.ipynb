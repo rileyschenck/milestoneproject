{
 "cells": [
  {
   "cell_type": "code",
   "execution_count": 1,
   "id": "58415de3-af2d-4eb4-9ab5-a0e2dd682b4f",
   "metadata": {},
   "outputs": [],
   "source": [
    "import pandas as pd"
   ]
  },
  {
   "cell_type": "code",
   "execution_count": 2,
   "id": "5cd05aac-5258-47a2-b9d1-c69a887a8f62",
   "metadata": {},
   "outputs": [],
   "source": [
    "\n",
    "\n",
    "data=pd.read_csv('Tucker_transcripts_2.5.23.tsv',sep='\\t').drop(columns = ['Unnamed: 0'])"
   ]
  },
  {
   "cell_type": "code",
   "execution_count": 3,
   "id": "88b85eea-8756-4cdf-8f4a-f98069966373",
   "metadata": {},
   "outputs": [
    {
     "data": {
      "text/html": [
       "<div>\n",
       "<style scoped>\n",
       "    .dataframe tbody tr th:only-of-type {\n",
       "        vertical-align: middle;\n",
       "    }\n",
       "\n",
       "    .dataframe tbody tr th {\n",
       "        vertical-align: top;\n",
       "    }\n",
       "\n",
       "    .dataframe thead th {\n",
       "        text-align: right;\n",
       "    }\n",
       "</style>\n",
       "<table border=\"1\" class=\"dataframe\">\n",
       "  <thead>\n",
       "    <tr style=\"text-align: right;\">\n",
       "      <th></th>\n",
       "      <th>url</th>\n",
       "      <th>timestamp</th>\n",
       "      <th>title</th>\n",
       "      <th>text</th>\n",
       "    </tr>\n",
       "  </thead>\n",
       "  <tbody>\n",
       "    <tr>\n",
       "      <th>0</th>\n",
       "      <td>https://www.foxnews.com/opinion/tucker-carlson...</td>\n",
       "      <td>February 3, 2023 9:59pm EST</td>\n",
       "      <td>TUCKER CARLSON: Biden administration's stance ...</td>\n",
       "      <td>Fox News host Tucker Carlson takes on the Bid...</td>\n",
       "    </tr>\n",
       "    <tr>\n",
       "      <th>1</th>\n",
       "      <td>https://www.foxnews.com/opinion/tucker-carlson...</td>\n",
       "      <td>February 2, 2023 10:32pm EST</td>\n",
       "      <td>TUCKER CARLSON: Hunter Biden versus laptop rep...</td>\n",
       "      <td>Fox News host Tucker Carlson weighs in on new ...</td>\n",
       "    </tr>\n",
       "    <tr>\n",
       "      <th>2</th>\n",
       "      <td>https://www.foxnews.com/opinion/tucker-carlson...</td>\n",
       "      <td>January 31, 2023 10:03pm EST</td>\n",
       "      <td>TUCKER CARLSON: Will we see a whole lot more o...</td>\n",
       "      <td>Fox News host Tucker Carlson weighs in on the...</td>\n",
       "    </tr>\n",
       "    <tr>\n",
       "      <th>3</th>\n",
       "      <td>https://www.foxnews.com/opinion/tucker-carlson...</td>\n",
       "      <td>January 30, 2023 9:49pm EST</td>\n",
       "      <td>TUCKER CARLSON: Why we're paranoid about the A...</td>\n",
       "      <td>Fox News host Tucker Carlson voices his concer...</td>\n",
       "    </tr>\n",
       "    <tr>\n",
       "      <th>4</th>\n",
       "      <td>https://www.foxnews.com/opinion/tucker-carlson...</td>\n",
       "      <td>January 27, 2023 9:52pm EST</td>\n",
       "      <td>TUCKER CARLSON: Another attempt by leaders of ...</td>\n",
       "      <td>WARNING-Graphic footage: Fox News host Tucker ...</td>\n",
       "    </tr>\n",
       "    <tr>\n",
       "      <th>...</th>\n",
       "      <td>...</td>\n",
       "      <td>...</td>\n",
       "      <td>...</td>\n",
       "      <td>...</td>\n",
       "    </tr>\n",
       "    <tr>\n",
       "      <th>316</th>\n",
       "      <td>https://www.foxnews.com/opinion/tucker-carlson...</td>\n",
       "      <td>July 1, 2021 1:12am EDT</td>\n",
       "      <td>Tucker Carlson: New York City elections are un...</td>\n",
       "      <td>'Tucker Carlson Tonight' host slams how 'dumb,...</td>\n",
       "    </tr>\n",
       "    <tr>\n",
       "      <th>317</th>\n",
       "      <td>https://www.foxnews.com/opinion/tucker-carlson...</td>\n",
       "      <td>June 30, 2021 12:13am EDT</td>\n",
       "      <td>Tucker Carlson: Only Texas has the ability to ...</td>\n",
       "      <td>'Tucker Carlson Tonight' host examines the ong...</td>\n",
       "    </tr>\n",
       "    <tr>\n",
       "      <th>318</th>\n",
       "      <td>https://www.foxnews.com/opinion/tucker-carlson...</td>\n",
       "      <td>June 29, 2021 1:00am EDT</td>\n",
       "      <td>Tucker Carlson: Abolishing the suburbs is majo...</td>\n",
       "      <td>'Tucker Carlson Tonight' host says Biden admin...</td>\n",
       "    </tr>\n",
       "    <tr>\n",
       "      <th>319</th>\n",
       "      <td>https://www.foxnews.com/opinion/tucker-carlson...</td>\n",
       "      <td>June 26, 2021 12:37am EDT</td>\n",
       "      <td>Tucker Carlson: The most sophisticated militar...</td>\n",
       "      <td>'Tucker Carlson Tonight' says Pentagon has cov...</td>\n",
       "    </tr>\n",
       "    <tr>\n",
       "      <th>320</th>\n",
       "      <td>https://www.foxnews.com/opinion/tucker-carlson...</td>\n",
       "      <td>June 24, 2021 10:52pm EDT</td>\n",
       "      <td>Tucker Carlson: If 'White rage' is a medical c...</td>\n",
       "      <td>'Tucker Carlson Tonight' host takes aim at Gen...</td>\n",
       "    </tr>\n",
       "  </tbody>\n",
       "</table>\n",
       "<p>321 rows × 4 columns</p>\n",
       "</div>"
      ],
      "text/plain": [
       "                                                   url  \\\n",
       "0    https://www.foxnews.com/opinion/tucker-carlson...   \n",
       "1    https://www.foxnews.com/opinion/tucker-carlson...   \n",
       "2    https://www.foxnews.com/opinion/tucker-carlson...   \n",
       "3    https://www.foxnews.com/opinion/tucker-carlson...   \n",
       "4    https://www.foxnews.com/opinion/tucker-carlson...   \n",
       "..                                                 ...   \n",
       "316  https://www.foxnews.com/opinion/tucker-carlson...   \n",
       "317  https://www.foxnews.com/opinion/tucker-carlson...   \n",
       "318  https://www.foxnews.com/opinion/tucker-carlson...   \n",
       "319  https://www.foxnews.com/opinion/tucker-carlson...   \n",
       "320  https://www.foxnews.com/opinion/tucker-carlson...   \n",
       "\n",
       "                         timestamp  \\\n",
       "0      February 3, 2023 9:59pm EST   \n",
       "1     February 2, 2023 10:32pm EST   \n",
       "2     January 31, 2023 10:03pm EST   \n",
       "3      January 30, 2023 9:49pm EST   \n",
       "4      January 27, 2023 9:52pm EST   \n",
       "..                             ...   \n",
       "316        July 1, 2021 1:12am EDT   \n",
       "317      June 30, 2021 12:13am EDT   \n",
       "318       June 29, 2021 1:00am EDT   \n",
       "319      June 26, 2021 12:37am EDT   \n",
       "320      June 24, 2021 10:52pm EDT   \n",
       "\n",
       "                                                 title  \\\n",
       "0    TUCKER CARLSON: Biden administration's stance ...   \n",
       "1    TUCKER CARLSON: Hunter Biden versus laptop rep...   \n",
       "2    TUCKER CARLSON: Will we see a whole lot more o...   \n",
       "3    TUCKER CARLSON: Why we're paranoid about the A...   \n",
       "4    TUCKER CARLSON: Another attempt by leaders of ...   \n",
       "..                                                 ...   \n",
       "316  Tucker Carlson: New York City elections are un...   \n",
       "317  Tucker Carlson: Only Texas has the ability to ...   \n",
       "318  Tucker Carlson: Abolishing the suburbs is majo...   \n",
       "319  Tucker Carlson: The most sophisticated militar...   \n",
       "320  Tucker Carlson: If 'White rage' is a medical c...   \n",
       "\n",
       "                                                  text  \n",
       "0     Fox News host Tucker Carlson takes on the Bid...  \n",
       "1    Fox News host Tucker Carlson weighs in on new ...  \n",
       "2     Fox News host Tucker Carlson weighs in on the...  \n",
       "3    Fox News host Tucker Carlson voices his concer...  \n",
       "4    WARNING-Graphic footage: Fox News host Tucker ...  \n",
       "..                                                 ...  \n",
       "316  'Tucker Carlson Tonight' host slams how 'dumb,...  \n",
       "317  'Tucker Carlson Tonight' host examines the ong...  \n",
       "318  'Tucker Carlson Tonight' host says Biden admin...  \n",
       "319  'Tucker Carlson Tonight' says Pentagon has cov...  \n",
       "320  'Tucker Carlson Tonight' host takes aim at Gen...  \n",
       "\n",
       "[321 rows x 4 columns]"
      ]
     },
     "execution_count": 3,
     "metadata": {},
     "output_type": "execute_result"
    }
   ],
   "source": [
    "data"
   ]
  },
  {
   "cell_type": "code",
   "execution_count": 5,
   "id": "395b0353-efbc-4348-9457-13a3822d0c1d",
   "metadata": {},
   "outputs": [
    {
     "data": {
      "text/plain": [
       "0     fox news host tucker carlson takes on the bid...\n",
       "1    fox news host tucker carlson weighs in on new ...\n",
       "2     fox news host tucker carlson weighs in on the...\n",
       "3    fox news host tucker carlson voices his concer...\n",
       "4    warning-graphic footage: fox news host tucker ...\n",
       "Name: text_processed, dtype: object"
      ]
     },
     "execution_count": 5,
     "metadata": {},
     "output_type": "execute_result"
    }
   ],
   "source": [
    "# Load the regular expression library\n",
    "import re\n",
    "# Remove punctuation\n",
    "data['text_processed'] = \\\n",
    "data['text'].map(lambda x: re.sub('[,\\.!?]', '', x))\n",
    "# Convert the titles to lowercase\n",
    "data['text_processed'] = \\\n",
    "data['text_processed'].map(lambda x: x.lower())\n",
    "# Print out the first rows of papers\n",
    "data['text_processed'].head()"
   ]
  },
  {
   "cell_type": "code",
   "execution_count": null,
   "id": "c74b85c4-1131-4ae0-80b9-f0bbbb070491",
   "metadata": {},
   "outputs": [],
   "source": [
    "#pip install WordCloud"
   ]
  },
  {
   "cell_type": "code",
   "execution_count": 7,
   "id": "2dde6c46-37f8-4d4f-8dfe-7d299cacf495",
   "metadata": {},
   "outputs": [],
   "source": [
    "# Import the wordcloud library\n",
    "from wordcloud import WordCloud\n",
    "# Join the different processed titles together.\n",
    "#long_string = ','.join(list(papers['text_processed'].values))\n",
    "l = []\n",
    "for index in data.index:\n",
    "    #print(index)\n",
    "    \n",
    "    long_string = data['text_processed'][index]\n",
    "\n",
    "    # Create a WordCloud object\n",
    "    wordcloud = WordCloud(background_color=\"white\", max_words=5000, contour_width=3, contour_color='steelblue')\n",
    "    # Generate a word cloud\n",
    "    wordcloud.generate(long_string)\n",
    "    # add wordcloud image to 'l' list    \n",
    "    l.append(wordcloud.to_image())"
   ]
  },
  {
   "cell_type": "code",
   "execution_count": 11,
   "id": "2e363b9f-cce4-4084-829d-13be16dbce92",
   "metadata": {},
   "outputs": [],
   "source": [
    "#make new column in data df off of 'l' list \n",
    "data['img'] = l"
   ]
  },
  {
   "cell_type": "code",
   "execution_count": 12,
   "id": "9778cf04-511c-4e1f-b2d2-854d6f571c11",
   "metadata": {},
   "outputs": [
    {
     "data": {
      "image/png": "[encoded data removed]",
      "text/plain": [
       "<PIL.Image.Image image mode=RGB size=400x200>"
      ]
     },
     "execution_count": 12,
     "metadata": {},
     "output_type": "execute_result"
    }
   ],
   "source": [
    "#if you index any image cell it will display the image\n",
    "\n",
    "data['img'][20]"
   ]
  },
  {
   "cell_type": "code",
   "execution_count": null,
   "id": "e8669cc6-c6e0-43de-a87a-67110b951ae2",
   "metadata": {},
   "outputs": [],
   "source": []
  },
  {
   "cell_type": "code",
   "execution_count": null,
   "id": "e82c5859-addd-4967-9710-5e09f438e2f3",
   "metadata": {},
   "outputs": [],
   "source": []
  },
  {
   "cell_type": "code",
   "execution_count": null,
   "id": "dc5cd448-7539-4c66-89a8-1a5f6321d121",
   "metadata": {},
   "outputs": [],
   "source": []
  },
  {
   "cell_type": "markdown",
   "id": "8ab98e9b-8461-4d9e-96b7-e4190adb1a73",
   "metadata": {},
   "source": [
    "Messing around with Genism and NLTK:"
   ]
  },
  {
   "cell_type": "code",
   "execution_count": null,
   "id": "93ac30da-43ae-4680-b1d6-ff0a01be7e4a",
   "metadata": {},
   "outputs": [],
   "source": [
    "#pip install gensim\n",
    "#pip install nltk"
   ]
  },
  {
   "cell_type": "code",
   "execution_count": null,
   "id": "6e518abd-477c-4820-ae5c-79c1f378c134",
   "metadata": {},
   "outputs": [],
   "source": [
    "import gensim\n",
    "from gensim.utils import simple_preprocess\n",
    "from gensim.parsing.preprocessing import STOPWORDS\n",
    "from nltk.stem import WordNetLemmatizer, SnowballStemmer\n",
    "from nltk.stem.porter import *\n",
    "import numpy as np\n",
    "np.random.seed(400)"
   ]
  },
  {
   "cell_type": "code",
   "execution_count": null,
   "id": "044a57c1-f419-4115-8aed-74e6d299ad84",
   "metadata": {},
   "outputs": [],
   "source": [
    "nltk.download('wordnet')"
   ]
  },
  {
   "cell_type": "code",
   "execution_count": null,
   "id": "75e3e3dd-a822-4032-8241-2b412f19927f",
   "metadata": {},
   "outputs": [],
   "source": [
    "stop_words = stopwords.words('english')\n",
    "stop_words.extend(['from', 'tucker', 'carlson', 'fox', 'news', 'channel', 'host', 'evening', 'welcome', 'tonight'])\n",
    "\n",
    "stemmer = SnowballStemmer(\"english\")\n",
    "def lemmatize_stemming(text):\n",
    "    return stemmer.stem(WordNetLemmatizer().lemmatize(text, pos='v'))\n",
    "\n",
    "# Tokenize and lemmatize\n",
    "def preprocess(text):\n",
    "    result=[]\n",
    "    for token in gensim.utils.simple_preprocess(text) :\n",
    "        if token not in gensim.parsing.preprocessing.STOPWORDS and token not in stop_words and len(token) > 3:\n",
    "\n",
    "            result.append(lemmatize_stemming(token))\n",
    "            \n",
    "    return result"
   ]
  },
  {
   "cell_type": "code",
   "execution_count": null,
   "id": "96b1fbaa-0fc3-4655-9de4-41f1c3dc754c",
   "metadata": {},
   "outputs": [],
   "source": [
    "'''\n",
    "Preview a document after preprocessing\n",
    "'''\n",
    "document_num = 50\n",
    "doc_sample = 'This disk has failed many times. I would like to get it replaced.'\n",
    "\n",
    "print(\"Original document: \")\n",
    "words = []\n",
    "for word in doc_sample.split(' '):\n",
    "    words.append(word)\n",
    "print(words)\n",
    "print(\"\\n\\nTokenized and lemmatized document: \")\n",
    "print(preprocess(doc_sample))"
   ]
  },
  {
   "cell_type": "code",
   "execution_count": null,
   "id": "00aa5b92-8501-429d-b883-ba46ade777ad",
   "metadata": {},
   "outputs": [],
   "source": [
    "ep1 =  papers['text_processed'][0]\n",
    "ep1_preprocessed = preprocess(ep1)\n",
    "#ep1_preprocessed"
   ]
  },
  {
   "cell_type": "code",
   "execution_count": null,
   "id": "c7a1ecbb-6689-4da8-9c18-317f1a9e7ceb",
   "metadata": {},
   "outputs": [],
   "source": [
    "processed_docs = []\n",
    "\n",
    "for transcript in papers.text_processed:\n",
    "    processed_docs.append(preprocess(transcript))"
   ]
  },
  {
   "cell_type": "code",
   "execution_count": null,
   "id": "3915d09d-1b8e-4b9e-ae8f-b16c793e73bf",
   "metadata": {},
   "outputs": [],
   "source": [
    "'''\n",
    "Preview 'processed_docs'\n",
    "'''\n",
    "#print(processed_docs[:2])\n",
    "\n"
   ]
  },
  {
   "cell_type": "code",
   "execution_count": null,
   "id": "fd817a74-b680-4033-9676-3d789ba59c38",
   "metadata": {},
   "outputs": [],
   "source": [
    "dictionary = gensim.corpora.Dictionary(processed_docs)"
   ]
  },
  {
   "cell_type": "code",
   "execution_count": null,
   "id": "8a2dc72b-351a-4590-a3a0-06a9209960b7",
   "metadata": {},
   "outputs": [],
   "source": [
    "\n",
    "'''\n",
    "Checking dictionary created\n",
    "'''\n",
    "count = 0\n",
    "for k, v in dictionary.iteritems():\n",
    "    print(k, v)\n",
    "    count += 1\n",
    "    # if count > 10:\n",
    "    #     break"
   ]
  },
  {
   "cell_type": "code",
   "execution_count": null,
   "id": "bf945d9a-6bf4-4964-8d5d-8df8aaaa1cae",
   "metadata": {},
   "outputs": [],
   "source": [
    "'''\n",
    "Create the Bag-of-words model for each document i.e for each document we create a dictionary reporting how many\n",
    "words and how many times those words appear. Save this to 'bow_corpus'\n",
    "'''\n",
    "bow_corpus = [dictionary.doc2bow(doc) for doc in processed_docs]"
   ]
  },
  {
   "cell_type": "code",
   "execution_count": null,
   "id": "e9db4f35-6b0b-4949-bd82-48c33e510ff3",
   "metadata": {},
   "outputs": [],
   "source": [
    "'''\n",
    "Preview BOW for our sample preprocessed document\n",
    "'''\n",
    "document_num = 1\n",
    "bow_doc_x = bow_corpus[document_num]\n",
    "\n",
    "# for i in range(len(bow_doc_x)):\n",
    "#     print(\"Word {} (\\\"{}\\\") appears {} time.\".format(bow_doc_x[i][0], \n",
    "#                                                      dictionary[bow_doc_x[i][0]], \n",
    "#                                                      bow_doc_x[i][1]))"
   ]
  },
  {
   "cell_type": "code",
   "execution_count": null,
   "id": "0b373867-7b99-4b2f-acf7-67dae642faf8",
   "metadata": {},
   "outputs": [],
   "source": [
    "'''\n",
    "Train your lda model using gensim.models.LdaMulticore and save it to 'lda_model'\n",
    "'''\n",
    "# TODO\n",
    "lda_model =  gensim.models.LdaMulticore(bow_corpus, \n",
    "                                   num_topics = 15, \n",
    "                                   id2word = dictionary,                                    \n",
    "                                   passes = 10,\n",
    "                                   workers = 2)"
   ]
  },
  {
   "cell_type": "code",
   "execution_count": null,
   "id": "3ad6020c-efee-47df-b6cf-f198d932c750",
   "metadata": {},
   "outputs": [],
   "source": [
    "'''\n",
    "For each topic, we will explore the words occuring in that topic and its relative weight\n",
    "'''\n",
    "for idx, topic in lda_model.print_topics(-1):\n",
    "    print(\"Topic: {} \\nWords: {}\".format(idx, topic ))\n",
    "    print(\"\\n\")"
   ]
  },
  {
   "cell_type": "code",
   "execution_count": null,
   "id": "68c7805f-f064-4547-843f-fc6cc4c5de6b",
   "metadata": {},
   "outputs": [],
   "source": []
  },
  {
   "cell_type": "code",
   "execution_count": null,
   "id": "dc604168-2aa8-458f-a0e7-ab009f45b1ea",
   "metadata": {},
   "outputs": [],
   "source": [
    "import gensim\n",
    "from gensim.utils import simple_preprocess\n",
    "import nltk\n",
    "nltk.download('stopwords')\n",
    "from nltk.corpus import stopwords\n",
    "stop_words = stopwords.words('english')\n",
    "stop_words.extend(['from', 'tucker', 'carlson', 'fox', 'news', 'channel', 'host', 'evening', 'welcome', 'tonight'])\n",
    "def sent_to_words(sentences):\n",
    "    for sentence in sentences:\n",
    "        # deacc=True removes punctuations\n",
    "        yield(gensim.utils.simple_preprocess(str(sentence), deacc=True))\n",
    "def remove_stopwords(texts):\n",
    "    return [[word for word in simple_preprocess(str(doc)) \n",
    "             if word not in stop_words] for doc in texts]\n",
    "\n",
    "\n",
    "data = papers.text_processed.values.tolist()\n",
    "print(data)\n",
    "data_words = list(sent_to_words(data))\n",
    "# remove stop words\n",
    "data_words = remove_stopwords(data_words)\n",
    "print(data_words[:1][0][:30])"
   ]
  },
  {
   "cell_type": "code",
   "execution_count": null,
   "id": "5875fc67-14e7-41c6-9f05-87244befb430",
   "metadata": {},
   "outputs": [],
   "source": []
  }
 ],
 "metadata": {
  "kernelspec": {
   "display_name": "Python 3 (ipykernel)",
   "language": "python",
   "name": "python3"
  },
  "language_info": {
   "codemirror_mode": {
    "name": "ipython",
    "version": 3
   },
   "file_extension": ".py",
   "mimetype": "text/x-python",
   "name": "python",
   "nbconvert_exporter": "python",
   "pygments_lexer": "ipython3",
   "version": "3.10.4"
  }
 },
 "nbformat": 4,
 "nbformat_minor": 5
}
