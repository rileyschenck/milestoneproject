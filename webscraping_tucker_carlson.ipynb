{
 "cells": [
  {
   "cell_type": "code",
   "execution_count": 1,
   "metadata": {},
   "outputs": [],
   "source": [
    "#pip install --upgrade pip\n"
   ]
  },
  {
   "cell_type": "code",
   "execution_count": 2,
   "metadata": {},
   "outputs": [],
   "source": [
    "#pip install html5lib"
   ]
  },
  {
   "cell_type": "code",
   "execution_count": 3,
   "metadata": {},
   "outputs": [],
   "source": [
    "#pip install selenium"
   ]
  },
  {
   "cell_type": "code",
   "execution_count": 4,
   "metadata": {},
   "outputs": [],
   "source": [
    "#pip install bs4"
   ]
  },
  {
   "cell_type": "code",
   "execution_count": 5,
   "metadata": {},
   "outputs": [],
   "source": [
    "import pandas as pd\n",
    "import requests\n",
    "import urllib.request\n",
    "import time\n",
    "from bs4 import BeautifulSoup\n",
    "import re\n",
    "\n",
    "from selenium import webdriver\n",
    "from selenium.webdriver.common.keys import Keys\n",
    "from selenium.webdriver.common.by import By\n",
    "\n"
   ]
  },
  {
   "cell_type": "code",
   "execution_count": 1,
   "metadata": {},
   "outputs": [
    {
     "name": "stderr",
     "output_type": "stream",
     "text": [
      "\n",
      "KeyboardInterrupt\n",
      "\n"
     ]
    }
   ],
   "source": [
    "\n",
    "\n",
    "driver = webdriver.Chrome()\n",
    "driver.get(\"https://www.foxnews.com/category/shows/tucker-carlson-tonight/transcript\")\n",
    "button = driver.find_element(By.XPATH, \"//div[@class='button load-more js-load-more']\") \n",
    "x = 0\n",
    "for x in range(142):\n",
    "    button.click()    \n",
    "    time.sleep(1)\n",
    "    x+=1\n",
    "    #print(x)\n",
    "page_source = driver.page_source # save the source to feed to beautiful soup \n",
    "print(\"saved\")"
   ]
  },
  {
   "cell_type": "code",
   "execution_count": 7,
   "metadata": {},
   "outputs": [],
   "source": [
    "soup = BeautifulSoup(page_source)\n"
   ]
  },
  {
   "cell_type": "code",
   "execution_count": 8,
   "metadata": {},
   "outputs": [],
   "source": [
    "url_soup = soup.find_all('a', href=re.compile('/opinion/.*'))"
   ]
  },
  {
   "cell_type": "code",
   "execution_count": 10,
   "metadata": {},
   "outputs": [],
   "source": [
    "url_list = []\n",
    "prefix = 'https://www.foxnews.com/'\n",
    "for link in url_soup: \n",
    "    suffix = re.findall('\\\"\\/(.*?)\\\"', str(link))\n",
    "    if suffix:\n",
    "        url_list.append(prefix + suffix[0])\n",
    "    "
   ]
  },
  {
   "cell_type": "code",
   "execution_count": 17,
   "metadata": {},
   "outputs": [],
   "source": [
    "url_list  = [*set(url_list)] "
   ]
  },
  {
   "cell_type": "code",
   "execution_count": 34,
   "metadata": {},
   "outputs": [
    {
     "name": "stdout",
     "output_type": "stream",
     "text": [
      "Fox News host gives his take on pro-abortion protesters targeting Supreme Court justices over the possible overturn of Roe v. Wade on 'Tucker Carlson Tonight.'\n",
      "\n",
      "It's pretty hard to argue with people who are passive-aggressive. You may have tried it before. \"Why are you so angry?\" they scream. \"Stop being violent,\" they snarl as they punch you in the face. Passive-aggressive people are intent on dominating you, but they're too dishonest to admit it.  \n",
      "\n",
      "Now, it's not an honorable style of attack, but it's very effective, mostly because it's so bewildering. The Democratic Party practices this. Democrats will never meet you on an open field of battle. Instead, they will sneak up behind you and knock you unconscious with a bag of sanctimony. This is the party of weak men and angry women, so passive aggression is their only mode of communication. If you've ever seen one of Jen Psaki's press conferences, you know exactly what we're talking about. \n",
      "\n",
      "We watched one of them yesterday, in fact. It was her last. Peter Doocy asked Psaki what the administration thinks of the fact that liberal groups have posted the home addresses of conservative Supreme Court justices on the internet. Now, why are they doing this? Well, it's obvious why they're doing it and no one denies why they're doing it. They're doing it in order to frighten those justices into changing their votes on Roe v. Wade. Now, that's illegal. It's very clearly a federal crime. It's also, by the way, the road to chaos and collapse. \n",
      "\n",
      "You can't allow angry mobs to make your country's laws. That's why we banned lynching, but Jen Psaki did not have a problem with this. People are understandably upset with Sam Alito's views, she said, so you shouldn't be surprised they want to express that concern in person by screaming at Sam Alito and his family. \"I don't have an official U.S. government position on where people should protest.\" Really, Jen Psaki? Are those the rules now? How would you feel if angry protesters showed up outside, say, Michelle Obama's house?  \n",
      "\n",
      "Of course, they'd be thrown into thumbscrews within minutes and charged with racism and you would applaud as they languished in jail. But conservative Supreme Court justices? No, that's a different story because conservative Supreme Court justices deserve it. That's Jen Psaki's position, but it is not, in fact, since we've been speaking of this topic, the official position of the U.S. government.  \n",
      "\n",
      "No, according to 18 U.S, Code 1507, the official position of the U.S. government is you're not allowed to intimidate judges, period: \"Whoever with the intent of interfering with, obstructing or impeding the administration of justice, or with the intent of influencing any judge, juror, witness or court officer in the discharge of his duty, pickets or parades in or near a building, housing a court of the United States or in or near a building or residence occupied or used by such judge, juror, witness or court officer, or with such intent, uses any sound truck or similar device or resorts to any other demonstration in or near any such building or residence shall be fined or imprisoned.\"  \n",
      "\n",
      "So, it's very clearly a crime. Jen Psaki either didn't know this or far more likely didn't care because as far as the Biden administration is concerned, Justice Alito is responsible for the threats against his family. If you don't want to be targeted by a mob that don't write opinions, the mob doesn't like, dumbo. You did this to yourself. It's your fault we're hurting you.\n",
      "\n",
      "That's always the position of passive-aggressive people and it's the position of the passive-aggressive party. So, we recognized it immediately because we watch this stuff for a living, and then we saw this, and it made us think. This ran on CNN this morning.  \n",
      "\n",
      "Now, for days, we have assumed, based on quite a bit of evidence, that the main threat to Supreme Court justices right now and to our justice system itself comes from groups of activist liberals who are enraged by the idea that Roe v. Wade might be repealed. These are the people who are spray-painting churches and are putting Sam Alito's home address on the internet. They're the mob, and they're angry, and we know why they're angry. \n",
      "\n",
      "So, the whole thing made sense to us, but according to CNN, that's not what's happening. In fact, it's the opposite of what's happening. The real threat, CNN informed us this morning, comes not from people who are angry about Sam Alito's opinion, but from people who are happy about it. So, the ones who are celebrating what Sam Alito wrote are the ones who are the real danger to the Supreme Court. Watch. \n",
      "\n",
      "You got that? Law enforcement sources tell CNN the real threat here is the far right. The far-right? Fences are going up outside the Supreme Court because the far-right poses a threat. The far-right is the one you have to watch out for. They're the ones whose electronic communications you've got to \" monitor closely.\"\n",
      "\n",
      "And that makes sense. Now that Roe v. Wade may be going away, these people are going to want to bomb as many abortion clinics as they can and hurt as many Supreme Court justices as possible. After all, the Supreme Court may get rid of a law that they have hated for 50 years. So, you can see why they would be moved to violence against the Supreme Court. \n",
      "\n",
      "Now, our first response to this was to laugh. It seems too absurd to be real. How dumb do they think we are? And then we remembered what the President of the United States and his attorney general have been telling us for more than a year. They've been telling us that no matter what happens, no matter what it may look like, the people who did it didn't vote for us. Yeah. The people who didn't vote for us are the dangerous ones. It's always their fault. Watch.  \n",
      "\n",
      "\"Not al-Qaeda, White supremacy.\" So, when we reviewed those tapes, it started to make sense. Like the Mongols and the Visigoths before them, these dreaded White supremacists have declared war on civilization, these Trump voters, and the evidence that is all around us. We've just ignored it because in some level, we don't want to know, but in retrospect, it was always right in front of us. You recall when Trump voters looted that Macy's in New York City. They couldn't help themselves. That's who they are. Then they torched a police precinct in Minneapolis, the very symbol of the law, they set it on fire. And then they burned a federal building in Portland, Oregon.  \n",
      "\n",
      "In case you've forgotten what all of these right-wing attacks look like from White supremacists, here's what they did.  \n",
      "\n",
      "So, you can see why they're putting up barriers in front of the Supreme Court. Those people are so happy with Sam Alito's opinion, they might start burning and looting again and of course, that would be consistent with the years-long reign of right-wing terror we've been living through because their thirst for anarchy and chaos is never sated. At one point, these Trump voters seceded from the United States. They set up their own nation of lawlessness, drugs and squalor and violence within the very city limits of Seattle, just like the Confederates of 1861, but with more weed and spray paint—right in the middle of Seattle. Talk about brazen, but that's who they are. That could happen in your town. \n",
      "\n",
      "No wonder America's abortionist community is cowering in fear tonight, and it gets worse. These MAGA people have so little respect for law and order, they think nothing of rushing into buildings, department stores, Walgreens, liquor stores, Foot Locker and just taking what they want. They steal armfuls of merchandise off the shelves and walk out the door like it's theirs and then purely to amuse themselves, they push strangers in front of trains and open fire on subway cars. They drive trucks through Christmas parades and beat elderly Asian women on the street. You can't control these people because they're beyond the reach of logic.  \n",
      "\n",
      "They are so primitive and superstitious, they have come to believe they can defeat nature itself with magic amulets like cosmetics and women's clothing. They think they're shapeshifters who can change their physical form at will and just become something different. You're seeing one on your screen right now. \n",
      "\n",
      "People like this don't believe in history or science. They're barely literate, so they communicate instead in grunts and unintelligible sounds. Here's the leader, the chief of their tribe, speaking in a language only they can understand:\n",
      "\n",
      "What did he just say? We don't know. You'd have to be a right supremacist MAGA person to understand. It's an esoteric language. These primitives adorn their bodies with fantastic decorations. They dress in costume. Some even push pieces of metal through their faces in order to look fierce. Look at them in their war paint.  \n",
      "\n",
      "Margaret Mead wrote about people like this, antisocial elements that are a feature of any society, but in our case, the MAGA people number in the millions. You saw just a few on your screen and because there are so many, they threaten the very foundations of our civil society, just like Alejandro Mayorkas and the attorney general have warned us. They are so powerful that courts and legislators bow before their rage.  \n",
      "\n",
      "Prosecutors can't even restrain them, but instead do their bidding. Why? Because they're afraid not to.\n",
      "\n",
      "Do you remember what the MAGA people did to Minneapolis when a jury dared to convict their spiritual leader, Derek Chauvin? The MAGA people stormed the jail, freed Chauvin. They carried him on their shoulders back to their guerrilla camps in the mountains where they danced rampantly before bonfires made of back issues of the Atlantic magazine, howling into the night sky, and then, as an indelible lesson to the rest of us, they returned to the city of Minneapolis and sacked it because that's what they do when they don't agree with the jury decision, they riot.\n",
      "\n",
      "That's what the MAGA people are like and that's why they're the greatest threat we face. Do you remember that moment? We saved the tape. Ladies and gentlemen, here are the MAGA people.  \n",
      "\n",
      "We'd play more, but it's stomachturning. Ask Jen Psaki what it looked like. She's never recovered from it.  \n",
      "\n",
      "\n"
     ]
    }
   ],
   "source": [
    "# verifying for one instance\n",
    "url = url_list[100]\n",
    "#url = 'https://www.foxnews.com/opinion/tucker-carlson-faa-travel-pete-buttigieg'\n",
    "response = requests.get(url)\n",
    "soup = BeautifulSoup(response.content)\n",
    "title = soup.title.string\n",
    "\n",
    "a_tag = soup.find_all('a')\n",
    "for tag in a_tag:\n",
    "    tag.decompose()\n",
    "\n",
    "copy_tag = soup.find_all('p', class_ = \"copyright\")\n",
    "for tag in copy_tag:\n",
    "    tag.decompose()\n",
    "    \n",
    "span_tag = soup.find_all('span')\n",
    "for tag in span_tag:\n",
    "    tag.decompose()\n",
    "    \n",
    "bold_tag = soup.find_all('strong') \n",
    "for tag in bold_tag:\n",
    "    tag.decompose()\n",
    "    \n",
    "italic_tag=soup.find_all('i') \n",
    "for tag in italic_tag:\n",
    "    tag.decompose()\n",
    "\n",
    "other_tag = soup.find_all('p', class_ =\"dek\")\n",
    "for tag in other_tag:\n",
    "    tag.decompose()\n",
    "    \n",
    "other_tag2 = soup.find_all('p', class_ =\"subscribed hide\")\n",
    "for tag in other_tag2:\n",
    "    tag.decompose()\n",
    "    \n",
    "other_tag3 = soup.find_all('p', class_ =\"success hide\") \n",
    "for tag in other_tag3:\n",
    "    tag.decompose()\n",
    "\n",
    "\n",
    "\n",
    "final = soup.find_all('p')\n",
    "\n",
    "finaltext = \"\"\n",
    "for p in final:\n",
    "\n",
    "    try:\n",
    "        if len(p.text) > 1:\n",
    "            finaltext = finaltext + p.text + '\\n'+ '\\n'\n",
    "            finaltext = finaltext.replace('\\xa0', ' ')\n",
    "\n",
    "    except:\n",
    "        continue\n",
    "print(finaltext)\n"
   ]
  },
  {
   "cell_type": "code",
   "execution_count": 37,
   "metadata": {},
   "outputs": [],
   "source": [
    "\n",
    "full_df = None\n",
    "dfs = []\n",
    "\n",
    "for n, url in enumerate(url_list):\n",
    "    response = requests.get(url)\n",
    "    soup = BeautifulSoup(response.content, 'html.parser')\n",
    "    time = soup.find('time').text\n",
    "    title = soup.title.string\n",
    "\n",
    "    a_tag = soup.find_all('a')\n",
    "    for tag in a_tag:\n",
    "        tag.decompose()\n",
    "\n",
    "    copy_tag = soup.find_all('p', class_ = \"copyright\")\n",
    "    for tag in copy_tag:\n",
    "        tag.decompose()\n",
    "\n",
    "    span_tag = soup.find_all('span')\n",
    "    for tag in span_tag:\n",
    "        tag.decompose()\n",
    "\n",
    "    bold_tag = soup.find_all('strong') \n",
    "    for tag in bold_tag:\n",
    "        tag.decompose()\n",
    "\n",
    "    italic_tag=soup.find_all('i') \n",
    "    for tag in italic_tag:\n",
    "        tag.decompose()\n",
    "\n",
    "    other_tag = soup.find_all('p', class_ =\"dek\")\n",
    "    for tag in other_tag:\n",
    "        tag.decompose()\n",
    "\n",
    "    other_tag2 = soup.find_all('p', class_ =\"subscribed hide\")\n",
    "    for tag in other_tag2:\n",
    "        tag.decompose()\n",
    "\n",
    "    other_tag3 = soup.find_all('p', class_ =\"success hide\") \n",
    "    for tag in other_tag3:\n",
    "        tag.decompose()\n",
    "\n",
    "\n",
    "    final = soup.find_all('p')\n",
    "    # text=''\n",
    "    # print(final)\n",
    "    finaltext = ''\n",
    "    for p in final:\n",
    "        try:\n",
    "            if len(p.text) > 1:\n",
    "                finaltext = finaltext + p.text + '\\n'+ '\\n'\n",
    "                finaltext = finaltext.replace('\\xa0', ' ')\n",
    "\n",
    "        except:\n",
    "            continue\n",
    "    \n",
    "    data={'url': [url],'timestamp': [time], 'title': [title], 'transcript': [finaltext]}\n",
    "    df = pd.DataFrame(data)\n",
    "    dfs.append(df)\n",
    "\n",
    "full_df = pd.concat(dfs).reset_index(drop=True)"
   ]
  },
  {
   "cell_type": "code",
   "execution_count": 49,
   "metadata": {},
   "outputs": [
    {
     "name": "stderr",
     "output_type": "stream",
     "text": [
      "C:\\Users\\Owner\\AppData\\Local\\Programs\\Python\\Python310\\lib\\site-packages\\dateutil\\parser\\_parser.py:1207: UnknownTimezoneWarning: tzname EDT identified but not understood.  Pass `tzinfos` argument in order to correctly return a timezone-aware datetime.  In a future version, this will raise an exception.\n",
      "  warnings.warn(\"tzname {tzname} identified but not understood.  \"\n",
      "C:\\Users\\Owner\\AppData\\Local\\Programs\\Python\\Python310\\lib\\site-packages\\dateutil\\parser\\_parser.py:1207: UnknownTimezoneWarning: tzname EST identified but not understood.  Pass `tzinfos` argument in order to correctly return a timezone-aware datetime.  In a future version, this will raise an exception.\n",
      "  warnings.warn(\"tzname {tzname} identified but not understood.  \"\n"
     ]
    }
   ],
   "source": [
    "full_df['timestamp'] = pd.to_datetime(full_df['timestamp'])"
   ]
  },
  {
   "cell_type": "code",
   "execution_count": 53,
   "metadata": {},
   "outputs": [],
   "source": [
    "full_df=full_df.sort_values(by=['timestamp']).reset_index(drop=True)"
   ]
  },
  {
   "cell_type": "code",
   "execution_count": 56,
   "metadata": {},
   "outputs": [],
   "source": [
    "full_df.to_csv('Tucker_transcripts.tsv', sep=\"\\t\")"
   ]
  },
  {
   "cell_type": "code",
   "execution_count": null,
   "metadata": {},
   "outputs": [],
   "source": []
  },
  {
   "cell_type": "code",
   "execution_count": null,
   "metadata": {},
   "outputs": [],
   "source": []
  },
  {
   "cell_type": "code",
   "execution_count": null,
   "metadata": {},
   "outputs": [],
   "source": []
  },
  {
   "cell_type": "code",
   "execution_count": null,
   "metadata": {},
   "outputs": [],
   "source": []
  },
  {
   "cell_type": "code",
   "execution_count": null,
   "metadata": {},
   "outputs": [],
   "source": []
  },
  {
   "cell_type": "code",
   "execution_count": null,
   "metadata": {},
   "outputs": [],
   "source": []
  },
  {
   "cell_type": "code",
   "execution_count": null,
   "metadata": {},
   "outputs": [],
   "source": []
  },
  {
   "cell_type": "code",
   "execution_count": null,
   "metadata": {},
   "outputs": [],
   "source": []
  }
 ],
 "metadata": {
  "kernelspec": {
   "display_name": "Python 3 (ipykernel)",
   "language": "python",
   "name": "python3"
  },
  "language_info": {
   "codemirror_mode": {
    "name": "ipython",
    "version": 3
   },
   "file_extension": ".py",
   "mimetype": "text/x-python",
   "name": "python",
   "nbconvert_exporter": "python",
   "pygments_lexer": "ipython3",
   "version": "3.10.4"
  }
 },
 "nbformat": 4,
 "nbformat_minor": 4
}
